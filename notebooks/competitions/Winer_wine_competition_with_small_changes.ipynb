{
  "cells": [
    {
      "cell_type": "markdown",
      "metadata": {
        "id": "view-in-github",
        "colab_type": "text"
      },
      "source": [
        "<a href=\"https://colab.research.google.com/github/rsanchezgarc/AI-ML-analytics-IE/blob/main/notebooks/competitions/Winer_wine_competition_with_small_changes.ipynb\" target=\"_parent\"><img src=\"https://colab.research.google.com/assets/colab-badge.svg\" alt=\"Open In Colab\"/></a>"
      ]
    },
    {
      "cell_type": "code",
      "source": [
        "!pip install optuna lightgbm\n",
        "!pip install optuna-integration[xgboost]"
      ],
      "metadata": {
        "colab": {
          "base_uri": "https://localhost:8080/"
        },
        "id": "PTgfbQLJOMV1",
        "outputId": "925e9b27-8a42-48d0-b7d6-2b499f0992c0"
      },
      "execution_count": 4,
      "outputs": [
        {
          "output_type": "stream",
          "name": "stdout",
          "text": [
            "Requirement already satisfied: optuna in /usr/local/lib/python3.11/dist-packages (4.2.0)\n",
            "Requirement already satisfied: lightgbm in /usr/local/lib/python3.11/dist-packages (4.5.0)\n",
            "Requirement already satisfied: alembic>=1.5.0 in /usr/local/lib/python3.11/dist-packages (from optuna) (1.14.1)\n",
            "Requirement already satisfied: colorlog in /usr/local/lib/python3.11/dist-packages (from optuna) (6.9.0)\n",
            "Requirement already satisfied: numpy in /usr/local/lib/python3.11/dist-packages (from optuna) (1.26.4)\n",
            "Requirement already satisfied: packaging>=20.0 in /usr/local/lib/python3.11/dist-packages (from optuna) (24.2)\n",
            "Requirement already satisfied: sqlalchemy>=1.4.2 in /usr/local/lib/python3.11/dist-packages (from optuna) (2.0.37)\n",
            "Requirement already satisfied: tqdm in /usr/local/lib/python3.11/dist-packages (from optuna) (4.67.1)\n",
            "Requirement already satisfied: PyYAML in /usr/local/lib/python3.11/dist-packages (from optuna) (6.0.2)\n",
            "Requirement already satisfied: scipy in /usr/local/lib/python3.11/dist-packages (from lightgbm) (1.13.1)\n",
            "Requirement already satisfied: Mako in /usr/local/lib/python3.11/dist-packages (from alembic>=1.5.0->optuna) (1.3.8)\n",
            "Requirement already satisfied: typing-extensions>=4 in /usr/local/lib/python3.11/dist-packages (from alembic>=1.5.0->optuna) (4.12.2)\n",
            "Requirement already satisfied: greenlet!=0.4.17 in /usr/local/lib/python3.11/dist-packages (from sqlalchemy>=1.4.2->optuna) (3.1.1)\n",
            "Requirement already satisfied: MarkupSafe>=0.9.2 in /usr/local/lib/python3.11/dist-packages (from Mako->alembic>=1.5.0->optuna) (3.0.2)\n",
            "Collecting optuna-integration[xgboost]\n",
            "  Downloading optuna_integration-4.2.1-py3-none-any.whl.metadata (12 kB)\n",
            "Requirement already satisfied: optuna in /usr/local/lib/python3.11/dist-packages (from optuna-integration[xgboost]) (4.2.0)\n",
            "Requirement already satisfied: xgboost in /usr/local/lib/python3.11/dist-packages (from optuna-integration[xgboost]) (2.1.3)\n",
            "Requirement already satisfied: alembic>=1.5.0 in /usr/local/lib/python3.11/dist-packages (from optuna->optuna-integration[xgboost]) (1.14.1)\n",
            "Requirement already satisfied: colorlog in /usr/local/lib/python3.11/dist-packages (from optuna->optuna-integration[xgboost]) (6.9.0)\n",
            "Requirement already satisfied: numpy in /usr/local/lib/python3.11/dist-packages (from optuna->optuna-integration[xgboost]) (1.26.4)\n",
            "Requirement already satisfied: packaging>=20.0 in /usr/local/lib/python3.11/dist-packages (from optuna->optuna-integration[xgboost]) (24.2)\n",
            "Requirement already satisfied: sqlalchemy>=1.4.2 in /usr/local/lib/python3.11/dist-packages (from optuna->optuna-integration[xgboost]) (2.0.37)\n",
            "Requirement already satisfied: tqdm in /usr/local/lib/python3.11/dist-packages (from optuna->optuna-integration[xgboost]) (4.67.1)\n",
            "Requirement already satisfied: PyYAML in /usr/local/lib/python3.11/dist-packages (from optuna->optuna-integration[xgboost]) (6.0.2)\n",
            "Requirement already satisfied: nvidia-nccl-cu12 in /usr/local/lib/python3.11/dist-packages (from xgboost->optuna-integration[xgboost]) (2.21.5)\n",
            "Requirement already satisfied: scipy in /usr/local/lib/python3.11/dist-packages (from xgboost->optuna-integration[xgboost]) (1.13.1)\n",
            "Requirement already satisfied: Mako in /usr/local/lib/python3.11/dist-packages (from alembic>=1.5.0->optuna->optuna-integration[xgboost]) (1.3.8)\n",
            "Requirement already satisfied: typing-extensions>=4 in /usr/local/lib/python3.11/dist-packages (from alembic>=1.5.0->optuna->optuna-integration[xgboost]) (4.12.2)\n",
            "Requirement already satisfied: greenlet!=0.4.17 in /usr/local/lib/python3.11/dist-packages (from sqlalchemy>=1.4.2->optuna->optuna-integration[xgboost]) (3.1.1)\n",
            "Requirement already satisfied: MarkupSafe>=0.9.2 in /usr/local/lib/python3.11/dist-packages (from Mako->alembic>=1.5.0->optuna->optuna-integration[xgboost]) (3.0.2)\n",
            "Downloading optuna_integration-4.2.1-py3-none-any.whl (97 kB)\n",
            "\u001b[2K   \u001b[90m━━━━━━━━━━━━━━━━━━━━━━━━━━━━━━━━━━━━━━━━\u001b[0m \u001b[32m97.6/97.6 kB\u001b[0m \u001b[31m2.0 MB/s\u001b[0m eta \u001b[36m0:00:00\u001b[0m\n",
            "\u001b[?25hInstalling collected packages: optuna-integration\n",
            "Successfully installed optuna-integration-4.2.1\n"
          ]
        }
      ]
    },
    {
      "cell_type": "code",
      "source": [
        "import pandas as pd\n",
        "import numpy as np\n",
        "from sklearn.impute import SimpleImputer\n",
        "from sklearn.preprocessing import LabelEncoder\n",
        "from sklearn.model_selection import StratifiedKFold\n",
        "from sklearn.ensemble import RandomForestClassifier\n",
        "from sklearn.metrics import f1_score\n",
        "from sklearn.utils.class_weight import compute_class_weight\n",
        "import xgboost as xgb\n",
        "import optuna\n",
        "from optuna.samplers import TPESampler\n",
        "from dataclasses import dataclass\n",
        "from typing import Tuple, List, Optional, Any, Dict\n",
        "\n",
        "@dataclass\n",
        "class ModelData:\n",
        "    \"\"\"Container for model data and metadata\"\"\"\n",
        "    X_processed: np.ndarray\n",
        "    X_test_processed: np.ndarray\n",
        "    y: np.ndarray\n",
        "    feature_names: List[str]\n",
        "    classes: np.ndarray\n",
        "    test_ids: np.ndarray\n",
        "\n",
        "def is_gpu_available():\n",
        "    \"\"\"Check if GPU is available for XGBoost\"\"\"\n",
        "    try:\n",
        "        test_params = {\n",
        "            'device': 'cuda:0',\n",
        "        }\n",
        "        test_model = xgb.XGBRegressor(**test_params)\n",
        "        return True\n",
        "    except Exception as e:\n",
        "        print(f\"GPU not available: {e}\")\n",
        "        return False\n",
        "\n",
        "def label_encode_with_nan(series):\n",
        "    \"\"\"Label encode while preserving NaN values\"\"\"\n",
        "    series = series.copy()\n",
        "    nan_mask = series.isna()\n",
        "    le = LabelEncoder()\n",
        "    series[~nan_mask] = le.fit_transform(series[~nan_mask])\n",
        "    series[nan_mask] = np.nan\n",
        "    return series\n",
        "\n",
        "def add_interactions(df):\n",
        "    \"\"\"Add domain-specific interaction terms\"\"\"\n",
        "    df = df.copy()\n",
        "\n",
        "    interactions = {\n",
        "        ('fixed_acidity', 'volatile_acidity'): lambda x, y: x / y,\n",
        "        ('residual_sugar', 'total_acidity'): lambda x, y: x / y,\n",
        "        ('alcohol', 'total_acidity'): lambda x, y: x / y,\n",
        "        ('density', 'alcohol'): lambda x, y: x / y\n",
        "    }\n",
        "\n",
        "    for (col1, col2), operation in interactions.items():\n",
        "        if col1 in df.columns and col2 in df.columns:\n",
        "            df[f'{col1}_{col2}_ratio'] = operation(df[col1], df[col2])\n",
        "\n",
        "    return df\n",
        "\n",
        "def preprocess_data(X: pd.DataFrame, X_test: pd.DataFrame) -> Tuple[np.ndarray, np.ndarray, List[str]]:\n",
        "    \"\"\"Preprocess features including interactions and encoding\"\"\"\n",
        "    numerical_cols = X.select_dtypes(include=np.number).columns.tolist()\n",
        "    categorical_cols = ['Region'] if 'Region' in X else []\n",
        "\n",
        "    X = add_interactions(X)\n",
        "    X_test = add_interactions(X_test)\n",
        "\n",
        "    numerical_cols = X.select_dtypes(include=np.number).columns.tolist()\n",
        "\n",
        "    num_imputer = SimpleImputer(strategy='median')\n",
        "    X_num = pd.DataFrame(num_imputer.fit_transform(X[numerical_cols]), columns=numerical_cols)\n",
        "    X_test_num = pd.DataFrame(num_imputer.transform(X_test[numerical_cols]), columns=numerical_cols)\n",
        "\n",
        "    if categorical_cols:\n",
        "        for col in categorical_cols:\n",
        "            X_num[col] = label_encode_with_nan(X[col])\n",
        "            X_test_num[col] = label_encode_with_nan(X_test[col])\n",
        "\n",
        "    return X_num.values, X_test_num.values, X_num.columns.tolist()\n",
        "\n",
        "def get_model_params(trial: optuna.Trial, model_type: str, n_classes: int) -> Dict[str, Any]:\n",
        "    \"\"\"Get model-specific parameters based on trial suggestions\"\"\"\n",
        "    if model_type == 'xgboost':\n",
        "        params = {\n",
        "            'objective': 'multi:softmax',\n",
        "            'num_class': n_classes,\n",
        "            'learning_rate': trial.suggest_float('learning_rate', 1e-3, 0.3, log=True),\n",
        "            'n_estimators': trial.suggest_int('n_estimators', 300, 1500),\n",
        "            'max_depth': trial.suggest_int('max_depth', 4, 12),\n",
        "            'subsample': trial.suggest_float('subsample', 0.6, 1.0),\n",
        "            'colsample_bytree': trial.suggest_float('colsample_bytree', 0.6, 1.0),\n",
        "            'gamma': trial.suggest_float('gamma', 0, 1.0),\n",
        "            'reg_alpha': trial.suggest_float('reg_alpha', 0, 1.0),\n",
        "            'reg_lambda': trial.suggest_float('reg_lambda', 0, 1.0),\n",
        "            'early_stopping_rounds': 50,\n",
        "            'random_state': 42,\n",
        "            'n_jobs': -1,\n",
        "            'enable_categorical': True,\n",
        "        }\n",
        "\n",
        "        if is_gpu_available():\n",
        "            params.update({\n",
        "                'device': 'cuda:0',\n",
        "            })\n",
        "        else:\n",
        "            params['tree_method'] = 'hist'\n",
        "\n",
        "        return params\n",
        "    else:  # Random Forest\n",
        "        return {\n",
        "            'n_estimators': trial.suggest_int('n_estimators', 300, 2500),\n",
        "            'max_depth': trial.suggest_int('max_depth', 3, 30),\n",
        "            'min_samples_split': trial.suggest_int('min_samples_split', 2, 15),\n",
        "            'min_samples_leaf': trial.suggest_int('min_samples_leaf', 1, 10),\n",
        "            'max_features': trial.suggest_categorical('max_features', ['sqrt', 'log2', None]),\n",
        "            'random_state': 42\n",
        "        }\n",
        "\n",
        "def compute_weights(class_weight_option: str, classes: np.ndarray, y: np.ndarray) -> np.ndarray:\n",
        "    \"\"\"Compute sample weights based on class weight option\"\"\"\n",
        "    if class_weight_option:\n",
        "        class_weights = compute_class_weight(class_weight_option, classes=classes, y=y)\n",
        "        return np.array([class_weights[cls] for cls in y])\n",
        "    return np.ones(len(y))\n",
        "\n",
        "def train_model(model_type: str, params: Dict[str, Any], X_train: np.ndarray, y_train: np.ndarray,\n",
        "                sample_weights: Optional[np.ndarray] = None, eval_set: Optional[List] = None,\n",
        "                trial: Optional[optuna.Trial] = None) -> Any:\n",
        "    \"\"\"Train a model with given parameters and return it\"\"\"\n",
        "    if model_type == 'xgboost':\n",
        "        # if trial: # pruning_callback was interfering with early_stopping, that is why I disabled it here\n",
        "        #     pruning_callback = optuna.integration.XGBoostPruningCallback(trial, 'validation_0-mlogloss')\n",
        "            # params['callbacks'] = [pruning_callback]\n",
        "        model = xgb.XGBClassifier(**params)\n",
        "        fit_params = {\n",
        "            'sample_weight': sample_weights,\n",
        "            'eval_set': eval_set,\n",
        "            'verbose': False\n",
        "        }\n",
        "\n",
        "        model.fit(X_train, y_train, **{k: v for k, v in fit_params.items() if v is not None})\n",
        "    else:\n",
        "        model = RandomForestClassifier(**params)\n",
        "        model.fit(X_train, y_train)\n",
        "\n",
        "    return model\n",
        "\n",
        "def create_objective(data: ModelData):\n",
        "    \"\"\"Create and return the objective function for optimization\"\"\"\n",
        "    def objective(trial: optuna.Trial) -> float:\n",
        "        model_type = trial.suggest_categorical('model', ['xgboost', 'random_forest'])\n",
        "        class_weight_option = trial.suggest_categorical('class_weight_option',\n",
        "                                                      ['balanced',  None])\n",
        "\n",
        "        sample_weights = compute_weights(class_weight_option, data.classes, data.y)\n",
        "        f1_scores = []\n",
        "\n",
        "        # cv = StratifiedKFold(n_splits=3, shuffle=True, random_state=42)\n",
        "        cv = StratifiedKFold(n_splits=5, shuffle=True, random_state=13)\n",
        "        for train_idx, val_idx in cv.split(data.X_processed, data.y):\n",
        "            X_train, X_val = data.X_processed[train_idx], data.X_processed[val_idx]\n",
        "            y_train, y_val = data.y[train_idx], data.y[val_idx]\n",
        "\n",
        "            params = get_model_params(trial, model_type, len(data.classes))\n",
        "            if model_type != 'xgboost':\n",
        "                params['class_weight'] = class_weight_option\n",
        "\n",
        "            model = train_model(\n",
        "                model_type,\n",
        "                params,\n",
        "                X_train,\n",
        "                y_train,\n",
        "                sample_weights[train_idx] if model_type == 'xgboost' else None,\n",
        "                [(X_val, y_val)] if model_type == 'xgboost' else None,\n",
        "                trial\n",
        "            )\n",
        "\n",
        "            preds = model.predict(X_val)\n",
        "            f1_scores.append(f1_score(y_val, preds, average='macro'))\n",
        "\n",
        "        mean_f1 = np.mean(f1_scores)\n",
        "        trial.set_user_attr('f1_score', mean_f1)\n",
        "        return mean_f1\n",
        "\n",
        "    return objective\n",
        "\n",
        "def load_and_preprocess_data() -> ModelData:\n",
        "    \"\"\"Load and preprocess the data\"\"\"\n",
        "    train_data = pd.read_csv('train.csv')\n",
        "    test_data = pd.read_csv('test.csv')\n",
        "\n",
        "    target = 'quality'\n",
        "    X = train_data.drop(columns=[target, 'ID'])\n",
        "    y = train_data[target].values\n",
        "    test_ids = test_data['ID'].values\n",
        "    X_test = test_data.drop(columns=['ID'])\n",
        "\n",
        "    X_processed, X_test_processed, feature_names = preprocess_data(X, X_test)\n",
        "    classes = np.unique(y)\n",
        "\n",
        "    return ModelData(\n",
        "        X_processed=X_processed,\n",
        "        X_test_processed=X_test_processed,\n",
        "        y=y,\n",
        "        feature_names=feature_names,\n",
        "        classes=classes,\n",
        "        test_ids=test_ids\n",
        "    )\n",
        "\n",
        "def main():\n",
        "    \"\"\"Main execution function\"\"\"\n",
        "    gpu_available = is_gpu_available()\n",
        "    print(f\"GPU {'is' if gpu_available else 'is not'} available for training\")\n",
        "\n",
        "    # Load and prepare data\n",
        "    data = load_and_preprocess_data()\n",
        "\n",
        "    # Create and run study\n",
        "    study = optuna.create_study(\n",
        "        study_name=\"xgboost\",\n",
        "        direction='maximize',\n",
        "        sampler=TPESampler(seed=42),\n",
        "        pruner=optuna.pruners.MedianPruner(n_startup_trials=10),\n",
        "        load_if_exists=True,\n",
        "        storage='sqlite:///optuna_xgboost_study.db'\n",
        "    )\n",
        "\n",
        "    study.optimize(create_objective(data), n_trials=100, timeout=2*3600, show_progress_bar=True)\n",
        "\n",
        "    # Train final model\n",
        "    best_params = study.best_trial.params\n",
        "    model_type = best_params.pop('model')\n",
        "    class_weight_option = best_params.pop('class_weight_option')\n",
        "\n",
        "    sample_weights = compute_weights(class_weight_option, data.classes, data.y)\n",
        "\n",
        "    if model_type == 'xgboost':\n",
        "        eval_set = [(data.X_processed, data.y)]\n",
        "    else:\n",
        "        best_params['class_weight'] = class_weight_option\n",
        "        eval_set = None\n",
        "\n",
        "    final_model = train_model(\n",
        "        model_type,\n",
        "        best_params,\n",
        "        data.X_processed,\n",
        "        data.y,\n",
        "        sample_weights if model_type == 'xgboost' else None,\n",
        "        eval_set\n",
        "    )\n",
        "\n",
        "    # Generate predictions\n",
        "    test_preds = final_model.predict(data.X_test_processed)\n",
        "    pd.DataFrame({'ID': data.test_ids, 'quality': test_preds}).to_csv('improved_submission.csv', index=False)\n",
        "    print(\"Submission file created!\")\n",
        "\n",
        "if __name__ == \"__main__\":\n",
        "    main()"
      ],
      "metadata": {
        "colab": {
          "base_uri": "https://localhost:8080/",
          "height": 1000,
          "referenced_widgets": [
            "a3a8077f98aa4c32bf131040dea87f9e",
            "3eead02f0427494b9d38c4821bfcd198",
            "3ee731ba4ed5440e8d2ea703924dd8c5",
            "e0b09748e6364714af945e4f3b55a2a5",
            "77043f1025d74fa5b5f81307b6658c06",
            "64eff47ba67843428092270b34d03c69",
            "6475306528264e74a5fcf9dd5e2408e4",
            "738baf1c12f443d9ad23b5d3bf1b9b5b",
            "35313f2e2ac7417498657644ca0b5238",
            "c57c0ac0390f42de9ef5aa18041022c4",
            "db535aabeb9e4c42bd17cdef00339d6f"
          ]
        },
        "id": "ID0OAxWpOIOl",
        "outputId": "543b3718-c3a2-477f-dce6-d35b2dc50908"
      },
      "execution_count": 6,
      "outputs": [
        {
          "output_type": "stream",
          "name": "stderr",
          "text": [
            "[I 2025-02-04 09:56:33,685] Using an existing study with name 'xgboost' instead of creating a new one.\n"
          ]
        },
        {
          "output_type": "stream",
          "name": "stdout",
          "text": [
            "GPU is available for training\n"
          ]
        },
        {
          "output_type": "display_data",
          "data": {
            "text/plain": [
              "  0%|          | 0/100 [00:00<?, ?it/s]"
            ],
            "application/vnd.jupyter.widget-view+json": {
              "version_major": 2,
              "version_minor": 0,
              "model_id": "a3a8077f98aa4c32bf131040dea87f9e"
            }
          },
          "metadata": {}
        },
        {
          "output_type": "stream",
          "name": "stderr",
          "text": [
            "/usr/local/lib/python3.11/dist-packages/xgboost/core.py:158: UserWarning: [09:56:34] WARNING: /workspace/src/context.cc:43: No visible GPU is found, setting device to CPU.\n",
            "  warnings.warn(smsg, UserWarning)\n",
            "/usr/local/lib/python3.11/dist-packages/xgboost/core.py:158: UserWarning: [09:56:34] WARNING: /workspace/src/context.cc:196: XGBoost is not compiled with CUDA support.\n",
            "  warnings.warn(smsg, UserWarning)\n",
            "/usr/local/lib/python3.11/dist-packages/xgboost/core.py:158: UserWarning: [09:56:37] WARNING: /workspace/src/context.cc:43: No visible GPU is found, setting device to CPU.\n",
            "  warnings.warn(smsg, UserWarning)\n",
            "/usr/local/lib/python3.11/dist-packages/xgboost/core.py:158: UserWarning: [09:56:37] WARNING: /workspace/src/context.cc:196: XGBoost is not compiled with CUDA support.\n",
            "  warnings.warn(smsg, UserWarning)\n",
            "/usr/local/lib/python3.11/dist-packages/xgboost/core.py:158: UserWarning: [09:56:40] WARNING: /workspace/src/context.cc:43: No visible GPU is found, setting device to CPU.\n",
            "  warnings.warn(smsg, UserWarning)\n",
            "/usr/local/lib/python3.11/dist-packages/xgboost/core.py:158: UserWarning: [09:56:40] WARNING: /workspace/src/context.cc:196: XGBoost is not compiled with CUDA support.\n",
            "  warnings.warn(smsg, UserWarning)\n",
            "/usr/local/lib/python3.11/dist-packages/xgboost/core.py:158: UserWarning: [09:56:43] WARNING: /workspace/src/context.cc:43: No visible GPU is found, setting device to CPU.\n",
            "  warnings.warn(smsg, UserWarning)\n",
            "/usr/local/lib/python3.11/dist-packages/xgboost/core.py:158: UserWarning: [09:56:43] WARNING: /workspace/src/context.cc:196: XGBoost is not compiled with CUDA support.\n",
            "  warnings.warn(smsg, UserWarning)\n",
            "/usr/local/lib/python3.11/dist-packages/xgboost/core.py:158: UserWarning: [09:56:48] WARNING: /workspace/src/context.cc:43: No visible GPU is found, setting device to CPU.\n",
            "  warnings.warn(smsg, UserWarning)\n",
            "/usr/local/lib/python3.11/dist-packages/xgboost/core.py:158: UserWarning: [09:56:48] WARNING: /workspace/src/context.cc:196: XGBoost is not compiled with CUDA support.\n",
            "  warnings.warn(smsg, UserWarning)\n"
          ]
        },
        {
          "output_type": "stream",
          "name": "stdout",
          "text": [
            "[I 2025-02-04 09:56:51,715] Trial 32 finished with value: 0.5711502050074481 and parameters: {'model': 'xgboost', 'class_weight_option': 'balanced', 'learning_rate': 0.05845332860568505, 'n_estimators': 454, 'max_depth': 8, 'subsample': 0.7535341660233844, 'colsample_bytree': 0.7649083062977993, 'gamma': 0.003912978252459993, 'reg_alpha': 0.3496948661286037, 'reg_lambda': 0.0025132039125420388}. Best is trial 32 with value: 0.5711502050074481.\n"
          ]
        },
        {
          "output_type": "stream",
          "name": "stderr",
          "text": [
            "/usr/local/lib/python3.11/dist-packages/xgboost/core.py:158: UserWarning: [09:56:51] WARNING: /workspace/src/context.cc:43: No visible GPU is found, setting device to CPU.\n",
            "  warnings.warn(smsg, UserWarning)\n",
            "/usr/local/lib/python3.11/dist-packages/xgboost/core.py:158: UserWarning: [09:56:51] WARNING: /workspace/src/context.cc:196: XGBoost is not compiled with CUDA support.\n",
            "  warnings.warn(smsg, UserWarning)\n",
            "/usr/local/lib/python3.11/dist-packages/xgboost/core.py:158: UserWarning: [09:56:59] WARNING: /workspace/src/context.cc:43: No visible GPU is found, setting device to CPU.\n",
            "  warnings.warn(smsg, UserWarning)\n",
            "/usr/local/lib/python3.11/dist-packages/xgboost/core.py:158: UserWarning: [09:56:59] WARNING: /workspace/src/context.cc:196: XGBoost is not compiled with CUDA support.\n",
            "  warnings.warn(smsg, UserWarning)\n",
            "/usr/local/lib/python3.11/dist-packages/xgboost/core.py:158: UserWarning: [09:57:04] WARNING: /workspace/src/context.cc:43: No visible GPU is found, setting device to CPU.\n",
            "  warnings.warn(smsg, UserWarning)\n",
            "/usr/local/lib/python3.11/dist-packages/xgboost/core.py:158: UserWarning: [09:57:04] WARNING: /workspace/src/context.cc:196: XGBoost is not compiled with CUDA support.\n",
            "  warnings.warn(smsg, UserWarning)\n",
            "/usr/local/lib/python3.11/dist-packages/xgboost/core.py:158: UserWarning: [09:57:09] WARNING: /workspace/src/context.cc:43: No visible GPU is found, setting device to CPU.\n",
            "  warnings.warn(smsg, UserWarning)\n",
            "/usr/local/lib/python3.11/dist-packages/xgboost/core.py:158: UserWarning: [09:57:09] WARNING: /workspace/src/context.cc:196: XGBoost is not compiled with CUDA support.\n",
            "  warnings.warn(smsg, UserWarning)\n",
            "/usr/local/lib/python3.11/dist-packages/xgboost/core.py:158: UserWarning: [09:57:16] WARNING: /workspace/src/context.cc:43: No visible GPU is found, setting device to CPU.\n",
            "  warnings.warn(smsg, UserWarning)\n",
            "/usr/local/lib/python3.11/dist-packages/xgboost/core.py:158: UserWarning: [09:57:16] WARNING: /workspace/src/context.cc:196: XGBoost is not compiled with CUDA support.\n",
            "  warnings.warn(smsg, UserWarning)\n"
          ]
        },
        {
          "output_type": "stream",
          "name": "stdout",
          "text": [
            "[I 2025-02-04 09:57:21,396] Trial 33 finished with value: 0.5601492123017815 and parameters: {'model': 'xgboost', 'class_weight_option': 'balanced', 'learning_rate': 0.020506652569277372, 'n_estimators': 435, 'max_depth': 7, 'subsample': 0.7616337026172738, 'colsample_bytree': 0.8407576572658069, 'gamma': 0.09865886080336461, 'reg_alpha': 0.3029693107203268, 'reg_lambda': 0.0038878777388144594}. Best is trial 32 with value: 0.5711502050074481.\n"
          ]
        },
        {
          "output_type": "stream",
          "name": "stderr",
          "text": [
            "/usr/local/lib/python3.11/dist-packages/xgboost/core.py:158: UserWarning: [09:57:21] WARNING: /workspace/src/context.cc:43: No visible GPU is found, setting device to CPU.\n",
            "  warnings.warn(smsg, UserWarning)\n",
            "/usr/local/lib/python3.11/dist-packages/xgboost/core.py:158: UserWarning: [09:57:21] WARNING: /workspace/src/context.cc:196: XGBoost is not compiled with CUDA support.\n",
            "  warnings.warn(smsg, UserWarning)\n",
            "/usr/local/lib/python3.11/dist-packages/xgboost/core.py:158: UserWarning: [09:57:27] WARNING: /workspace/src/context.cc:43: No visible GPU is found, setting device to CPU.\n",
            "  warnings.warn(smsg, UserWarning)\n",
            "/usr/local/lib/python3.11/dist-packages/xgboost/core.py:158: UserWarning: [09:57:27] WARNING: /workspace/src/context.cc:196: XGBoost is not compiled with CUDA support.\n",
            "  warnings.warn(smsg, UserWarning)\n",
            "/usr/local/lib/python3.11/dist-packages/xgboost/core.py:158: UserWarning: [09:57:29] WARNING: /workspace/src/context.cc:43: No visible GPU is found, setting device to CPU.\n",
            "  warnings.warn(smsg, UserWarning)\n",
            "/usr/local/lib/python3.11/dist-packages/xgboost/core.py:158: UserWarning: [09:57:29] WARNING: /workspace/src/context.cc:196: XGBoost is not compiled with CUDA support.\n",
            "  warnings.warn(smsg, UserWarning)\n",
            "/usr/local/lib/python3.11/dist-packages/xgboost/core.py:158: UserWarning: [09:57:31] WARNING: /workspace/src/context.cc:43: No visible GPU is found, setting device to CPU.\n",
            "  warnings.warn(smsg, UserWarning)\n",
            "/usr/local/lib/python3.11/dist-packages/xgboost/core.py:158: UserWarning: [09:57:31] WARNING: /workspace/src/context.cc:196: XGBoost is not compiled with CUDA support.\n",
            "  warnings.warn(smsg, UserWarning)\n",
            "/usr/local/lib/python3.11/dist-packages/xgboost/core.py:158: UserWarning: [09:57:35] WARNING: /workspace/src/context.cc:43: No visible GPU is found, setting device to CPU.\n",
            "  warnings.warn(smsg, UserWarning)\n",
            "/usr/local/lib/python3.11/dist-packages/xgboost/core.py:158: UserWarning: [09:57:35] WARNING: /workspace/src/context.cc:196: XGBoost is not compiled with CUDA support.\n",
            "  warnings.warn(smsg, UserWarning)\n"
          ]
        },
        {
          "output_type": "stream",
          "name": "stdout",
          "text": [
            "[I 2025-02-04 09:57:39,731] Trial 34 finished with value: 0.5735834419169425 and parameters: {'model': 'xgboost', 'class_weight_option': 'balanced', 'learning_rate': 0.06655534769448847, 'n_estimators': 386, 'max_depth': 8, 'subsample': 0.7499835775860842, 'colsample_bytree': 0.7565516945294324, 'gamma': 0.056152012150607104, 'reg_alpha': 0.3295147644103481, 'reg_lambda': 0.001041089757946158}. Best is trial 34 with value: 0.5735834419169425.\n",
            "[I 2025-02-04 09:58:02,879] Trial 35 finished with value: 0.5315904996450783 and parameters: {'model': 'random_forest', 'class_weight_option': 'balanced', 'n_estimators': 614, 'max_depth': 14, 'min_samples_split': 15, 'min_samples_leaf': 5, 'max_features': 'sqrt'}. Best is trial 34 with value: 0.5735834419169425.\n"
          ]
        },
        {
          "output_type": "stream",
          "name": "stderr",
          "text": [
            "/usr/local/lib/python3.11/dist-packages/xgboost/core.py:158: UserWarning: [09:58:03] WARNING: /workspace/src/context.cc:43: No visible GPU is found, setting device to CPU.\n",
            "  warnings.warn(smsg, UserWarning)\n",
            "/usr/local/lib/python3.11/dist-packages/xgboost/core.py:158: UserWarning: [09:58:03] WARNING: /workspace/src/context.cc:196: XGBoost is not compiled with CUDA support.\n",
            "  warnings.warn(smsg, UserWarning)\n",
            "/usr/local/lib/python3.11/dist-packages/xgboost/core.py:158: UserWarning: [09:58:05] WARNING: /workspace/src/context.cc:43: No visible GPU is found, setting device to CPU.\n",
            "  warnings.warn(smsg, UserWarning)\n",
            "/usr/local/lib/python3.11/dist-packages/xgboost/core.py:158: UserWarning: [09:58:05] WARNING: /workspace/src/context.cc:196: XGBoost is not compiled with CUDA support.\n",
            "  warnings.warn(smsg, UserWarning)\n",
            "/usr/local/lib/python3.11/dist-packages/xgboost/core.py:158: UserWarning: [09:58:07] WARNING: /workspace/src/context.cc:43: No visible GPU is found, setting device to CPU.\n",
            "  warnings.warn(smsg, UserWarning)\n",
            "/usr/local/lib/python3.11/dist-packages/xgboost/core.py:158: UserWarning: [09:58:07] WARNING: /workspace/src/context.cc:196: XGBoost is not compiled with CUDA support.\n",
            "  warnings.warn(smsg, UserWarning)\n",
            "/usr/local/lib/python3.11/dist-packages/xgboost/core.py:158: UserWarning: [09:58:09] WARNING: /workspace/src/context.cc:43: No visible GPU is found, setting device to CPU.\n",
            "  warnings.warn(smsg, UserWarning)\n",
            "/usr/local/lib/python3.11/dist-packages/xgboost/core.py:158: UserWarning: [09:58:09] WARNING: /workspace/src/context.cc:196: XGBoost is not compiled with CUDA support.\n",
            "  warnings.warn(smsg, UserWarning)\n",
            "/usr/local/lib/python3.11/dist-packages/xgboost/core.py:158: UserWarning: [09:58:11] WARNING: /workspace/src/context.cc:43: No visible GPU is found, setting device to CPU.\n",
            "  warnings.warn(smsg, UserWarning)\n",
            "/usr/local/lib/python3.11/dist-packages/xgboost/core.py:158: UserWarning: [09:58:11] WARNING: /workspace/src/context.cc:196: XGBoost is not compiled with CUDA support.\n",
            "  warnings.warn(smsg, UserWarning)\n"
          ]
        },
        {
          "output_type": "stream",
          "name": "stdout",
          "text": [
            "[I 2025-02-04 09:58:13,221] Trial 36 finished with value: 0.5649460715943813 and parameters: {'model': 'xgboost', 'class_weight_option': 'balanced', 'learning_rate': 0.09578911670517307, 'n_estimators': 565, 'max_depth': 6, 'subsample': 0.8235194332173258, 'colsample_bytree': 0.8363197317659252, 'gamma': 0.1992721398995002, 'reg_alpha': 0.6173842589050502, 'reg_lambda': 0.14076578199679957}. Best is trial 34 with value: 0.5735834419169425.\n"
          ]
        },
        {
          "output_type": "stream",
          "name": "stderr",
          "text": [
            "/usr/local/lib/python3.11/dist-packages/xgboost/core.py:158: UserWarning: [09:58:13] WARNING: /workspace/src/context.cc:43: No visible GPU is found, setting device to CPU.\n",
            "  warnings.warn(smsg, UserWarning)\n",
            "/usr/local/lib/python3.11/dist-packages/xgboost/core.py:158: UserWarning: [09:58:13] WARNING: /workspace/src/context.cc:196: XGBoost is not compiled with CUDA support.\n",
            "  warnings.warn(smsg, UserWarning)\n",
            "/usr/local/lib/python3.11/dist-packages/xgboost/core.py:158: UserWarning: [09:58:20] WARNING: /workspace/src/context.cc:43: No visible GPU is found, setting device to CPU.\n",
            "  warnings.warn(smsg, UserWarning)\n",
            "/usr/local/lib/python3.11/dist-packages/xgboost/core.py:158: UserWarning: [09:58:20] WARNING: /workspace/src/context.cc:196: XGBoost is not compiled with CUDA support.\n",
            "  warnings.warn(smsg, UserWarning)\n",
            "/usr/local/lib/python3.11/dist-packages/xgboost/core.py:158: UserWarning: [09:58:24] WARNING: /workspace/src/context.cc:43: No visible GPU is found, setting device to CPU.\n",
            "  warnings.warn(smsg, UserWarning)\n",
            "/usr/local/lib/python3.11/dist-packages/xgboost/core.py:158: UserWarning: [09:58:24] WARNING: /workspace/src/context.cc:196: XGBoost is not compiled with CUDA support.\n",
            "  warnings.warn(smsg, UserWarning)\n",
            "/usr/local/lib/python3.11/dist-packages/xgboost/core.py:158: UserWarning: [09:58:30] WARNING: /workspace/src/context.cc:43: No visible GPU is found, setting device to CPU.\n",
            "  warnings.warn(smsg, UserWarning)\n",
            "/usr/local/lib/python3.11/dist-packages/xgboost/core.py:158: UserWarning: [09:58:30] WARNING: /workspace/src/context.cc:196: XGBoost is not compiled with CUDA support.\n",
            "  warnings.warn(smsg, UserWarning)\n",
            "/usr/local/lib/python3.11/dist-packages/xgboost/core.py:158: UserWarning: [09:58:35] WARNING: /workspace/src/context.cc:43: No visible GPU is found, setting device to CPU.\n",
            "  warnings.warn(smsg, UserWarning)\n",
            "/usr/local/lib/python3.11/dist-packages/xgboost/core.py:158: UserWarning: [09:58:35] WARNING: /workspace/src/context.cc:196: XGBoost is not compiled with CUDA support.\n",
            "  warnings.warn(smsg, UserWarning)\n"
          ]
        },
        {
          "output_type": "stream",
          "name": "stdout",
          "text": [
            "[I 2025-02-04 09:58:39,169] Trial 37 finished with value: 0.5671627407052029 and parameters: {'model': 'xgboost', 'class_weight_option': 'balanced', 'learning_rate': 0.024413934060813033, 'n_estimators': 389, 'max_depth': 7, 'subsample': 0.7306142927434895, 'colsample_bytree': 0.7716688703365471, 'gamma': 0.07913516389568899, 'reg_alpha': 0.39825278994475033, 'reg_lambda': 0.0008094607764691773}. Best is trial 34 with value: 0.5735834419169425.\n",
            "[I 2025-02-04 10:00:09,149] Trial 38 finished with value: 0.5283325135405644 and parameters: {'model': 'random_forest', 'class_weight_option': 'balanced', 'n_estimators': 636, 'max_depth': 29, 'min_samples_split': 7, 'min_samples_leaf': 3, 'max_features': None}. Best is trial 34 with value: 0.5735834419169425.\n"
          ]
        },
        {
          "output_type": "stream",
          "name": "stderr",
          "text": [
            "/usr/local/lib/python3.11/dist-packages/xgboost/core.py:158: UserWarning: [10:00:09] WARNING: /workspace/src/context.cc:43: No visible GPU is found, setting device to CPU.\n",
            "  warnings.warn(smsg, UserWarning)\n",
            "/usr/local/lib/python3.11/dist-packages/xgboost/core.py:158: UserWarning: [10:00:09] WARNING: /workspace/src/context.cc:196: XGBoost is not compiled with CUDA support.\n",
            "  warnings.warn(smsg, UserWarning)\n",
            "/usr/local/lib/python3.11/dist-packages/xgboost/core.py:158: UserWarning: [10:00:12] WARNING: /workspace/src/context.cc:43: No visible GPU is found, setting device to CPU.\n",
            "  warnings.warn(smsg, UserWarning)\n",
            "/usr/local/lib/python3.11/dist-packages/xgboost/core.py:158: UserWarning: [10:00:12] WARNING: /workspace/src/context.cc:196: XGBoost is not compiled with CUDA support.\n",
            "  warnings.warn(smsg, UserWarning)\n",
            "/usr/local/lib/python3.11/dist-packages/xgboost/core.py:158: UserWarning: [10:00:18] WARNING: /workspace/src/context.cc:43: No visible GPU is found, setting device to CPU.\n",
            "  warnings.warn(smsg, UserWarning)\n",
            "/usr/local/lib/python3.11/dist-packages/xgboost/core.py:158: UserWarning: [10:00:18] WARNING: /workspace/src/context.cc:196: XGBoost is not compiled with CUDA support.\n",
            "  warnings.warn(smsg, UserWarning)\n",
            "/usr/local/lib/python3.11/dist-packages/xgboost/core.py:158: UserWarning: [10:00:22] WARNING: /workspace/src/context.cc:43: No visible GPU is found, setting device to CPU.\n",
            "  warnings.warn(smsg, UserWarning)\n",
            "/usr/local/lib/python3.11/dist-packages/xgboost/core.py:158: UserWarning: [10:00:22] WARNING: /workspace/src/context.cc:196: XGBoost is not compiled with CUDA support.\n",
            "  warnings.warn(smsg, UserWarning)\n",
            "/usr/local/lib/python3.11/dist-packages/xgboost/core.py:158: UserWarning: [10:00:25] WARNING: /workspace/src/context.cc:43: No visible GPU is found, setting device to CPU.\n",
            "  warnings.warn(smsg, UserWarning)\n",
            "/usr/local/lib/python3.11/dist-packages/xgboost/core.py:158: UserWarning: [10:00:25] WARNING: /workspace/src/context.cc:196: XGBoost is not compiled with CUDA support.\n",
            "  warnings.warn(smsg, UserWarning)\n"
          ]
        },
        {
          "output_type": "stream",
          "name": "stdout",
          "text": [
            "[I 2025-02-04 10:00:31,468] Trial 39 finished with value: 0.558045197485627 and parameters: {'model': 'xgboost', 'class_weight_option': 'balanced', 'learning_rate': 0.028037476380685718, 'n_estimators': 306, 'max_depth': 7, 'subsample': 0.7966142482975818, 'colsample_bytree': 0.7420782096218226, 'gamma': 0.08517100299578435, 'reg_alpha': 0.3026279372270868, 'reg_lambda': 0.14079631902476916}. Best is trial 34 with value: 0.5735834419169425.\n"
          ]
        },
        {
          "output_type": "stream",
          "name": "stderr",
          "text": [
            "/usr/local/lib/python3.11/dist-packages/xgboost/core.py:158: UserWarning: [10:00:31] WARNING: /workspace/src/context.cc:43: No visible GPU is found, setting device to CPU.\n",
            "  warnings.warn(smsg, UserWarning)\n",
            "/usr/local/lib/python3.11/dist-packages/xgboost/core.py:158: UserWarning: [10:00:31] WARNING: /workspace/src/context.cc:196: XGBoost is not compiled with CUDA support.\n",
            "  warnings.warn(smsg, UserWarning)\n",
            "/usr/local/lib/python3.11/dist-packages/xgboost/core.py:158: UserWarning: [10:00:35] WARNING: /workspace/src/context.cc:43: No visible GPU is found, setting device to CPU.\n",
            "  warnings.warn(smsg, UserWarning)\n",
            "/usr/local/lib/python3.11/dist-packages/xgboost/core.py:158: UserWarning: [10:00:35] WARNING: /workspace/src/context.cc:196: XGBoost is not compiled with CUDA support.\n",
            "  warnings.warn(smsg, UserWarning)\n",
            "/usr/local/lib/python3.11/dist-packages/xgboost/core.py:158: UserWarning: [10:00:42] WARNING: /workspace/src/context.cc:43: No visible GPU is found, setting device to CPU.\n",
            "  warnings.warn(smsg, UserWarning)\n",
            "/usr/local/lib/python3.11/dist-packages/xgboost/core.py:158: UserWarning: [10:00:42] WARNING: /workspace/src/context.cc:196: XGBoost is not compiled with CUDA support.\n",
            "  warnings.warn(smsg, UserWarning)\n",
            "/usr/local/lib/python3.11/dist-packages/xgboost/core.py:158: UserWarning: [10:00:46] WARNING: /workspace/src/context.cc:43: No visible GPU is found, setting device to CPU.\n",
            "  warnings.warn(smsg, UserWarning)\n",
            "/usr/local/lib/python3.11/dist-packages/xgboost/core.py:158: UserWarning: [10:00:46] WARNING: /workspace/src/context.cc:196: XGBoost is not compiled with CUDA support.\n",
            "  warnings.warn(smsg, UserWarning)\n",
            "/usr/local/lib/python3.11/dist-packages/xgboost/core.py:158: UserWarning: [10:00:50] WARNING: /workspace/src/context.cc:43: No visible GPU is found, setting device to CPU.\n",
            "  warnings.warn(smsg, UserWarning)\n",
            "/usr/local/lib/python3.11/dist-packages/xgboost/core.py:158: UserWarning: [10:00:50] WARNING: /workspace/src/context.cc:196: XGBoost is not compiled with CUDA support.\n",
            "  warnings.warn(smsg, UserWarning)\n"
          ]
        },
        {
          "output_type": "stream",
          "name": "stdout",
          "text": [
            "[I 2025-02-04 10:00:56,848] Trial 40 finished with value: 0.5043893662841976 and parameters: {'model': 'xgboost', 'class_weight_option': None, 'learning_rate': 0.0124950233648181, 'n_estimators': 417, 'max_depth': 6, 'subsample': 0.7311066655836228, 'colsample_bytree': 0.7875065910186309, 'gamma': 0.1747363810112021, 'reg_alpha': 0.13147037632137631, 'reg_lambda': 0.06386511576798018}. Best is trial 34 with value: 0.5735834419169425.\n"
          ]
        },
        {
          "output_type": "stream",
          "name": "stderr",
          "text": [
            "/usr/local/lib/python3.11/dist-packages/xgboost/core.py:158: UserWarning: [10:00:57] WARNING: /workspace/src/context.cc:43: No visible GPU is found, setting device to CPU.\n",
            "  warnings.warn(smsg, UserWarning)\n",
            "/usr/local/lib/python3.11/dist-packages/xgboost/core.py:158: UserWarning: [10:00:57] WARNING: /workspace/src/context.cc:196: XGBoost is not compiled with CUDA support.\n",
            "  warnings.warn(smsg, UserWarning)\n",
            "/usr/local/lib/python3.11/dist-packages/xgboost/core.py:158: UserWarning: [10:01:00] WARNING: /workspace/src/context.cc:43: No visible GPU is found, setting device to CPU.\n",
            "  warnings.warn(smsg, UserWarning)\n",
            "/usr/local/lib/python3.11/dist-packages/xgboost/core.py:158: UserWarning: [10:01:00] WARNING: /workspace/src/context.cc:196: XGBoost is not compiled with CUDA support.\n",
            "  warnings.warn(smsg, UserWarning)\n",
            "/usr/local/lib/python3.11/dist-packages/xgboost/core.py:158: UserWarning: [10:01:02] WARNING: /workspace/src/context.cc:43: No visible GPU is found, setting device to CPU.\n",
            "  warnings.warn(smsg, UserWarning)\n",
            "/usr/local/lib/python3.11/dist-packages/xgboost/core.py:158: UserWarning: [10:01:02] WARNING: /workspace/src/context.cc:196: XGBoost is not compiled with CUDA support.\n",
            "  warnings.warn(smsg, UserWarning)\n",
            "/usr/local/lib/python3.11/dist-packages/xgboost/core.py:158: UserWarning: [10:01:08] WARNING: /workspace/src/context.cc:43: No visible GPU is found, setting device to CPU.\n",
            "  warnings.warn(smsg, UserWarning)\n",
            "/usr/local/lib/python3.11/dist-packages/xgboost/core.py:158: UserWarning: [10:01:08] WARNING: /workspace/src/context.cc:196: XGBoost is not compiled with CUDA support.\n",
            "  warnings.warn(smsg, UserWarning)\n",
            "/usr/local/lib/python3.11/dist-packages/xgboost/core.py:158: UserWarning: [10:01:10] WARNING: /workspace/src/context.cc:43: No visible GPU is found, setting device to CPU.\n",
            "  warnings.warn(smsg, UserWarning)\n",
            "/usr/local/lib/python3.11/dist-packages/xgboost/core.py:158: UserWarning: [10:01:10] WARNING: /workspace/src/context.cc:196: XGBoost is not compiled with CUDA support.\n",
            "  warnings.warn(smsg, UserWarning)\n"
          ]
        },
        {
          "output_type": "stream",
          "name": "stdout",
          "text": [
            "[I 2025-02-04 10:01:13,672] Trial 41 finished with value: 0.5740448499848652 and parameters: {'model': 'xgboost', 'class_weight_option': 'balanced', 'learning_rate': 0.05468790643767003, 'n_estimators': 692, 'max_depth': 7, 'subsample': 0.7899146106751823, 'colsample_bytree': 0.6573882087103197, 'gamma': 0.08188115492492543, 'reg_alpha': 0.3968865453264729, 'reg_lambda': 0.18615121246972224}. Best is trial 41 with value: 0.5740448499848652.\n"
          ]
        },
        {
          "output_type": "stream",
          "name": "stderr",
          "text": [
            "/usr/local/lib/python3.11/dist-packages/xgboost/core.py:158: UserWarning: [10:01:13] WARNING: /workspace/src/context.cc:43: No visible GPU is found, setting device to CPU.\n",
            "  warnings.warn(smsg, UserWarning)\n",
            "/usr/local/lib/python3.11/dist-packages/xgboost/core.py:158: UserWarning: [10:01:13] WARNING: /workspace/src/context.cc:196: XGBoost is not compiled with CUDA support.\n",
            "  warnings.warn(smsg, UserWarning)\n",
            "/usr/local/lib/python3.11/dist-packages/xgboost/core.py:158: UserWarning: [10:01:17] WARNING: /workspace/src/context.cc:43: No visible GPU is found, setting device to CPU.\n",
            "  warnings.warn(smsg, UserWarning)\n",
            "/usr/local/lib/python3.11/dist-packages/xgboost/core.py:158: UserWarning: [10:01:17] WARNING: /workspace/src/context.cc:196: XGBoost is not compiled with CUDA support.\n",
            "  warnings.warn(smsg, UserWarning)\n",
            "/usr/local/lib/python3.11/dist-packages/xgboost/core.py:158: UserWarning: [10:01:22] WARNING: /workspace/src/context.cc:43: No visible GPU is found, setting device to CPU.\n",
            "  warnings.warn(smsg, UserWarning)\n",
            "/usr/local/lib/python3.11/dist-packages/xgboost/core.py:158: UserWarning: [10:01:22] WARNING: /workspace/src/context.cc:196: XGBoost is not compiled with CUDA support.\n",
            "  warnings.warn(smsg, UserWarning)\n",
            "/usr/local/lib/python3.11/dist-packages/xgboost/core.py:158: UserWarning: [10:01:24] WARNING: /workspace/src/context.cc:43: No visible GPU is found, setting device to CPU.\n",
            "  warnings.warn(smsg, UserWarning)\n",
            "/usr/local/lib/python3.11/dist-packages/xgboost/core.py:158: UserWarning: [10:01:24] WARNING: /workspace/src/context.cc:196: XGBoost is not compiled with CUDA support.\n",
            "  warnings.warn(smsg, UserWarning)\n",
            "/usr/local/lib/python3.11/dist-packages/xgboost/core.py:158: UserWarning: [10:01:27] WARNING: /workspace/src/context.cc:43: No visible GPU is found, setting device to CPU.\n",
            "  warnings.warn(smsg, UserWarning)\n",
            "/usr/local/lib/python3.11/dist-packages/xgboost/core.py:158: UserWarning: [10:01:27] WARNING: /workspace/src/context.cc:196: XGBoost is not compiled with CUDA support.\n",
            "  warnings.warn(smsg, UserWarning)\n"
          ]
        },
        {
          "output_type": "stream",
          "name": "stdout",
          "text": [
            "[I 2025-02-04 10:01:32,262] Trial 42 finished with value: 0.571855378076253 and parameters: {'model': 'xgboost', 'class_weight_option': 'balanced', 'learning_rate': 0.05361298953991261, 'n_estimators': 710, 'max_depth': 7, 'subsample': 0.7344984789779685, 'colsample_bytree': 0.658455575057638, 'gamma': 0.07537020881670761, 'reg_alpha': 0.378972141615097, 'reg_lambda': 0.17760155997405205}. Best is trial 41 with value: 0.5740448499848652.\n"
          ]
        },
        {
          "output_type": "stream",
          "name": "stderr",
          "text": [
            "/usr/local/lib/python3.11/dist-packages/xgboost/core.py:158: UserWarning: [10:01:32] WARNING: /workspace/src/context.cc:43: No visible GPU is found, setting device to CPU.\n",
            "  warnings.warn(smsg, UserWarning)\n",
            "/usr/local/lib/python3.11/dist-packages/xgboost/core.py:158: UserWarning: [10:01:32] WARNING: /workspace/src/context.cc:196: XGBoost is not compiled with CUDA support.\n",
            "  warnings.warn(smsg, UserWarning)\n",
            "/usr/local/lib/python3.11/dist-packages/xgboost/core.py:158: UserWarning: [10:01:35] WARNING: /workspace/src/context.cc:43: No visible GPU is found, setting device to CPU.\n",
            "  warnings.warn(smsg, UserWarning)\n",
            "/usr/local/lib/python3.11/dist-packages/xgboost/core.py:158: UserWarning: [10:01:35] WARNING: /workspace/src/context.cc:196: XGBoost is not compiled with CUDA support.\n",
            "  warnings.warn(smsg, UserWarning)\n",
            "/usr/local/lib/python3.11/dist-packages/xgboost/core.py:158: UserWarning: [10:01:37] WARNING: /workspace/src/context.cc:43: No visible GPU is found, setting device to CPU.\n",
            "  warnings.warn(smsg, UserWarning)\n",
            "/usr/local/lib/python3.11/dist-packages/xgboost/core.py:158: UserWarning: [10:01:37] WARNING: /workspace/src/context.cc:196: XGBoost is not compiled with CUDA support.\n",
            "  warnings.warn(smsg, UserWarning)\n",
            "/usr/local/lib/python3.11/dist-packages/xgboost/core.py:158: UserWarning: [10:01:39] WARNING: /workspace/src/context.cc:43: No visible GPU is found, setting device to CPU.\n",
            "  warnings.warn(smsg, UserWarning)\n",
            "/usr/local/lib/python3.11/dist-packages/xgboost/core.py:158: UserWarning: [10:01:39] WARNING: /workspace/src/context.cc:196: XGBoost is not compiled with CUDA support.\n",
            "  warnings.warn(smsg, UserWarning)\n",
            "/usr/local/lib/python3.11/dist-packages/xgboost/core.py:158: UserWarning: [10:01:42] WARNING: /workspace/src/context.cc:43: No visible GPU is found, setting device to CPU.\n",
            "  warnings.warn(smsg, UserWarning)\n",
            "/usr/local/lib/python3.11/dist-packages/xgboost/core.py:158: UserWarning: [10:01:42] WARNING: /workspace/src/context.cc:196: XGBoost is not compiled with CUDA support.\n",
            "  warnings.warn(smsg, UserWarning)\n"
          ]
        },
        {
          "output_type": "stream",
          "name": "stdout",
          "text": [
            "[I 2025-02-04 10:01:47,168] Trial 43 finished with value: 0.563120700608849 and parameters: {'model': 'xgboost', 'class_weight_option': 'balanced', 'learning_rate': 0.05891206790887814, 'n_estimators': 715, 'max_depth': 8, 'subsample': 0.7882523689672937, 'colsample_bytree': 0.6418214120693336, 'gamma': 0.22160851253646557, 'reg_alpha': 0.29570262441951284, 'reg_lambda': 0.18723815233515148}. Best is trial 41 with value: 0.5740448499848652.\n"
          ]
        },
        {
          "output_type": "stream",
          "name": "stderr",
          "text": [
            "/usr/local/lib/python3.11/dist-packages/xgboost/core.py:158: UserWarning: [10:01:47] WARNING: /workspace/src/context.cc:43: No visible GPU is found, setting device to CPU.\n",
            "  warnings.warn(smsg, UserWarning)\n",
            "/usr/local/lib/python3.11/dist-packages/xgboost/core.py:158: UserWarning: [10:01:47] WARNING: /workspace/src/context.cc:196: XGBoost is not compiled with CUDA support.\n",
            "  warnings.warn(smsg, UserWarning)\n",
            "/usr/local/lib/python3.11/dist-packages/xgboost/core.py:158: UserWarning: [10:01:51] WARNING: /workspace/src/context.cc:43: No visible GPU is found, setting device to CPU.\n",
            "  warnings.warn(smsg, UserWarning)\n",
            "/usr/local/lib/python3.11/dist-packages/xgboost/core.py:158: UserWarning: [10:01:51] WARNING: /workspace/src/context.cc:196: XGBoost is not compiled with CUDA support.\n",
            "  warnings.warn(smsg, UserWarning)\n",
            "/usr/local/lib/python3.11/dist-packages/xgboost/core.py:158: UserWarning: [10:01:54] WARNING: /workspace/src/context.cc:43: No visible GPU is found, setting device to CPU.\n",
            "  warnings.warn(smsg, UserWarning)\n",
            "/usr/local/lib/python3.11/dist-packages/xgboost/core.py:158: UserWarning: [10:01:54] WARNING: /workspace/src/context.cc:196: XGBoost is not compiled with CUDA support.\n",
            "  warnings.warn(smsg, UserWarning)\n",
            "/usr/local/lib/python3.11/dist-packages/xgboost/core.py:158: UserWarning: [10:02:00] WARNING: /workspace/src/context.cc:43: No visible GPU is found, setting device to CPU.\n",
            "  warnings.warn(smsg, UserWarning)\n",
            "/usr/local/lib/python3.11/dist-packages/xgboost/core.py:158: UserWarning: [10:02:00] WARNING: /workspace/src/context.cc:196: XGBoost is not compiled with CUDA support.\n",
            "  warnings.warn(smsg, UserWarning)\n",
            "/usr/local/lib/python3.11/dist-packages/xgboost/core.py:158: UserWarning: [10:02:04] WARNING: /workspace/src/context.cc:43: No visible GPU is found, setting device to CPU.\n",
            "  warnings.warn(smsg, UserWarning)\n",
            "/usr/local/lib/python3.11/dist-packages/xgboost/core.py:158: UserWarning: [10:02:04] WARNING: /workspace/src/context.cc:196: XGBoost is not compiled with CUDA support.\n",
            "  warnings.warn(smsg, UserWarning)\n"
          ]
        },
        {
          "output_type": "stream",
          "name": "stdout",
          "text": [
            "[I 2025-02-04 10:02:07,479] Trial 44 finished with value: 0.5772407176649966 and parameters: {'model': 'xgboost', 'class_weight_option': 'balanced', 'learning_rate': 0.04875254354067748, 'n_estimators': 504, 'max_depth': 7, 'subsample': 0.8240366049708174, 'colsample_bytree': 0.6539921782302928, 'gamma': 0.05995461089050097, 'reg_alpha': 0.4846994640222938, 'reg_lambda': 0.30350835031733764}. Best is trial 44 with value: 0.5772407176649966.\n"
          ]
        },
        {
          "output_type": "stream",
          "name": "stderr",
          "text": [
            "/usr/local/lib/python3.11/dist-packages/xgboost/core.py:158: UserWarning: [10:02:07] WARNING: /workspace/src/context.cc:43: No visible GPU is found, setting device to CPU.\n",
            "  warnings.warn(smsg, UserWarning)\n",
            "/usr/local/lib/python3.11/dist-packages/xgboost/core.py:158: UserWarning: [10:02:07] WARNING: /workspace/src/context.cc:196: XGBoost is not compiled with CUDA support.\n",
            "  warnings.warn(smsg, UserWarning)\n",
            "/usr/local/lib/python3.11/dist-packages/xgboost/core.py:158: UserWarning: [10:02:13] WARNING: /workspace/src/context.cc:43: No visible GPU is found, setting device to CPU.\n",
            "  warnings.warn(smsg, UserWarning)\n",
            "/usr/local/lib/python3.11/dist-packages/xgboost/core.py:158: UserWarning: [10:02:13] WARNING: /workspace/src/context.cc:196: XGBoost is not compiled with CUDA support.\n",
            "  warnings.warn(smsg, UserWarning)\n",
            "/usr/local/lib/python3.11/dist-packages/xgboost/core.py:158: UserWarning: [10:02:17] WARNING: /workspace/src/context.cc:43: No visible GPU is found, setting device to CPU.\n",
            "  warnings.warn(smsg, UserWarning)\n",
            "/usr/local/lib/python3.11/dist-packages/xgboost/core.py:158: UserWarning: [10:02:17] WARNING: /workspace/src/context.cc:196: XGBoost is not compiled with CUDA support.\n",
            "  warnings.warn(smsg, UserWarning)\n",
            "/usr/local/lib/python3.11/dist-packages/xgboost/core.py:158: UserWarning: [10:02:20] WARNING: /workspace/src/context.cc:43: No visible GPU is found, setting device to CPU.\n",
            "  warnings.warn(smsg, UserWarning)\n",
            "/usr/local/lib/python3.11/dist-packages/xgboost/core.py:158: UserWarning: [10:02:20] WARNING: /workspace/src/context.cc:196: XGBoost is not compiled with CUDA support.\n",
            "  warnings.warn(smsg, UserWarning)\n",
            "/usr/local/lib/python3.11/dist-packages/xgboost/core.py:158: UserWarning: [10:02:26] WARNING: /workspace/src/context.cc:43: No visible GPU is found, setting device to CPU.\n",
            "  warnings.warn(smsg, UserWarning)\n",
            "/usr/local/lib/python3.11/dist-packages/xgboost/core.py:158: UserWarning: [10:02:26] WARNING: /workspace/src/context.cc:196: XGBoost is not compiled with CUDA support.\n",
            "  warnings.warn(smsg, UserWarning)\n"
          ]
        },
        {
          "output_type": "stream",
          "name": "stdout",
          "text": [
            "[I 2025-02-04 10:02:30,095] Trial 45 finished with value: 0.5743377401422295 and parameters: {'model': 'xgboost', 'class_weight_option': 'balanced', 'learning_rate': 0.045551266282723275, 'n_estimators': 698, 'max_depth': 7, 'subsample': 0.812056809000133, 'colsample_bytree': 0.6429217100359765, 'gamma': 0.14065184757503663, 'reg_alpha': 0.486808393097219, 'reg_lambda': 0.2889687773749196}. Best is trial 44 with value: 0.5772407176649966.\n"
          ]
        },
        {
          "output_type": "stream",
          "name": "stderr",
          "text": [
            "/usr/local/lib/python3.11/dist-packages/xgboost/core.py:158: UserWarning: [10:02:30] WARNING: /workspace/src/context.cc:43: No visible GPU is found, setting device to CPU.\n",
            "  warnings.warn(smsg, UserWarning)\n",
            "/usr/local/lib/python3.11/dist-packages/xgboost/core.py:158: UserWarning: [10:02:30] WARNING: /workspace/src/context.cc:196: XGBoost is not compiled with CUDA support.\n",
            "  warnings.warn(smsg, UserWarning)\n",
            "/usr/local/lib/python3.11/dist-packages/xgboost/core.py:158: UserWarning: [10:02:34] WARNING: /workspace/src/context.cc:43: No visible GPU is found, setting device to CPU.\n",
            "  warnings.warn(smsg, UserWarning)\n",
            "/usr/local/lib/python3.11/dist-packages/xgboost/core.py:158: UserWarning: [10:02:34] WARNING: /workspace/src/context.cc:196: XGBoost is not compiled with CUDA support.\n",
            "  warnings.warn(smsg, UserWarning)\n",
            "/usr/local/lib/python3.11/dist-packages/xgboost/core.py:158: UserWarning: [10:02:40] WARNING: /workspace/src/context.cc:43: No visible GPU is found, setting device to CPU.\n",
            "  warnings.warn(smsg, UserWarning)\n",
            "/usr/local/lib/python3.11/dist-packages/xgboost/core.py:158: UserWarning: [10:02:40] WARNING: /workspace/src/context.cc:196: XGBoost is not compiled with CUDA support.\n",
            "  warnings.warn(smsg, UserWarning)\n",
            "/usr/local/lib/python3.11/dist-packages/xgboost/core.py:158: UserWarning: [10:02:43] WARNING: /workspace/src/context.cc:43: No visible GPU is found, setting device to CPU.\n",
            "  warnings.warn(smsg, UserWarning)\n",
            "/usr/local/lib/python3.11/dist-packages/xgboost/core.py:158: UserWarning: [10:02:43] WARNING: /workspace/src/context.cc:196: XGBoost is not compiled with CUDA support.\n",
            "  warnings.warn(smsg, UserWarning)\n",
            "/usr/local/lib/python3.11/dist-packages/xgboost/core.py:158: UserWarning: [10:02:47] WARNING: /workspace/src/context.cc:43: No visible GPU is found, setting device to CPU.\n",
            "  warnings.warn(smsg, UserWarning)\n",
            "/usr/local/lib/python3.11/dist-packages/xgboost/core.py:158: UserWarning: [10:02:47] WARNING: /workspace/src/context.cc:196: XGBoost is not compiled with CUDA support.\n",
            "  warnings.warn(smsg, UserWarning)\n"
          ]
        },
        {
          "output_type": "stream",
          "name": "stdout",
          "text": [
            "[I 2025-02-04 10:02:54,181] Trial 46 finished with value: 0.5683883941767836 and parameters: {'model': 'xgboost', 'class_weight_option': 'balanced', 'learning_rate': 0.0417797469043886, 'n_estimators': 701, 'max_depth': 6, 'subsample': 0.8244323328958436, 'colsample_bytree': 0.6544556839187435, 'gamma': 0.1411373893479297, 'reg_alpha': 0.5928892551291547, 'reg_lambda': 0.32641630260925053}. Best is trial 44 with value: 0.5772407176649966.\n",
            "[I 2025-02-04 10:03:27,219] Trial 47 finished with value: 0.36899457774054606 and parameters: {'model': 'random_forest', 'class_weight_option': None, 'n_estimators': 932, 'max_depth': 20, 'min_samples_split': 11, 'min_samples_leaf': 7, 'max_features': 'sqrt'}. Best is trial 44 with value: 0.5772407176649966.\n"
          ]
        },
        {
          "output_type": "stream",
          "name": "stderr",
          "text": [
            "/usr/local/lib/python3.11/dist-packages/xgboost/core.py:158: UserWarning: [10:03:27] WARNING: /workspace/src/context.cc:43: No visible GPU is found, setting device to CPU.\n",
            "  warnings.warn(smsg, UserWarning)\n",
            "/usr/local/lib/python3.11/dist-packages/xgboost/core.py:158: UserWarning: [10:03:27] WARNING: /workspace/src/context.cc:196: XGBoost is not compiled with CUDA support.\n",
            "  warnings.warn(smsg, UserWarning)\n",
            "/usr/local/lib/python3.11/dist-packages/xgboost/core.py:158: UserWarning: [10:03:36] WARNING: /workspace/src/context.cc:43: No visible GPU is found, setting device to CPU.\n",
            "  warnings.warn(smsg, UserWarning)\n",
            "/usr/local/lib/python3.11/dist-packages/xgboost/core.py:158: UserWarning: [10:03:36] WARNING: /workspace/src/context.cc:196: XGBoost is not compiled with CUDA support.\n",
            "  warnings.warn(smsg, UserWarning)\n",
            "/usr/local/lib/python3.11/dist-packages/xgboost/core.py:158: UserWarning: [10:03:45] WARNING: /workspace/src/context.cc:43: No visible GPU is found, setting device to CPU.\n",
            "  warnings.warn(smsg, UserWarning)\n",
            "/usr/local/lib/python3.11/dist-packages/xgboost/core.py:158: UserWarning: [10:03:45] WARNING: /workspace/src/context.cc:196: XGBoost is not compiled with CUDA support.\n",
            "  warnings.warn(smsg, UserWarning)\n",
            "/usr/local/lib/python3.11/dist-packages/xgboost/core.py:158: UserWarning: [10:03:51] WARNING: /workspace/src/context.cc:43: No visible GPU is found, setting device to CPU.\n",
            "  warnings.warn(smsg, UserWarning)\n",
            "/usr/local/lib/python3.11/dist-packages/xgboost/core.py:158: UserWarning: [10:03:51] WARNING: /workspace/src/context.cc:196: XGBoost is not compiled with CUDA support.\n",
            "  warnings.warn(smsg, UserWarning)\n",
            "/usr/local/lib/python3.11/dist-packages/xgboost/core.py:158: UserWarning: [10:04:00] WARNING: /workspace/src/context.cc:43: No visible GPU is found, setting device to CPU.\n",
            "  warnings.warn(smsg, UserWarning)\n",
            "/usr/local/lib/python3.11/dist-packages/xgboost/core.py:158: UserWarning: [10:04:00] WARNING: /workspace/src/context.cc:196: XGBoost is not compiled with CUDA support.\n",
            "  warnings.warn(smsg, UserWarning)\n"
          ]
        },
        {
          "output_type": "stream",
          "name": "stdout",
          "text": [
            "[I 2025-02-04 10:04:06,881] Trial 48 finished with value: 0.5439017586506898 and parameters: {'model': 'xgboost', 'class_weight_option': 'balanced', 'learning_rate': 0.009786417704223964, 'n_estimators': 574, 'max_depth': 7, 'subsample': 0.8777718346547335, 'colsample_bytree': 0.6538110073777429, 'gamma': 0.13796274582003298, 'reg_alpha': 0.4946960542957517, 'reg_lambda': 0.23347625124428883}. Best is trial 44 with value: 0.5772407176649966.\n"
          ]
        },
        {
          "output_type": "stream",
          "name": "stderr",
          "text": [
            "/usr/local/lib/python3.11/dist-packages/xgboost/core.py:158: UserWarning: [10:04:07] WARNING: /workspace/src/context.cc:43: No visible GPU is found, setting device to CPU.\n",
            "  warnings.warn(smsg, UserWarning)\n",
            "/usr/local/lib/python3.11/dist-packages/xgboost/core.py:158: UserWarning: [10:04:07] WARNING: /workspace/src/context.cc:196: XGBoost is not compiled with CUDA support.\n",
            "  warnings.warn(smsg, UserWarning)\n",
            "/usr/local/lib/python3.11/dist-packages/xgboost/core.py:158: UserWarning: [10:04:13] WARNING: /workspace/src/context.cc:43: No visible GPU is found, setting device to CPU.\n",
            "  warnings.warn(smsg, UserWarning)\n",
            "/usr/local/lib/python3.11/dist-packages/xgboost/core.py:158: UserWarning: [10:04:13] WARNING: /workspace/src/context.cc:196: XGBoost is not compiled with CUDA support.\n",
            "  warnings.warn(smsg, UserWarning)\n",
            "/usr/local/lib/python3.11/dist-packages/xgboost/core.py:158: UserWarning: [10:04:17] WARNING: /workspace/src/context.cc:43: No visible GPU is found, setting device to CPU.\n",
            "  warnings.warn(smsg, UserWarning)\n",
            "/usr/local/lib/python3.11/dist-packages/xgboost/core.py:158: UserWarning: [10:04:17] WARNING: /workspace/src/context.cc:196: XGBoost is not compiled with CUDA support.\n",
            "  warnings.warn(smsg, UserWarning)\n",
            "/usr/local/lib/python3.11/dist-packages/xgboost/core.py:158: UserWarning: [10:04:23] WARNING: /workspace/src/context.cc:43: No visible GPU is found, setting device to CPU.\n",
            "  warnings.warn(smsg, UserWarning)\n",
            "/usr/local/lib/python3.11/dist-packages/xgboost/core.py:158: UserWarning: [10:04:23] WARNING: /workspace/src/context.cc:196: XGBoost is not compiled with CUDA support.\n",
            "  warnings.warn(smsg, UserWarning)\n",
            "/usr/local/lib/python3.11/dist-packages/xgboost/core.py:158: UserWarning: [10:04:27] WARNING: /workspace/src/context.cc:43: No visible GPU is found, setting device to CPU.\n",
            "  warnings.warn(smsg, UserWarning)\n",
            "/usr/local/lib/python3.11/dist-packages/xgboost/core.py:158: UserWarning: [10:04:27] WARNING: /workspace/src/context.cc:196: XGBoost is not compiled with CUDA support.\n",
            "  warnings.warn(smsg, UserWarning)\n"
          ]
        },
        {
          "output_type": "stream",
          "name": "stdout",
          "text": [
            "[I 2025-02-04 10:04:31,320] Trial 49 finished with value: 0.5712777074663737 and parameters: {'model': 'xgboost', 'class_weight_option': 'balanced', 'learning_rate': 0.03482530867726362, 'n_estimators': 889, 'max_depth': 7, 'subsample': 0.7828436536165114, 'colsample_bytree': 0.6274628665164882, 'gamma': 0.23461292996983524, 'reg_alpha': 0.686345036516832, 'reg_lambda': 0.3548003648573094}. Best is trial 44 with value: 0.5772407176649966.\n"
          ]
        },
        {
          "output_type": "stream",
          "name": "stderr",
          "text": [
            "/usr/local/lib/python3.11/dist-packages/xgboost/core.py:158: UserWarning: [10:04:31] WARNING: /workspace/src/context.cc:43: No visible GPU is found, setting device to CPU.\n",
            "  warnings.warn(smsg, UserWarning)\n",
            "/usr/local/lib/python3.11/dist-packages/xgboost/core.py:158: UserWarning: [10:04:31] WARNING: /workspace/src/context.cc:196: XGBoost is not compiled with CUDA support.\n",
            "  warnings.warn(smsg, UserWarning)\n",
            "/usr/local/lib/python3.11/dist-packages/xgboost/core.py:158: UserWarning: [10:04:36] WARNING: /workspace/src/context.cc:43: No visible GPU is found, setting device to CPU.\n",
            "  warnings.warn(smsg, UserWarning)\n",
            "/usr/local/lib/python3.11/dist-packages/xgboost/core.py:158: UserWarning: [10:04:36] WARNING: /workspace/src/context.cc:196: XGBoost is not compiled with CUDA support.\n",
            "  warnings.warn(smsg, UserWarning)\n",
            "/usr/local/lib/python3.11/dist-packages/xgboost/core.py:158: UserWarning: [10:04:38] WARNING: /workspace/src/context.cc:43: No visible GPU is found, setting device to CPU.\n",
            "  warnings.warn(smsg, UserWarning)\n",
            "/usr/local/lib/python3.11/dist-packages/xgboost/core.py:158: UserWarning: [10:04:38] WARNING: /workspace/src/context.cc:196: XGBoost is not compiled with CUDA support.\n",
            "  warnings.warn(smsg, UserWarning)\n",
            "/usr/local/lib/python3.11/dist-packages/xgboost/core.py:158: UserWarning: [10:04:39] WARNING: /workspace/src/context.cc:43: No visible GPU is found, setting device to CPU.\n",
            "  warnings.warn(smsg, UserWarning)\n",
            "/usr/local/lib/python3.11/dist-packages/xgboost/core.py:158: UserWarning: [10:04:39] WARNING: /workspace/src/context.cc:196: XGBoost is not compiled with CUDA support.\n",
            "  warnings.warn(smsg, UserWarning)\n",
            "/usr/local/lib/python3.11/dist-packages/xgboost/core.py:158: UserWarning: [10:04:41] WARNING: /workspace/src/context.cc:43: No visible GPU is found, setting device to CPU.\n",
            "  warnings.warn(smsg, UserWarning)\n",
            "/usr/local/lib/python3.11/dist-packages/xgboost/core.py:158: UserWarning: [10:04:41] WARNING: /workspace/src/context.cc:196: XGBoost is not compiled with CUDA support.\n",
            "  warnings.warn(smsg, UserWarning)\n"
          ]
        },
        {
          "output_type": "stream",
          "name": "stdout",
          "text": [
            "[I 2025-02-04 10:04:43,111] Trial 50 finished with value: 0.5788741117267782 and parameters: {'model': 'xgboost', 'class_weight_option': 'balanced', 'learning_rate': 0.10740760496673696, 'n_estimators': 703, 'max_depth': 7, 'subsample': 0.8140148951410097, 'colsample_bytree': 0.6651727489155653, 'gamma': 0.06683112282250073, 'reg_alpha': 0.7924191963027247, 'reg_lambda': 0.2759699403991971}. Best is trial 50 with value: 0.5788741117267782.\n"
          ]
        },
        {
          "output_type": "stream",
          "name": "stderr",
          "text": [
            "/usr/local/lib/python3.11/dist-packages/xgboost/core.py:158: UserWarning: [10:04:43] WARNING: /workspace/src/context.cc:43: No visible GPU is found, setting device to CPU.\n",
            "  warnings.warn(smsg, UserWarning)\n",
            "/usr/local/lib/python3.11/dist-packages/xgboost/core.py:158: UserWarning: [10:04:43] WARNING: /workspace/src/context.cc:196: XGBoost is not compiled with CUDA support.\n",
            "  warnings.warn(smsg, UserWarning)\n",
            "/usr/local/lib/python3.11/dist-packages/xgboost/core.py:158: UserWarning: [10:04:44] WARNING: /workspace/src/context.cc:43: No visible GPU is found, setting device to CPU.\n",
            "  warnings.warn(smsg, UserWarning)\n",
            "/usr/local/lib/python3.11/dist-packages/xgboost/core.py:158: UserWarning: [10:04:44] WARNING: /workspace/src/context.cc:196: XGBoost is not compiled with CUDA support.\n",
            "  warnings.warn(smsg, UserWarning)\n",
            "/usr/local/lib/python3.11/dist-packages/xgboost/core.py:158: UserWarning: [10:04:48] WARNING: /workspace/src/context.cc:43: No visible GPU is found, setting device to CPU.\n",
            "  warnings.warn(smsg, UserWarning)\n",
            "/usr/local/lib/python3.11/dist-packages/xgboost/core.py:158: UserWarning: [10:04:48] WARNING: /workspace/src/context.cc:196: XGBoost is not compiled with CUDA support.\n",
            "  warnings.warn(smsg, UserWarning)\n",
            "/usr/local/lib/python3.11/dist-packages/xgboost/core.py:158: UserWarning: [10:04:50] WARNING: /workspace/src/context.cc:43: No visible GPU is found, setting device to CPU.\n",
            "  warnings.warn(smsg, UserWarning)\n",
            "/usr/local/lib/python3.11/dist-packages/xgboost/core.py:158: UserWarning: [10:04:50] WARNING: /workspace/src/context.cc:196: XGBoost is not compiled with CUDA support.\n",
            "  warnings.warn(smsg, UserWarning)\n",
            "/usr/local/lib/python3.11/dist-packages/xgboost/core.py:158: UserWarning: [10:04:51] WARNING: /workspace/src/context.cc:43: No visible GPU is found, setting device to CPU.\n",
            "  warnings.warn(smsg, UserWarning)\n",
            "/usr/local/lib/python3.11/dist-packages/xgboost/core.py:158: UserWarning: [10:04:51] WARNING: /workspace/src/context.cc:196: XGBoost is not compiled with CUDA support.\n",
            "  warnings.warn(smsg, UserWarning)\n"
          ]
        },
        {
          "output_type": "stream",
          "name": "stdout",
          "text": [
            "[I 2025-02-04 10:04:53,082] Trial 51 finished with value: 0.5375530093538398 and parameters: {'model': 'xgboost', 'class_weight_option': None, 'learning_rate': 0.09886652002171305, 'n_estimators': 854, 'max_depth': 6, 'subsample': 0.8168694538107372, 'colsample_bytree': 0.6177230016427103, 'gamma': 0.1426842245085284, 'reg_alpha': 0.8549257553944923, 'reg_lambda': 0.27647365257479317}. Best is trial 50 with value: 0.5788741117267782.\n"
          ]
        },
        {
          "output_type": "stream",
          "name": "stderr",
          "text": [
            "/usr/local/lib/python3.11/dist-packages/xgboost/core.py:158: UserWarning: [10:04:53] WARNING: /workspace/src/context.cc:43: No visible GPU is found, setting device to CPU.\n",
            "  warnings.warn(smsg, UserWarning)\n",
            "/usr/local/lib/python3.11/dist-packages/xgboost/core.py:158: UserWarning: [10:04:53] WARNING: /workspace/src/context.cc:196: XGBoost is not compiled with CUDA support.\n",
            "  warnings.warn(smsg, UserWarning)\n",
            "/usr/local/lib/python3.11/dist-packages/xgboost/core.py:158: UserWarning: [10:04:57] WARNING: /workspace/src/context.cc:43: No visible GPU is found, setting device to CPU.\n",
            "  warnings.warn(smsg, UserWarning)\n",
            "/usr/local/lib/python3.11/dist-packages/xgboost/core.py:158: UserWarning: [10:04:57] WARNING: /workspace/src/context.cc:196: XGBoost is not compiled with CUDA support.\n",
            "  warnings.warn(smsg, UserWarning)\n",
            "/usr/local/lib/python3.11/dist-packages/xgboost/core.py:158: UserWarning: [10:05:03] WARNING: /workspace/src/context.cc:43: No visible GPU is found, setting device to CPU.\n",
            "  warnings.warn(smsg, UserWarning)\n",
            "/usr/local/lib/python3.11/dist-packages/xgboost/core.py:158: UserWarning: [10:05:03] WARNING: /workspace/src/context.cc:196: XGBoost is not compiled with CUDA support.\n",
            "  warnings.warn(smsg, UserWarning)\n",
            "/usr/local/lib/python3.11/dist-packages/xgboost/core.py:158: UserWarning: [10:05:06] WARNING: /workspace/src/context.cc:43: No visible GPU is found, setting device to CPU.\n",
            "  warnings.warn(smsg, UserWarning)\n",
            "/usr/local/lib/python3.11/dist-packages/xgboost/core.py:158: UserWarning: [10:05:06] WARNING: /workspace/src/context.cc:196: XGBoost is not compiled with CUDA support.\n",
            "  warnings.warn(smsg, UserWarning)\n",
            "/usr/local/lib/python3.11/dist-packages/xgboost/core.py:158: UserWarning: [10:05:09] WARNING: /workspace/src/context.cc:43: No visible GPU is found, setting device to CPU.\n",
            "  warnings.warn(smsg, UserWarning)\n",
            "/usr/local/lib/python3.11/dist-packages/xgboost/core.py:158: UserWarning: [10:05:09] WARNING: /workspace/src/context.cc:196: XGBoost is not compiled with CUDA support.\n",
            "  warnings.warn(smsg, UserWarning)\n"
          ]
        },
        {
          "output_type": "stream",
          "name": "stdout",
          "text": [
            "[I 2025-02-04 10:05:15,646] Trial 52 finished with value: 0.5789526592354312 and parameters: {'model': 'xgboost', 'class_weight_option': 'balanced', 'learning_rate': 0.05167624751230276, 'n_estimators': 706, 'max_depth': 7, 'subsample': 0.8678851159807038, 'colsample_bytree': 0.6676495953356804, 'gamma': 0.06522507107998345, 'reg_alpha': 0.8272282933868462, 'reg_lambda': 0.17328769663368387}. Best is trial 52 with value: 0.5789526592354312.\n"
          ]
        },
        {
          "output_type": "stream",
          "name": "stderr",
          "text": [
            "/usr/local/lib/python3.11/dist-packages/xgboost/core.py:158: UserWarning: [10:05:15] WARNING: /workspace/src/context.cc:43: No visible GPU is found, setting device to CPU.\n",
            "  warnings.warn(smsg, UserWarning)\n",
            "/usr/local/lib/python3.11/dist-packages/xgboost/core.py:158: UserWarning: [10:05:15] WARNING: /workspace/src/context.cc:196: XGBoost is not compiled with CUDA support.\n",
            "  warnings.warn(smsg, UserWarning)\n",
            "/usr/local/lib/python3.11/dist-packages/xgboost/core.py:158: UserWarning: [10:05:19] WARNING: /workspace/src/context.cc:43: No visible GPU is found, setting device to CPU.\n",
            "  warnings.warn(smsg, UserWarning)\n",
            "/usr/local/lib/python3.11/dist-packages/xgboost/core.py:158: UserWarning: [10:05:19] WARNING: /workspace/src/context.cc:196: XGBoost is not compiled with CUDA support.\n",
            "  warnings.warn(smsg, UserWarning)\n",
            "/usr/local/lib/python3.11/dist-packages/xgboost/core.py:158: UserWarning: [10:05:23] WARNING: /workspace/src/context.cc:43: No visible GPU is found, setting device to CPU.\n",
            "  warnings.warn(smsg, UserWarning)\n",
            "/usr/local/lib/python3.11/dist-packages/xgboost/core.py:158: UserWarning: [10:05:23] WARNING: /workspace/src/context.cc:196: XGBoost is not compiled with CUDA support.\n",
            "  warnings.warn(smsg, UserWarning)\n",
            "/usr/local/lib/python3.11/dist-packages/xgboost/core.py:158: UserWarning: [10:05:29] WARNING: /workspace/src/context.cc:43: No visible GPU is found, setting device to CPU.\n",
            "  warnings.warn(smsg, UserWarning)\n",
            "/usr/local/lib/python3.11/dist-packages/xgboost/core.py:158: UserWarning: [10:05:29] WARNING: /workspace/src/context.cc:196: XGBoost is not compiled with CUDA support.\n",
            "  warnings.warn(smsg, UserWarning)\n",
            "/usr/local/lib/python3.11/dist-packages/xgboost/core.py:158: UserWarning: [10:05:33] WARNING: /workspace/src/context.cc:43: No visible GPU is found, setting device to CPU.\n",
            "  warnings.warn(smsg, UserWarning)\n",
            "/usr/local/lib/python3.11/dist-packages/xgboost/core.py:158: UserWarning: [10:05:33] WARNING: /workspace/src/context.cc:196: XGBoost is not compiled with CUDA support.\n",
            "  warnings.warn(smsg, UserWarning)\n"
          ]
        },
        {
          "output_type": "stream",
          "name": "stdout",
          "text": [
            "[I 2025-02-04 10:05:36,690] Trial 53 finished with value: 0.5737238910390687 and parameters: {'model': 'xgboost', 'class_weight_option': 'balanced', 'learning_rate': 0.04529102994920275, 'n_estimators': 547, 'max_depth': 6, 'subsample': 0.886240929276969, 'colsample_bytree': 0.6934012432827403, 'gamma': 0.055431695300485716, 'reg_alpha': 0.8151617129163387, 'reg_lambda': 0.28994741473018637}. Best is trial 52 with value: 0.5789526592354312.\n"
          ]
        },
        {
          "output_type": "stream",
          "name": "stderr",
          "text": [
            "/usr/local/lib/python3.11/dist-packages/xgboost/core.py:158: UserWarning: [10:05:37] WARNING: /workspace/src/context.cc:43: No visible GPU is found, setting device to CPU.\n",
            "  warnings.warn(smsg, UserWarning)\n",
            "/usr/local/lib/python3.11/dist-packages/xgboost/core.py:158: UserWarning: [10:05:37] WARNING: /workspace/src/context.cc:196: XGBoost is not compiled with CUDA support.\n",
            "  warnings.warn(smsg, UserWarning)\n",
            "/usr/local/lib/python3.11/dist-packages/xgboost/core.py:158: UserWarning: [10:05:42] WARNING: /workspace/src/context.cc:43: No visible GPU is found, setting device to CPU.\n",
            "  warnings.warn(smsg, UserWarning)\n",
            "/usr/local/lib/python3.11/dist-packages/xgboost/core.py:158: UserWarning: [10:05:42] WARNING: /workspace/src/context.cc:196: XGBoost is not compiled with CUDA support.\n",
            "  warnings.warn(smsg, UserWarning)\n",
            "/usr/local/lib/python3.11/dist-packages/xgboost/core.py:158: UserWarning: [10:05:45] WARNING: /workspace/src/context.cc:43: No visible GPU is found, setting device to CPU.\n",
            "  warnings.warn(smsg, UserWarning)\n",
            "/usr/local/lib/python3.11/dist-packages/xgboost/core.py:158: UserWarning: [10:05:45] WARNING: /workspace/src/context.cc:196: XGBoost is not compiled with CUDA support.\n",
            "  warnings.warn(smsg, UserWarning)\n",
            "/usr/local/lib/python3.11/dist-packages/xgboost/core.py:158: UserWarning: [10:05:48] WARNING: /workspace/src/context.cc:43: No visible GPU is found, setting device to CPU.\n",
            "  warnings.warn(smsg, UserWarning)\n",
            "/usr/local/lib/python3.11/dist-packages/xgboost/core.py:158: UserWarning: [10:05:48] WARNING: /workspace/src/context.cc:196: XGBoost is not compiled with CUDA support.\n",
            "  warnings.warn(smsg, UserWarning)\n",
            "/usr/local/lib/python3.11/dist-packages/xgboost/core.py:158: UserWarning: [10:05:54] WARNING: /workspace/src/context.cc:43: No visible GPU is found, setting device to CPU.\n",
            "  warnings.warn(smsg, UserWarning)\n",
            "/usr/local/lib/python3.11/dist-packages/xgboost/core.py:158: UserWarning: [10:05:54] WARNING: /workspace/src/context.cc:196: XGBoost is not compiled with CUDA support.\n",
            "  warnings.warn(smsg, UserWarning)\n"
          ]
        },
        {
          "output_type": "stream",
          "name": "stdout",
          "text": [
            "[I 2025-02-04 10:05:58,076] Trial 54 finished with value: 0.5593623801702419 and parameters: {'model': 'xgboost', 'class_weight_option': 'balanced', 'learning_rate': 0.04074928774025888, 'n_estimators': 567, 'max_depth': 5, 'subsample': 0.9109055855966608, 'colsample_bytree': 0.6741093570936056, 'gamma': 0.11514769594541716, 'reg_alpha': 0.8071339872502241, 'reg_lambda': 0.29874361028661434}. Best is trial 52 with value: 0.5789526592354312.\n"
          ]
        },
        {
          "output_type": "stream",
          "name": "stderr",
          "text": [
            "/usr/local/lib/python3.11/dist-packages/xgboost/core.py:158: UserWarning: [10:05:58] WARNING: /workspace/src/context.cc:43: No visible GPU is found, setting device to CPU.\n",
            "  warnings.warn(smsg, UserWarning)\n",
            "/usr/local/lib/python3.11/dist-packages/xgboost/core.py:158: UserWarning: [10:05:58] WARNING: /workspace/src/context.cc:196: XGBoost is not compiled with CUDA support.\n",
            "  warnings.warn(smsg, UserWarning)\n",
            "/usr/local/lib/python3.11/dist-packages/xgboost/core.py:158: UserWarning: [10:06:00] WARNING: /workspace/src/context.cc:43: No visible GPU is found, setting device to CPU.\n",
            "  warnings.warn(smsg, UserWarning)\n",
            "/usr/local/lib/python3.11/dist-packages/xgboost/core.py:158: UserWarning: [10:06:00] WARNING: /workspace/src/context.cc:196: XGBoost is not compiled with CUDA support.\n",
            "  warnings.warn(smsg, UserWarning)\n",
            "/usr/local/lib/python3.11/dist-packages/xgboost/core.py:158: UserWarning: [10:06:01] WARNING: /workspace/src/context.cc:43: No visible GPU is found, setting device to CPU.\n",
            "  warnings.warn(smsg, UserWarning)\n",
            "/usr/local/lib/python3.11/dist-packages/xgboost/core.py:158: UserWarning: [10:06:01] WARNING: /workspace/src/context.cc:196: XGBoost is not compiled with CUDA support.\n",
            "  warnings.warn(smsg, UserWarning)\n",
            "/usr/local/lib/python3.11/dist-packages/xgboost/core.py:158: UserWarning: [10:06:05] WARNING: /workspace/src/context.cc:43: No visible GPU is found, setting device to CPU.\n",
            "  warnings.warn(smsg, UserWarning)\n",
            "/usr/local/lib/python3.11/dist-packages/xgboost/core.py:158: UserWarning: [10:06:05] WARNING: /workspace/src/context.cc:196: XGBoost is not compiled with CUDA support.\n",
            "  warnings.warn(smsg, UserWarning)\n",
            "/usr/local/lib/python3.11/dist-packages/xgboost/core.py:158: UserWarning: [10:06:07] WARNING: /workspace/src/context.cc:43: No visible GPU is found, setting device to CPU.\n",
            "  warnings.warn(smsg, UserWarning)\n",
            "/usr/local/lib/python3.11/dist-packages/xgboost/core.py:158: UserWarning: [10:06:07] WARNING: /workspace/src/context.cc:196: XGBoost is not compiled with CUDA support.\n",
            "  warnings.warn(smsg, UserWarning)\n"
          ]
        },
        {
          "output_type": "stream",
          "name": "stdout",
          "text": [
            "[I 2025-02-04 10:06:08,903] Trial 55 finished with value: 0.5660385782845544 and parameters: {'model': 'xgboost', 'class_weight_option': 'balanced', 'learning_rate': 0.1197924793418172, 'n_estimators': 669, 'max_depth': 6, 'subsample': 0.8625943590224054, 'colsample_bytree': 0.6972729478698607, 'gamma': 0.055094460597266574, 'reg_alpha': 0.919068106234162, 'reg_lambda': 0.3632889539071844}. Best is trial 52 with value: 0.5789526592354312.\n"
          ]
        },
        {
          "output_type": "stream",
          "name": "stderr",
          "text": [
            "/usr/local/lib/python3.11/dist-packages/xgboost/core.py:158: UserWarning: [10:06:09] WARNING: /workspace/src/context.cc:43: No visible GPU is found, setting device to CPU.\n",
            "  warnings.warn(smsg, UserWarning)\n",
            "/usr/local/lib/python3.11/dist-packages/xgboost/core.py:158: UserWarning: [10:06:09] WARNING: /workspace/src/context.cc:196: XGBoost is not compiled with CUDA support.\n",
            "  warnings.warn(smsg, UserWarning)\n",
            "/usr/local/lib/python3.11/dist-packages/xgboost/core.py:158: UserWarning: [10:06:12] WARNING: /workspace/src/context.cc:43: No visible GPU is found, setting device to CPU.\n",
            "  warnings.warn(smsg, UserWarning)\n",
            "/usr/local/lib/python3.11/dist-packages/xgboost/core.py:158: UserWarning: [10:06:12] WARNING: /workspace/src/context.cc:196: XGBoost is not compiled with CUDA support.\n",
            "  warnings.warn(smsg, UserWarning)\n",
            "/usr/local/lib/python3.11/dist-packages/xgboost/core.py:158: UserWarning: [10:06:14] WARNING: /workspace/src/context.cc:43: No visible GPU is found, setting device to CPU.\n",
            "  warnings.warn(smsg, UserWarning)\n",
            "/usr/local/lib/python3.11/dist-packages/xgboost/core.py:158: UserWarning: [10:06:14] WARNING: /workspace/src/context.cc:196: XGBoost is not compiled with CUDA support.\n",
            "  warnings.warn(smsg, UserWarning)\n",
            "/usr/local/lib/python3.11/dist-packages/xgboost/core.py:158: UserWarning: [10:06:20] WARNING: /workspace/src/context.cc:43: No visible GPU is found, setting device to CPU.\n",
            "  warnings.warn(smsg, UserWarning)\n",
            "/usr/local/lib/python3.11/dist-packages/xgboost/core.py:158: UserWarning: [10:06:20] WARNING: /workspace/src/context.cc:196: XGBoost is not compiled with CUDA support.\n",
            "  warnings.warn(smsg, UserWarning)\n",
            "/usr/local/lib/python3.11/dist-packages/xgboost/core.py:158: UserWarning: [10:06:23] WARNING: /workspace/src/context.cc:43: No visible GPU is found, setting device to CPU.\n",
            "  warnings.warn(smsg, UserWarning)\n",
            "/usr/local/lib/python3.11/dist-packages/xgboost/core.py:158: UserWarning: [10:06:23] WARNING: /workspace/src/context.cc:196: XGBoost is not compiled with CUDA support.\n",
            "  warnings.warn(smsg, UserWarning)\n"
          ]
        },
        {
          "output_type": "stream",
          "name": "stdout",
          "text": [
            "[I 2025-02-04 10:06:26,466] Trial 56 finished with value: 0.5686757896498844 and parameters: {'model': 'xgboost', 'class_weight_option': 'balanced', 'learning_rate': 0.047856975159257735, 'n_estimators': 746, 'max_depth': 6, 'subsample': 0.900271906246294, 'colsample_bytree': 0.6359457145577024, 'gamma': 0.16307942488845248, 'reg_alpha': 0.7421833891173368, 'reg_lambda': 0.21604308684781248}. Best is trial 52 with value: 0.5789526592354312.\n"
          ]
        },
        {
          "output_type": "stream",
          "name": "stderr",
          "text": [
            "/usr/local/lib/python3.11/dist-packages/xgboost/core.py:158: UserWarning: [10:06:26] WARNING: /workspace/src/context.cc:43: No visible GPU is found, setting device to CPU.\n",
            "  warnings.warn(smsg, UserWarning)\n",
            "/usr/local/lib/python3.11/dist-packages/xgboost/core.py:158: UserWarning: [10:06:26] WARNING: /workspace/src/context.cc:196: XGBoost is not compiled with CUDA support.\n",
            "  warnings.warn(smsg, UserWarning)\n",
            "/usr/local/lib/python3.11/dist-packages/xgboost/core.py:158: UserWarning: [10:06:33] WARNING: /workspace/src/context.cc:43: No visible GPU is found, setting device to CPU.\n",
            "  warnings.warn(smsg, UserWarning)\n",
            "/usr/local/lib/python3.11/dist-packages/xgboost/core.py:158: UserWarning: [10:06:33] WARNING: /workspace/src/context.cc:196: XGBoost is not compiled with CUDA support.\n",
            "  warnings.warn(smsg, UserWarning)\n",
            "/usr/local/lib/python3.11/dist-packages/xgboost/core.py:158: UserWarning: [10:06:38] WARNING: /workspace/src/context.cc:43: No visible GPU is found, setting device to CPU.\n",
            "  warnings.warn(smsg, UserWarning)\n",
            "/usr/local/lib/python3.11/dist-packages/xgboost/core.py:158: UserWarning: [10:06:38] WARNING: /workspace/src/context.cc:196: XGBoost is not compiled with CUDA support.\n",
            "  warnings.warn(smsg, UserWarning)\n",
            "/usr/local/lib/python3.11/dist-packages/xgboost/core.py:158: UserWarning: [10:06:45] WARNING: /workspace/src/context.cc:43: No visible GPU is found, setting device to CPU.\n",
            "  warnings.warn(smsg, UserWarning)\n",
            "/usr/local/lib/python3.11/dist-packages/xgboost/core.py:158: UserWarning: [10:06:45] WARNING: /workspace/src/context.cc:196: XGBoost is not compiled with CUDA support.\n",
            "  warnings.warn(smsg, UserWarning)\n",
            "/usr/local/lib/python3.11/dist-packages/xgboost/core.py:158: UserWarning: [10:06:49] WARNING: /workspace/src/context.cc:43: No visible GPU is found, setting device to CPU.\n",
            "  warnings.warn(smsg, UserWarning)\n",
            "/usr/local/lib/python3.11/dist-packages/xgboost/core.py:158: UserWarning: [10:06:49] WARNING: /workspace/src/context.cc:196: XGBoost is not compiled with CUDA support.\n",
            "  warnings.warn(smsg, UserWarning)\n"
          ]
        },
        {
          "output_type": "stream",
          "name": "stdout",
          "text": [
            "[I 2025-02-04 10:06:55,427] Trial 57 finished with value: 0.5700126947817685 and parameters: {'model': 'xgboost', 'class_weight_option': 'balanced', 'learning_rate': 0.028797119271085383, 'n_estimators': 506, 'max_depth': 7, 'subsample': 0.9291763364153741, 'colsample_bytree': 0.7007735171317496, 'gamma': 0.10558049895668134, 'reg_alpha': 0.8592629000682589, 'reg_lambda': 0.2619715699817137}. Best is trial 52 with value: 0.5789526592354312.\n"
          ]
        },
        {
          "output_type": "stream",
          "name": "stderr",
          "text": [
            "/usr/local/lib/python3.11/dist-packages/xgboost/core.py:158: UserWarning: [10:06:56] WARNING: /workspace/src/context.cc:43: No visible GPU is found, setting device to CPU.\n",
            "  warnings.warn(smsg, UserWarning)\n",
            "/usr/local/lib/python3.11/dist-packages/xgboost/core.py:158: UserWarning: [10:06:56] WARNING: /workspace/src/context.cc:196: XGBoost is not compiled with CUDA support.\n",
            "  warnings.warn(smsg, UserWarning)\n",
            "/usr/local/lib/python3.11/dist-packages/xgboost/core.py:158: UserWarning: [10:06:57] WARNING: /workspace/src/context.cc:43: No visible GPU is found, setting device to CPU.\n",
            "  warnings.warn(smsg, UserWarning)\n",
            "/usr/local/lib/python3.11/dist-packages/xgboost/core.py:158: UserWarning: [10:06:57] WARNING: /workspace/src/context.cc:196: XGBoost is not compiled with CUDA support.\n",
            "  warnings.warn(smsg, UserWarning)\n",
            "/usr/local/lib/python3.11/dist-packages/xgboost/core.py:158: UserWarning: [10:06:59] WARNING: /workspace/src/context.cc:43: No visible GPU is found, setting device to CPU.\n",
            "  warnings.warn(smsg, UserWarning)\n",
            "/usr/local/lib/python3.11/dist-packages/xgboost/core.py:158: UserWarning: [10:06:59] WARNING: /workspace/src/context.cc:196: XGBoost is not compiled with CUDA support.\n",
            "  warnings.warn(smsg, UserWarning)\n",
            "/usr/local/lib/python3.11/dist-packages/xgboost/core.py:158: UserWarning: [10:07:00] WARNING: /workspace/src/context.cc:43: No visible GPU is found, setting device to CPU.\n",
            "  warnings.warn(smsg, UserWarning)\n",
            "/usr/local/lib/python3.11/dist-packages/xgboost/core.py:158: UserWarning: [10:07:00] WARNING: /workspace/src/context.cc:196: XGBoost is not compiled with CUDA support.\n",
            "  warnings.warn(smsg, UserWarning)\n",
            "/usr/local/lib/python3.11/dist-packages/xgboost/core.py:158: UserWarning: [10:07:01] WARNING: /workspace/src/context.cc:43: No visible GPU is found, setting device to CPU.\n",
            "  warnings.warn(smsg, UserWarning)\n",
            "/usr/local/lib/python3.11/dist-packages/xgboost/core.py:158: UserWarning: [10:07:01] WARNING: /workspace/src/context.cc:196: XGBoost is not compiled with CUDA support.\n",
            "  warnings.warn(smsg, UserWarning)\n"
          ]
        },
        {
          "output_type": "stream",
          "name": "stdout",
          "text": [
            "[I 2025-02-04 10:07:03,118] Trial 58 finished with value: 0.5371903898611892 and parameters: {'model': 'xgboost', 'class_weight_option': 'balanced', 'learning_rate': 0.10973302590599945, 'n_estimators': 602, 'max_depth': 5, 'subsample': 0.9937737839896574, 'colsample_bytree': 0.6700269440702112, 'gamma': 0.3706775135723287, 'reg_alpha': 0.758484083183359, 'reg_lambda': 0.6000603695751013}. Best is trial 52 with value: 0.5789526592354312.\n"
          ]
        },
        {
          "output_type": "stream",
          "name": "stderr",
          "text": [
            "/usr/local/lib/python3.11/dist-packages/xgboost/core.py:158: UserWarning: [10:07:03] WARNING: /workspace/src/context.cc:43: No visible GPU is found, setting device to CPU.\n",
            "  warnings.warn(smsg, UserWarning)\n",
            "/usr/local/lib/python3.11/dist-packages/xgboost/core.py:158: UserWarning: [10:07:03] WARNING: /workspace/src/context.cc:196: XGBoost is not compiled with CUDA support.\n",
            "  warnings.warn(smsg, UserWarning)\n",
            "/usr/local/lib/python3.11/dist-packages/xgboost/core.py:158: UserWarning: [10:07:12] WARNING: /workspace/src/context.cc:43: No visible GPU is found, setting device to CPU.\n",
            "  warnings.warn(smsg, UserWarning)\n",
            "/usr/local/lib/python3.11/dist-packages/xgboost/core.py:158: UserWarning: [10:07:12] WARNING: /workspace/src/context.cc:196: XGBoost is not compiled with CUDA support.\n",
            "  warnings.warn(smsg, UserWarning)\n",
            "/usr/local/lib/python3.11/dist-packages/xgboost/core.py:158: UserWarning: [10:07:21] WARNING: /workspace/src/context.cc:43: No visible GPU is found, setting device to CPU.\n",
            "  warnings.warn(smsg, UserWarning)\n",
            "/usr/local/lib/python3.11/dist-packages/xgboost/core.py:158: UserWarning: [10:07:21] WARNING: /workspace/src/context.cc:196: XGBoost is not compiled with CUDA support.\n",
            "  warnings.warn(smsg, UserWarning)\n",
            "/usr/local/lib/python3.11/dist-packages/xgboost/core.py:158: UserWarning: [10:07:28] WARNING: /workspace/src/context.cc:43: No visible GPU is found, setting device to CPU.\n",
            "  warnings.warn(smsg, UserWarning)\n",
            "/usr/local/lib/python3.11/dist-packages/xgboost/core.py:158: UserWarning: [10:07:28] WARNING: /workspace/src/context.cc:196: XGBoost is not compiled with CUDA support.\n",
            "  warnings.warn(smsg, UserWarning)\n",
            "/usr/local/lib/python3.11/dist-packages/xgboost/core.py:158: UserWarning: [10:07:38] WARNING: /workspace/src/context.cc:43: No visible GPU is found, setting device to CPU.\n",
            "  warnings.warn(smsg, UserWarning)\n",
            "/usr/local/lib/python3.11/dist-packages/xgboost/core.py:158: UserWarning: [10:07:38] WARNING: /workspace/src/context.cc:196: XGBoost is not compiled with CUDA support.\n",
            "  warnings.warn(smsg, UserWarning)\n"
          ]
        },
        {
          "output_type": "stream",
          "name": "stdout",
          "text": [
            "[I 2025-02-04 10:07:46,980] Trial 59 finished with value: 0.49132374961106223 and parameters: {'model': 'xgboost', 'class_weight_option': 'balanced', 'learning_rate': 0.002917049886788412, 'n_estimators': 656, 'max_depth': 7, 'subsample': 0.8365588980071175, 'colsample_bytree': 0.7301290934862572, 'gamma': 0.8206615702535454, 'reg_alpha': 0.9984466398418403, 'reg_lambda': 0.4291754390256702}. Best is trial 52 with value: 0.5789526592354312.\n",
            "[I 2025-02-04 10:08:53,513] Trial 60 finished with value: 0.3737097436446727 and parameters: {'model': 'random_forest', 'class_weight_option': 'balanced', 'n_estimators': 1640, 'max_depth': 3, 'min_samples_split': 5, 'min_samples_leaf': 7, 'max_features': None}. Best is trial 52 with value: 0.5789526592354312.\n"
          ]
        },
        {
          "output_type": "stream",
          "name": "stderr",
          "text": [
            "/usr/local/lib/python3.11/dist-packages/xgboost/core.py:158: UserWarning: [10:08:53] WARNING: /workspace/src/context.cc:43: No visible GPU is found, setting device to CPU.\n",
            "  warnings.warn(smsg, UserWarning)\n",
            "/usr/local/lib/python3.11/dist-packages/xgboost/core.py:158: UserWarning: [10:08:53] WARNING: /workspace/src/context.cc:196: XGBoost is not compiled with CUDA support.\n",
            "  warnings.warn(smsg, UserWarning)\n",
            "/usr/local/lib/python3.11/dist-packages/xgboost/core.py:158: UserWarning: [10:08:57] WARNING: /workspace/src/context.cc:43: No visible GPU is found, setting device to CPU.\n",
            "  warnings.warn(smsg, UserWarning)\n",
            "/usr/local/lib/python3.11/dist-packages/xgboost/core.py:158: UserWarning: [10:08:57] WARNING: /workspace/src/context.cc:196: XGBoost is not compiled with CUDA support.\n",
            "  warnings.warn(smsg, UserWarning)\n",
            "/usr/local/lib/python3.11/dist-packages/xgboost/core.py:158: UserWarning: [10:09:00] WARNING: /workspace/src/context.cc:43: No visible GPU is found, setting device to CPU.\n",
            "  warnings.warn(smsg, UserWarning)\n",
            "/usr/local/lib/python3.11/dist-packages/xgboost/core.py:158: UserWarning: [10:09:00] WARNING: /workspace/src/context.cc:196: XGBoost is not compiled with CUDA support.\n",
            "  warnings.warn(smsg, UserWarning)\n",
            "/usr/local/lib/python3.11/dist-packages/xgboost/core.py:158: UserWarning: [10:09:03] WARNING: /workspace/src/context.cc:43: No visible GPU is found, setting device to CPU.\n",
            "  warnings.warn(smsg, UserWarning)\n",
            "/usr/local/lib/python3.11/dist-packages/xgboost/core.py:158: UserWarning: [10:09:03] WARNING: /workspace/src/context.cc:196: XGBoost is not compiled with CUDA support.\n",
            "  warnings.warn(smsg, UserWarning)\n",
            "/usr/local/lib/python3.11/dist-packages/xgboost/core.py:158: UserWarning: [10:09:09] WARNING: /workspace/src/context.cc:43: No visible GPU is found, setting device to CPU.\n",
            "  warnings.warn(smsg, UserWarning)\n",
            "/usr/local/lib/python3.11/dist-packages/xgboost/core.py:158: UserWarning: [10:09:09] WARNING: /workspace/src/context.cc:196: XGBoost is not compiled with CUDA support.\n",
            "  warnings.warn(smsg, UserWarning)\n"
          ]
        },
        {
          "output_type": "stream",
          "name": "stdout",
          "text": [
            "[I 2025-02-04 10:09:12,846] Trial 61 finished with value: 0.5745621261954572 and parameters: {'model': 'xgboost', 'class_weight_option': 'balanced', 'learning_rate': 0.04797834964466157, 'n_estimators': 531, 'max_depth': 6, 'subsample': 0.8849399289059692, 'colsample_bytree': 0.606774012236579, 'gamma': 0.04973432888901991, 'reg_alpha': 0.6766352723607454, 'reg_lambda': 0.12131500769305964}. Best is trial 52 with value: 0.5789526592354312.\n"
          ]
        },
        {
          "output_type": "stream",
          "name": "stderr",
          "text": [
            "/usr/local/lib/python3.11/dist-packages/xgboost/core.py:158: UserWarning: [10:09:13] WARNING: /workspace/src/context.cc:43: No visible GPU is found, setting device to CPU.\n",
            "  warnings.warn(smsg, UserWarning)\n",
            "/usr/local/lib/python3.11/dist-packages/xgboost/core.py:158: UserWarning: [10:09:13] WARNING: /workspace/src/context.cc:196: XGBoost is not compiled with CUDA support.\n",
            "  warnings.warn(smsg, UserWarning)\n",
            "/usr/local/lib/python3.11/dist-packages/xgboost/core.py:158: UserWarning: [10:09:19] WARNING: /workspace/src/context.cc:43: No visible GPU is found, setting device to CPU.\n",
            "  warnings.warn(smsg, UserWarning)\n",
            "/usr/local/lib/python3.11/dist-packages/xgboost/core.py:158: UserWarning: [10:09:19] WARNING: /workspace/src/context.cc:196: XGBoost is not compiled with CUDA support.\n",
            "  warnings.warn(smsg, UserWarning)\n",
            "/usr/local/lib/python3.11/dist-packages/xgboost/core.py:158: UserWarning: [10:09:22] WARNING: /workspace/src/context.cc:43: No visible GPU is found, setting device to CPU.\n",
            "  warnings.warn(smsg, UserWarning)\n",
            "/usr/local/lib/python3.11/dist-packages/xgboost/core.py:158: UserWarning: [10:09:22] WARNING: /workspace/src/context.cc:196: XGBoost is not compiled with CUDA support.\n",
            "  warnings.warn(smsg, UserWarning)\n",
            "/usr/local/lib/python3.11/dist-packages/xgboost/core.py:158: UserWarning: [10:09:25] WARNING: /workspace/src/context.cc:43: No visible GPU is found, setting device to CPU.\n",
            "  warnings.warn(smsg, UserWarning)\n",
            "/usr/local/lib/python3.11/dist-packages/xgboost/core.py:158: UserWarning: [10:09:25] WARNING: /workspace/src/context.cc:196: XGBoost is not compiled with CUDA support.\n",
            "  warnings.warn(smsg, UserWarning)\n",
            "/usr/local/lib/python3.11/dist-packages/xgboost/core.py:158: UserWarning: [10:09:30] WARNING: /workspace/src/context.cc:43: No visible GPU is found, setting device to CPU.\n",
            "  warnings.warn(smsg, UserWarning)\n",
            "/usr/local/lib/python3.11/dist-packages/xgboost/core.py:158: UserWarning: [10:09:30] WARNING: /workspace/src/context.cc:196: XGBoost is not compiled with CUDA support.\n",
            "  warnings.warn(smsg, UserWarning)\n"
          ]
        },
        {
          "output_type": "stream",
          "name": "stdout",
          "text": [
            "[I 2025-02-04 10:09:35,298] Trial 62 finished with value: 0.5728229888816125 and parameters: {'model': 'xgboost', 'class_weight_option': 'balanced', 'learning_rate': 0.043353005365066095, 'n_estimators': 520, 'max_depth': 6, 'subsample': 0.8757520785320722, 'colsample_bytree': 0.6022264243699477, 'gamma': 0.06372230658897374, 'reg_alpha': 0.679222110978283, 'reg_lambda': 0.12456517807241646}. Best is trial 52 with value: 0.5789526592354312.\n"
          ]
        },
        {
          "output_type": "stream",
          "name": "stderr",
          "text": [
            "/usr/local/lib/python3.11/dist-packages/xgboost/core.py:158: UserWarning: [10:09:35] WARNING: /workspace/src/context.cc:43: No visible GPU is found, setting device to CPU.\n",
            "  warnings.warn(smsg, UserWarning)\n",
            "/usr/local/lib/python3.11/dist-packages/xgboost/core.py:158: UserWarning: [10:09:35] WARNING: /workspace/src/context.cc:196: XGBoost is not compiled with CUDA support.\n",
            "  warnings.warn(smsg, UserWarning)\n",
            "/usr/local/lib/python3.11/dist-packages/xgboost/core.py:158: UserWarning: [10:09:45] WARNING: /workspace/src/context.cc:43: No visible GPU is found, setting device to CPU.\n",
            "  warnings.warn(smsg, UserWarning)\n",
            "/usr/local/lib/python3.11/dist-packages/xgboost/core.py:158: UserWarning: [10:09:45] WARNING: /workspace/src/context.cc:196: XGBoost is not compiled with CUDA support.\n",
            "  warnings.warn(smsg, UserWarning)\n",
            "/usr/local/lib/python3.11/dist-packages/xgboost/core.py:158: UserWarning: [10:09:52] WARNING: /workspace/src/context.cc:43: No visible GPU is found, setting device to CPU.\n",
            "  warnings.warn(smsg, UserWarning)\n",
            "/usr/local/lib/python3.11/dist-packages/xgboost/core.py:158: UserWarning: [10:09:52] WARNING: /workspace/src/context.cc:196: XGBoost is not compiled with CUDA support.\n",
            "  warnings.warn(smsg, UserWarning)\n",
            "/usr/local/lib/python3.11/dist-packages/xgboost/core.py:158: UserWarning: [10:10:01] WARNING: /workspace/src/context.cc:43: No visible GPU is found, setting device to CPU.\n",
            "  warnings.warn(smsg, UserWarning)\n",
            "/usr/local/lib/python3.11/dist-packages/xgboost/core.py:158: UserWarning: [10:10:01] WARNING: /workspace/src/context.cc:196: XGBoost is not compiled with CUDA support.\n",
            "  warnings.warn(smsg, UserWarning)\n",
            "/usr/local/lib/python3.11/dist-packages/xgboost/core.py:158: UserWarning: [10:10:11] WARNING: /workspace/src/context.cc:43: No visible GPU is found, setting device to CPU.\n",
            "  warnings.warn(smsg, UserWarning)\n",
            "/usr/local/lib/python3.11/dist-packages/xgboost/core.py:158: UserWarning: [10:10:11] WARNING: /workspace/src/context.cc:196: XGBoost is not compiled with CUDA support.\n",
            "  warnings.warn(smsg, UserWarning)\n"
          ]
        },
        {
          "output_type": "stream",
          "name": "stdout",
          "text": [
            "[I 2025-02-04 10:10:18,724] Trial 63 finished with value: 0.5760750259237722 and parameters: {'model': 'xgboost', 'class_weight_option': 'balanced', 'learning_rate': 0.02191698552985938, 'n_estimators': 834, 'max_depth': 7, 'subsample': 0.8120019726997126, 'colsample_bytree': 0.6158268507566862, 'gamma': 0.03614614734512146, 'reg_alpha': 0.7987121142150397, 'reg_lambda': 0.3169740225911198}. Best is trial 52 with value: 0.5789526592354312.\n"
          ]
        },
        {
          "output_type": "stream",
          "name": "stderr",
          "text": [
            "/usr/local/lib/python3.11/dist-packages/xgboost/core.py:158: UserWarning: [10:10:18] WARNING: /workspace/src/context.cc:43: No visible GPU is found, setting device to CPU.\n",
            "  warnings.warn(smsg, UserWarning)\n",
            "/usr/local/lib/python3.11/dist-packages/xgboost/core.py:158: UserWarning: [10:10:18] WARNING: /workspace/src/context.cc:196: XGBoost is not compiled with CUDA support.\n",
            "  warnings.warn(smsg, UserWarning)\n",
            "/usr/local/lib/python3.11/dist-packages/xgboost/core.py:158: UserWarning: [10:10:27] WARNING: /workspace/src/context.cc:43: No visible GPU is found, setting device to CPU.\n",
            "  warnings.warn(smsg, UserWarning)\n",
            "/usr/local/lib/python3.11/dist-packages/xgboost/core.py:158: UserWarning: [10:10:27] WARNING: /workspace/src/context.cc:196: XGBoost is not compiled with CUDA support.\n",
            "  warnings.warn(smsg, UserWarning)\n",
            "/usr/local/lib/python3.11/dist-packages/xgboost/core.py:158: UserWarning: [10:10:33] WARNING: /workspace/src/context.cc:43: No visible GPU is found, setting device to CPU.\n",
            "  warnings.warn(smsg, UserWarning)\n",
            "/usr/local/lib/python3.11/dist-packages/xgboost/core.py:158: UserWarning: [10:10:33] WARNING: /workspace/src/context.cc:196: XGBoost is not compiled with CUDA support.\n",
            "  warnings.warn(smsg, UserWarning)\n",
            "/usr/local/lib/python3.11/dist-packages/xgboost/core.py:158: UserWarning: [10:10:41] WARNING: /workspace/src/context.cc:43: No visible GPU is found, setting device to CPU.\n",
            "  warnings.warn(smsg, UserWarning)\n",
            "/usr/local/lib/python3.11/dist-packages/xgboost/core.py:158: UserWarning: [10:10:41] WARNING: /workspace/src/context.cc:196: XGBoost is not compiled with CUDA support.\n",
            "  warnings.warn(smsg, UserWarning)\n",
            "/usr/local/lib/python3.11/dist-packages/xgboost/core.py:158: UserWarning: [10:10:50] WARNING: /workspace/src/context.cc:43: No visible GPU is found, setting device to CPU.\n",
            "  warnings.warn(smsg, UserWarning)\n",
            "/usr/local/lib/python3.11/dist-packages/xgboost/core.py:158: UserWarning: [10:10:50] WARNING: /workspace/src/context.cc:196: XGBoost is not compiled with CUDA support.\n",
            "  warnings.warn(smsg, UserWarning)\n"
          ]
        },
        {
          "output_type": "stream",
          "name": "stdout",
          "text": [
            "[I 2025-02-04 10:10:55,990] Trial 64 finished with value: 0.5667034800041005 and parameters: {'model': 'xgboost', 'class_weight_option': 'balanced', 'learning_rate': 0.01698454640965829, 'n_estimators': 835, 'max_depth': 7, 'subsample': 0.8108944353718244, 'colsample_bytree': 0.6163988408409026, 'gamma': 0.2501522471806006, 'reg_alpha': 0.8912648923836429, 'reg_lambda': 0.20432495442414234}. Best is trial 52 with value: 0.5789526592354312.\n"
          ]
        },
        {
          "output_type": "stream",
          "name": "stderr",
          "text": [
            "/usr/local/lib/python3.11/dist-packages/xgboost/core.py:158: UserWarning: [10:10:56] WARNING: /workspace/src/context.cc:43: No visible GPU is found, setting device to CPU.\n",
            "  warnings.warn(smsg, UserWarning)\n",
            "/usr/local/lib/python3.11/dist-packages/xgboost/core.py:158: UserWarning: [10:10:56] WARNING: /workspace/src/context.cc:196: XGBoost is not compiled with CUDA support.\n",
            "  warnings.warn(smsg, UserWarning)\n",
            "/usr/local/lib/python3.11/dist-packages/xgboost/core.py:158: UserWarning: [10:11:04] WARNING: /workspace/src/context.cc:43: No visible GPU is found, setting device to CPU.\n",
            "  warnings.warn(smsg, UserWarning)\n",
            "/usr/local/lib/python3.11/dist-packages/xgboost/core.py:158: UserWarning: [10:11:04] WARNING: /workspace/src/context.cc:196: XGBoost is not compiled with CUDA support.\n",
            "  warnings.warn(smsg, UserWarning)\n",
            "/usr/local/lib/python3.11/dist-packages/xgboost/core.py:158: UserWarning: [10:11:09] WARNING: /workspace/src/context.cc:43: No visible GPU is found, setting device to CPU.\n",
            "  warnings.warn(smsg, UserWarning)\n",
            "/usr/local/lib/python3.11/dist-packages/xgboost/core.py:158: UserWarning: [10:11:09] WARNING: /workspace/src/context.cc:196: XGBoost is not compiled with CUDA support.\n",
            "  warnings.warn(smsg, UserWarning)\n",
            "/usr/local/lib/python3.11/dist-packages/xgboost/core.py:158: UserWarning: [10:11:16] WARNING: /workspace/src/context.cc:43: No visible GPU is found, setting device to CPU.\n",
            "  warnings.warn(smsg, UserWarning)\n",
            "/usr/local/lib/python3.11/dist-packages/xgboost/core.py:158: UserWarning: [10:11:16] WARNING: /workspace/src/context.cc:196: XGBoost is not compiled with CUDA support.\n",
            "  warnings.warn(smsg, UserWarning)\n",
            "/usr/local/lib/python3.11/dist-packages/xgboost/core.py:158: UserWarning: [10:11:22] WARNING: /workspace/src/context.cc:43: No visible GPU is found, setting device to CPU.\n",
            "  warnings.warn(smsg, UserWarning)\n",
            "/usr/local/lib/python3.11/dist-packages/xgboost/core.py:158: UserWarning: [10:11:22] WARNING: /workspace/src/context.cc:196: XGBoost is not compiled with CUDA support.\n",
            "  warnings.warn(smsg, UserWarning)\n"
          ]
        },
        {
          "output_type": "stream",
          "name": "stdout",
          "text": [
            "[I 2025-02-04 10:11:29,954] Trial 65 finished with value: 0.5793404263522516 and parameters: {'model': 'xgboost', 'class_weight_option': 'balanced', 'learning_rate': 0.025051253953461028, 'n_estimators': 731, 'max_depth': 7, 'subsample': 0.8623157595018901, 'colsample_bytree': 0.6390845871270631, 'gamma': 0.1292392472608736, 'reg_alpha': 0.7585164503325151, 'reg_lambda': 0.33505374998351056}. Best is trial 65 with value: 0.5793404263522516.\n"
          ]
        },
        {
          "output_type": "stream",
          "name": "stderr",
          "text": [
            "/usr/local/lib/python3.11/dist-packages/xgboost/core.py:158: UserWarning: [10:11:30] WARNING: /workspace/src/context.cc:43: No visible GPU is found, setting device to CPU.\n",
            "  warnings.warn(smsg, UserWarning)\n",
            "/usr/local/lib/python3.11/dist-packages/xgboost/core.py:158: UserWarning: [10:11:30] WARNING: /workspace/src/context.cc:196: XGBoost is not compiled with CUDA support.\n",
            "  warnings.warn(smsg, UserWarning)\n",
            "/usr/local/lib/python3.11/dist-packages/xgboost/core.py:158: UserWarning: [10:11:36] WARNING: /workspace/src/context.cc:43: No visible GPU is found, setting device to CPU.\n",
            "  warnings.warn(smsg, UserWarning)\n",
            "/usr/local/lib/python3.11/dist-packages/xgboost/core.py:158: UserWarning: [10:11:36] WARNING: /workspace/src/context.cc:196: XGBoost is not compiled with CUDA support.\n",
            "  warnings.warn(smsg, UserWarning)\n",
            "/usr/local/lib/python3.11/dist-packages/xgboost/core.py:158: UserWarning: [10:11:44] WARNING: /workspace/src/context.cc:43: No visible GPU is found, setting device to CPU.\n",
            "  warnings.warn(smsg, UserWarning)\n",
            "/usr/local/lib/python3.11/dist-packages/xgboost/core.py:158: UserWarning: [10:11:44] WARNING: /workspace/src/context.cc:196: XGBoost is not compiled with CUDA support.\n",
            "  warnings.warn(smsg, UserWarning)\n",
            "/usr/local/lib/python3.11/dist-packages/xgboost/core.py:158: UserWarning: [10:11:49] WARNING: /workspace/src/context.cc:43: No visible GPU is found, setting device to CPU.\n",
            "  warnings.warn(smsg, UserWarning)\n",
            "/usr/local/lib/python3.11/dist-packages/xgboost/core.py:158: UserWarning: [10:11:49] WARNING: /workspace/src/context.cc:196: XGBoost is not compiled with CUDA support.\n",
            "  warnings.warn(smsg, UserWarning)\n",
            "/usr/local/lib/python3.11/dist-packages/xgboost/core.py:158: UserWarning: [10:11:57] WARNING: /workspace/src/context.cc:43: No visible GPU is found, setting device to CPU.\n",
            "  warnings.warn(smsg, UserWarning)\n",
            "/usr/local/lib/python3.11/dist-packages/xgboost/core.py:158: UserWarning: [10:11:57] WARNING: /workspace/src/context.cc:196: XGBoost is not compiled with CUDA support.\n",
            "  warnings.warn(smsg, UserWarning)\n"
          ]
        },
        {
          "output_type": "stream",
          "name": "stdout",
          "text": [
            "[I 2025-02-04 10:12:03,960] Trial 66 finished with value: 0.5765328908294743 and parameters: {'model': 'xgboost', 'class_weight_option': 'balanced', 'learning_rate': 0.024733942356205334, 'n_estimators': 998, 'max_depth': 7, 'subsample': 0.8486164854029459, 'colsample_bytree': 0.6364628070047649, 'gamma': 0.1161858480098429, 'reg_alpha': 0.7623587674169809, 'reg_lambda': 0.4817119112785673}. Best is trial 65 with value: 0.5793404263522516.\n"
          ]
        },
        {
          "output_type": "stream",
          "name": "stderr",
          "text": [
            "/usr/local/lib/python3.11/dist-packages/xgboost/core.py:158: UserWarning: [10:12:04] WARNING: /workspace/src/context.cc:43: No visible GPU is found, setting device to CPU.\n",
            "  warnings.warn(smsg, UserWarning)\n",
            "/usr/local/lib/python3.11/dist-packages/xgboost/core.py:158: UserWarning: [10:12:04] WARNING: /workspace/src/context.cc:196: XGBoost is not compiled with CUDA support.\n",
            "  warnings.warn(smsg, UserWarning)\n",
            "/usr/local/lib/python3.11/dist-packages/xgboost/core.py:158: UserWarning: [10:12:18] WARNING: /workspace/src/context.cc:43: No visible GPU is found, setting device to CPU.\n",
            "  warnings.warn(smsg, UserWarning)\n",
            "/usr/local/lib/python3.11/dist-packages/xgboost/core.py:158: UserWarning: [10:12:18] WARNING: /workspace/src/context.cc:196: XGBoost is not compiled with CUDA support.\n",
            "  warnings.warn(smsg, UserWarning)\n",
            "/usr/local/lib/python3.11/dist-packages/xgboost/core.py:158: UserWarning: [10:12:30] WARNING: /workspace/src/context.cc:43: No visible GPU is found, setting device to CPU.\n",
            "  warnings.warn(smsg, UserWarning)\n",
            "/usr/local/lib/python3.11/dist-packages/xgboost/core.py:158: UserWarning: [10:12:30] WARNING: /workspace/src/context.cc:196: XGBoost is not compiled with CUDA support.\n",
            "  warnings.warn(smsg, UserWarning)\n",
            "/usr/local/lib/python3.11/dist-packages/xgboost/core.py:158: UserWarning: [10:12:42] WARNING: /workspace/src/context.cc:43: No visible GPU is found, setting device to CPU.\n",
            "  warnings.warn(smsg, UserWarning)\n",
            "/usr/local/lib/python3.11/dist-packages/xgboost/core.py:158: UserWarning: [10:12:42] WARNING: /workspace/src/context.cc:196: XGBoost is not compiled with CUDA support.\n",
            "  warnings.warn(smsg, UserWarning)\n",
            "/usr/local/lib/python3.11/dist-packages/xgboost/core.py:158: UserWarning: [10:12:58] WARNING: /workspace/src/context.cc:43: No visible GPU is found, setting device to CPU.\n",
            "  warnings.warn(smsg, UserWarning)\n",
            "/usr/local/lib/python3.11/dist-packages/xgboost/core.py:158: UserWarning: [10:12:58] WARNING: /workspace/src/context.cc:196: XGBoost is not compiled with CUDA support.\n",
            "  warnings.warn(smsg, UserWarning)\n"
          ]
        },
        {
          "output_type": "stream",
          "name": "stdout",
          "text": [
            "[I 2025-02-04 10:13:11,528] Trial 67 finished with value: 0.5406029510085595 and parameters: {'model': 'xgboost', 'class_weight_option': None, 'learning_rate': 0.009020526166255791, 'n_estimators': 1002, 'max_depth': 8, 'subsample': 0.8496913394657424, 'colsample_bytree': 0.6243715402715605, 'gamma': 0.19594733976010295, 'reg_alpha': 0.7652565491689197, 'reg_lambda': 0.48147518870624706}. Best is trial 65 with value: 0.5793404263522516.\n"
          ]
        },
        {
          "output_type": "stream",
          "name": "stderr",
          "text": [
            "/usr/local/lib/python3.11/dist-packages/xgboost/core.py:158: UserWarning: [10:13:11] WARNING: /workspace/src/context.cc:43: No visible GPU is found, setting device to CPU.\n",
            "  warnings.warn(smsg, UserWarning)\n",
            "/usr/local/lib/python3.11/dist-packages/xgboost/core.py:158: UserWarning: [10:13:11] WARNING: /workspace/src/context.cc:196: XGBoost is not compiled with CUDA support.\n",
            "  warnings.warn(smsg, UserWarning)\n",
            "/usr/local/lib/python3.11/dist-packages/xgboost/core.py:158: UserWarning: [10:13:19] WARNING: /workspace/src/context.cc:43: No visible GPU is found, setting device to CPU.\n",
            "  warnings.warn(smsg, UserWarning)\n",
            "/usr/local/lib/python3.11/dist-packages/xgboost/core.py:158: UserWarning: [10:13:19] WARNING: /workspace/src/context.cc:196: XGBoost is not compiled with CUDA support.\n",
            "  warnings.warn(smsg, UserWarning)\n",
            "/usr/local/lib/python3.11/dist-packages/xgboost/core.py:158: UserWarning: [10:13:29] WARNING: /workspace/src/context.cc:43: No visible GPU is found, setting device to CPU.\n",
            "  warnings.warn(smsg, UserWarning)\n",
            "/usr/local/lib/python3.11/dist-packages/xgboost/core.py:158: UserWarning: [10:13:29] WARNING: /workspace/src/context.cc:196: XGBoost is not compiled with CUDA support.\n",
            "  warnings.warn(smsg, UserWarning)\n",
            "/usr/local/lib/python3.11/dist-packages/xgboost/core.py:158: UserWarning: [10:13:38] WARNING: /workspace/src/context.cc:43: No visible GPU is found, setting device to CPU.\n",
            "  warnings.warn(smsg, UserWarning)\n",
            "/usr/local/lib/python3.11/dist-packages/xgboost/core.py:158: UserWarning: [10:13:38] WARNING: /workspace/src/context.cc:196: XGBoost is not compiled with CUDA support.\n",
            "  warnings.warn(smsg, UserWarning)\n",
            "/usr/local/lib/python3.11/dist-packages/xgboost/core.py:158: UserWarning: [10:13:45] WARNING: /workspace/src/context.cc:43: No visible GPU is found, setting device to CPU.\n",
            "  warnings.warn(smsg, UserWarning)\n",
            "/usr/local/lib/python3.11/dist-packages/xgboost/core.py:158: UserWarning: [10:13:45] WARNING: /workspace/src/context.cc:196: XGBoost is not compiled with CUDA support.\n",
            "  warnings.warn(smsg, UserWarning)\n"
          ]
        },
        {
          "output_type": "stream",
          "name": "stdout",
          "text": [
            "[I 2025-02-04 10:13:57,004] Trial 68 finished with value: 0.573321046664123 and parameters: {'model': 'xgboost', 'class_weight_option': 'balanced', 'learning_rate': 0.022302953001981155, 'n_estimators': 1036, 'max_depth': 7, 'subsample': 0.8385435290964287, 'colsample_bytree': 0.6059936763169944, 'gamma': 0.032271167128009794, 'reg_alpha': 0.7165659838434342, 'reg_lambda': 0.3868892668518149}. Best is trial 65 with value: 0.5793404263522516.\n"
          ]
        },
        {
          "output_type": "stream",
          "name": "stderr",
          "text": [
            "/usr/local/lib/python3.11/dist-packages/xgboost/core.py:158: UserWarning: [10:13:57] WARNING: /workspace/src/context.cc:43: No visible GPU is found, setting device to CPU.\n",
            "  warnings.warn(smsg, UserWarning)\n",
            "/usr/local/lib/python3.11/dist-packages/xgboost/core.py:158: UserWarning: [10:13:57] WARNING: /workspace/src/context.cc:196: XGBoost is not compiled with CUDA support.\n",
            "  warnings.warn(smsg, UserWarning)\n",
            "/usr/local/lib/python3.11/dist-packages/xgboost/core.py:158: UserWarning: [10:14:04] WARNING: /workspace/src/context.cc:43: No visible GPU is found, setting device to CPU.\n",
            "  warnings.warn(smsg, UserWarning)\n",
            "/usr/local/lib/python3.11/dist-packages/xgboost/core.py:158: UserWarning: [10:14:04] WARNING: /workspace/src/context.cc:196: XGBoost is not compiled with CUDA support.\n",
            "  warnings.warn(smsg, UserWarning)\n",
            "/usr/local/lib/python3.11/dist-packages/xgboost/core.py:158: UserWarning: [10:14:09] WARNING: /workspace/src/context.cc:43: No visible GPU is found, setting device to CPU.\n",
            "  warnings.warn(smsg, UserWarning)\n",
            "/usr/local/lib/python3.11/dist-packages/xgboost/core.py:158: UserWarning: [10:14:09] WARNING: /workspace/src/context.cc:196: XGBoost is not compiled with CUDA support.\n",
            "  warnings.warn(smsg, UserWarning)\n",
            "/usr/local/lib/python3.11/dist-packages/xgboost/core.py:158: UserWarning: [10:14:17] WARNING: /workspace/src/context.cc:43: No visible GPU is found, setting device to CPU.\n",
            "  warnings.warn(smsg, UserWarning)\n",
            "/usr/local/lib/python3.11/dist-packages/xgboost/core.py:158: UserWarning: [10:14:17] WARNING: /workspace/src/context.cc:196: XGBoost is not compiled with CUDA support.\n",
            "  warnings.warn(smsg, UserWarning)\n",
            "/usr/local/lib/python3.11/dist-packages/xgboost/core.py:158: UserWarning: [10:14:22] WARNING: /workspace/src/context.cc:43: No visible GPU is found, setting device to CPU.\n",
            "  warnings.warn(smsg, UserWarning)\n",
            "/usr/local/lib/python3.11/dist-packages/xgboost/core.py:158: UserWarning: [10:14:22] WARNING: /workspace/src/context.cc:196: XGBoost is not compiled with CUDA support.\n",
            "  warnings.warn(smsg, UserWarning)\n"
          ]
        },
        {
          "output_type": "stream",
          "name": "stdout",
          "text": [
            "[I 2025-02-04 10:14:29,680] Trial 69 finished with value: 0.5548865499415758 and parameters: {'model': 'xgboost', 'class_weight_option': 'balanced', 'learning_rate': 0.016485142632858937, 'n_estimators': 916, 'max_depth': 8, 'subsample': 0.8720956968134859, 'colsample_bytree': 0.63496937647884, 'gamma': 0.5513649107493847, 'reg_alpha': 0.7898001589875152, 'reg_lambda': 0.71255258353553}. Best is trial 65 with value: 0.5793404263522516.\n"
          ]
        },
        {
          "output_type": "stream",
          "name": "stderr",
          "text": [
            "/usr/local/lib/python3.11/dist-packages/xgboost/core.py:158: UserWarning: [10:14:29] WARNING: /workspace/src/context.cc:43: No visible GPU is found, setting device to CPU.\n",
            "  warnings.warn(smsg, UserWarning)\n",
            "/usr/local/lib/python3.11/dist-packages/xgboost/core.py:158: UserWarning: [10:14:29] WARNING: /workspace/src/context.cc:196: XGBoost is not compiled with CUDA support.\n",
            "  warnings.warn(smsg, UserWarning)\n",
            "/usr/local/lib/python3.11/dist-packages/xgboost/core.py:158: UserWarning: [10:14:34] WARNING: /workspace/src/context.cc:43: No visible GPU is found, setting device to CPU.\n",
            "  warnings.warn(smsg, UserWarning)\n",
            "/usr/local/lib/python3.11/dist-packages/xgboost/core.py:158: UserWarning: [10:14:34] WARNING: /workspace/src/context.cc:196: XGBoost is not compiled with CUDA support.\n",
            "  warnings.warn(smsg, UserWarning)\n",
            "/usr/local/lib/python3.11/dist-packages/xgboost/core.py:158: UserWarning: [10:14:41] WARNING: /workspace/src/context.cc:43: No visible GPU is found, setting device to CPU.\n",
            "  warnings.warn(smsg, UserWarning)\n",
            "/usr/local/lib/python3.11/dist-packages/xgboost/core.py:158: UserWarning: [10:14:41] WARNING: /workspace/src/context.cc:196: XGBoost is not compiled with CUDA support.\n",
            "  warnings.warn(smsg, UserWarning)\n",
            "/usr/local/lib/python3.11/dist-packages/xgboost/core.py:158: UserWarning: [10:14:45] WARNING: /workspace/src/context.cc:43: No visible GPU is found, setting device to CPU.\n",
            "  warnings.warn(smsg, UserWarning)\n",
            "/usr/local/lib/python3.11/dist-packages/xgboost/core.py:158: UserWarning: [10:14:45] WARNING: /workspace/src/context.cc:196: XGBoost is not compiled with CUDA support.\n",
            "  warnings.warn(smsg, UserWarning)\n",
            "/usr/local/lib/python3.11/dist-packages/xgboost/core.py:158: UserWarning: [10:14:51] WARNING: /workspace/src/context.cc:43: No visible GPU is found, setting device to CPU.\n",
            "  warnings.warn(smsg, UserWarning)\n",
            "/usr/local/lib/python3.11/dist-packages/xgboost/core.py:158: UserWarning: [10:14:51] WARNING: /workspace/src/context.cc:196: XGBoost is not compiled with CUDA support.\n",
            "  warnings.warn(smsg, UserWarning)\n"
          ]
        },
        {
          "output_type": "stream",
          "name": "stdout",
          "text": [
            "[I 2025-02-04 10:14:57,603] Trial 70 finished with value: 0.5725595833078879 and parameters: {'model': 'xgboost', 'class_weight_option': 'balanced', 'learning_rate': 0.03339692832015207, 'n_estimators': 865, 'max_depth': 6, 'subsample': 0.8594061490859765, 'colsample_bytree': 0.664242085562537, 'gamma': 0.10651472184306507, 'reg_alpha': 0.6553783476708803, 'reg_lambda': 0.5894503811509559}. Best is trial 65 with value: 0.5793404263522516.\n"
          ]
        },
        {
          "output_type": "stream",
          "name": "stderr",
          "text": [
            "/usr/local/lib/python3.11/dist-packages/xgboost/core.py:158: UserWarning: [10:14:57] WARNING: /workspace/src/context.cc:43: No visible GPU is found, setting device to CPU.\n",
            "  warnings.warn(smsg, UserWarning)\n",
            "/usr/local/lib/python3.11/dist-packages/xgboost/core.py:158: UserWarning: [10:14:57] WARNING: /workspace/src/context.cc:196: XGBoost is not compiled with CUDA support.\n",
            "  warnings.warn(smsg, UserWarning)\n",
            "/usr/local/lib/python3.11/dist-packages/xgboost/core.py:158: UserWarning: [10:15:06] WARNING: /workspace/src/context.cc:43: No visible GPU is found, setting device to CPU.\n",
            "  warnings.warn(smsg, UserWarning)\n",
            "/usr/local/lib/python3.11/dist-packages/xgboost/core.py:158: UserWarning: [10:15:06] WARNING: /workspace/src/context.cc:196: XGBoost is not compiled with CUDA support.\n",
            "  warnings.warn(smsg, UserWarning)\n",
            "/usr/local/lib/python3.11/dist-packages/xgboost/core.py:158: UserWarning: [10:15:11] WARNING: /workspace/src/context.cc:43: No visible GPU is found, setting device to CPU.\n",
            "  warnings.warn(smsg, UserWarning)\n",
            "/usr/local/lib/python3.11/dist-packages/xgboost/core.py:158: UserWarning: [10:15:11] WARNING: /workspace/src/context.cc:196: XGBoost is not compiled with CUDA support.\n",
            "  warnings.warn(smsg, UserWarning)\n",
            "/usr/local/lib/python3.11/dist-packages/xgboost/core.py:158: UserWarning: [10:15:19] WARNING: /workspace/src/context.cc:43: No visible GPU is found, setting device to CPU.\n",
            "  warnings.warn(smsg, UserWarning)\n",
            "/usr/local/lib/python3.11/dist-packages/xgboost/core.py:158: UserWarning: [10:15:19] WARNING: /workspace/src/context.cc:196: XGBoost is not compiled with CUDA support.\n",
            "  warnings.warn(smsg, UserWarning)\n",
            "/usr/local/lib/python3.11/dist-packages/xgboost/core.py:158: UserWarning: [10:15:25] WARNING: /workspace/src/context.cc:43: No visible GPU is found, setting device to CPU.\n",
            "  warnings.warn(smsg, UserWarning)\n",
            "/usr/local/lib/python3.11/dist-packages/xgboost/core.py:158: UserWarning: [10:15:25] WARNING: /workspace/src/context.cc:196: XGBoost is not compiled with CUDA support.\n",
            "  warnings.warn(smsg, UserWarning)\n"
          ]
        },
        {
          "output_type": "stream",
          "name": "stdout",
          "text": [
            "[I 2025-02-04 10:15:33,710] Trial 71 finished with value: 0.5469451005221284 and parameters: {'model': 'xgboost', 'class_weight_option': 'balanced', 'learning_rate': 0.012739667280586738, 'n_estimators': 747, 'max_depth': 6, 'subsample': 0.9268242998598288, 'colsample_bytree': 0.6468636181894386, 'gamma': 0.3256995461312655, 'reg_alpha': 0.8425432392711311, 'reg_lambda': 0.33435164222058017}. Best is trial 65 with value: 0.5793404263522516.\n"
          ]
        },
        {
          "output_type": "stream",
          "name": "stderr",
          "text": [
            "/usr/local/lib/python3.11/dist-packages/xgboost/core.py:158: UserWarning: [10:15:33] WARNING: /workspace/src/context.cc:43: No visible GPU is found, setting device to CPU.\n",
            "  warnings.warn(smsg, UserWarning)\n",
            "/usr/local/lib/python3.11/dist-packages/xgboost/core.py:158: UserWarning: [10:15:33] WARNING: /workspace/src/context.cc:196: XGBoost is not compiled with CUDA support.\n",
            "  warnings.warn(smsg, UserWarning)\n",
            "/usr/local/lib/python3.11/dist-packages/xgboost/core.py:158: UserWarning: [10:15:40] WARNING: /workspace/src/context.cc:43: No visible GPU is found, setting device to CPU.\n",
            "  warnings.warn(smsg, UserWarning)\n",
            "/usr/local/lib/python3.11/dist-packages/xgboost/core.py:158: UserWarning: [10:15:40] WARNING: /workspace/src/context.cc:196: XGBoost is not compiled with CUDA support.\n",
            "  warnings.warn(smsg, UserWarning)\n",
            "/usr/local/lib/python3.11/dist-packages/xgboost/core.py:158: UserWarning: [10:15:49] WARNING: /workspace/src/context.cc:43: No visible GPU is found, setting device to CPU.\n",
            "  warnings.warn(smsg, UserWarning)\n",
            "/usr/local/lib/python3.11/dist-packages/xgboost/core.py:158: UserWarning: [10:15:49] WARNING: /workspace/src/context.cc:196: XGBoost is not compiled with CUDA support.\n",
            "  warnings.warn(smsg, UserWarning)\n",
            "/usr/local/lib/python3.11/dist-packages/xgboost/core.py:158: UserWarning: [10:15:57] WARNING: /workspace/src/context.cc:43: No visible GPU is found, setting device to CPU.\n",
            "  warnings.warn(smsg, UserWarning)\n",
            "/usr/local/lib/python3.11/dist-packages/xgboost/core.py:158: UserWarning: [10:15:57] WARNING: /workspace/src/context.cc:196: XGBoost is not compiled with CUDA support.\n",
            "  warnings.warn(smsg, UserWarning)\n",
            "/usr/local/lib/python3.11/dist-packages/xgboost/core.py:158: UserWarning: [10:16:03] WARNING: /workspace/src/context.cc:43: No visible GPU is found, setting device to CPU.\n",
            "  warnings.warn(smsg, UserWarning)\n",
            "/usr/local/lib/python3.11/dist-packages/xgboost/core.py:158: UserWarning: [10:16:03] WARNING: /workspace/src/context.cc:196: XGBoost is not compiled with CUDA support.\n",
            "  warnings.warn(smsg, UserWarning)\n"
          ]
        },
        {
          "output_type": "stream",
          "name": "stdout",
          "text": [
            "[I 2025-02-04 10:16:12,618] Trial 72 finished with value: 0.5629155992371084 and parameters: {'model': 'xgboost', 'class_weight_option': 'balanced', 'learning_rate': 0.025478886024328542, 'n_estimators': 751, 'max_depth': 7, 'subsample': 0.8092938938288059, 'colsample_bytree': 0.9752023125218838, 'gamma': 0.13714059738139395, 'reg_alpha': 0.7136325655469323, 'reg_lambda': 0.32820850631489434}. Best is trial 65 with value: 0.5793404263522516.\n"
          ]
        },
        {
          "output_type": "stream",
          "name": "stderr",
          "text": [
            "/usr/local/lib/python3.11/dist-packages/xgboost/core.py:158: UserWarning: [10:16:12] WARNING: /workspace/src/context.cc:43: No visible GPU is found, setting device to CPU.\n",
            "  warnings.warn(smsg, UserWarning)\n",
            "/usr/local/lib/python3.11/dist-packages/xgboost/core.py:158: UserWarning: [10:16:12] WARNING: /workspace/src/context.cc:196: XGBoost is not compiled with CUDA support.\n",
            "  warnings.warn(smsg, UserWarning)\n",
            "/usr/local/lib/python3.11/dist-packages/xgboost/core.py:158: UserWarning: [10:16:17] WARNING: /workspace/src/context.cc:43: No visible GPU is found, setting device to CPU.\n",
            "  warnings.warn(smsg, UserWarning)\n",
            "/usr/local/lib/python3.11/dist-packages/xgboost/core.py:158: UserWarning: [10:16:17] WARNING: /workspace/src/context.cc:196: XGBoost is not compiled with CUDA support.\n",
            "  warnings.warn(smsg, UserWarning)\n",
            "/usr/local/lib/python3.11/dist-packages/xgboost/core.py:158: UserWarning: [10:16:24] WARNING: /workspace/src/context.cc:43: No visible GPU is found, setting device to CPU.\n",
            "  warnings.warn(smsg, UserWarning)\n",
            "/usr/local/lib/python3.11/dist-packages/xgboost/core.py:158: UserWarning: [10:16:24] WARNING: /workspace/src/context.cc:196: XGBoost is not compiled with CUDA support.\n",
            "  warnings.warn(smsg, UserWarning)\n",
            "/usr/local/lib/python3.11/dist-packages/xgboost/core.py:158: UserWarning: [10:16:28] WARNING: /workspace/src/context.cc:43: No visible GPU is found, setting device to CPU.\n",
            "  warnings.warn(smsg, UserWarning)\n",
            "/usr/local/lib/python3.11/dist-packages/xgboost/core.py:158: UserWarning: [10:16:28] WARNING: /workspace/src/context.cc:196: XGBoost is not compiled with CUDA support.\n",
            "  warnings.warn(smsg, UserWarning)\n",
            "/usr/local/lib/python3.11/dist-packages/xgboost/core.py:158: UserWarning: [10:16:36] WARNING: /workspace/src/context.cc:43: No visible GPU is found, setting device to CPU.\n",
            "  warnings.warn(smsg, UserWarning)\n",
            "/usr/local/lib/python3.11/dist-packages/xgboost/core.py:158: UserWarning: [10:16:36] WARNING: /workspace/src/context.cc:196: XGBoost is not compiled with CUDA support.\n",
            "  warnings.warn(smsg, UserWarning)\n"
          ]
        },
        {
          "output_type": "stream",
          "name": "stdout",
          "text": [
            "[I 2025-02-04 10:16:40,539] Trial 73 finished with value: 0.5809660833826843 and parameters: {'model': 'xgboost', 'class_weight_option': 'balanced', 'learning_rate': 0.03589041898683267, 'n_estimators': 815, 'max_depth': 7, 'subsample': 0.8380534252784546, 'colsample_bytree': 0.6363422469784192, 'gamma': 0.032100850921973526, 'reg_alpha': 0.5578236502877756, 'reg_lambda': 0.39262036475079487}. Best is trial 73 with value: 0.5809660833826843.\n"
          ]
        },
        {
          "output_type": "stream",
          "name": "stderr",
          "text": [
            "/usr/local/lib/python3.11/dist-packages/xgboost/core.py:158: UserWarning: [10:16:40] WARNING: /workspace/src/context.cc:43: No visible GPU is found, setting device to CPU.\n",
            "  warnings.warn(smsg, UserWarning)\n",
            "/usr/local/lib/python3.11/dist-packages/xgboost/core.py:158: UserWarning: [10:16:40] WARNING: /workspace/src/context.cc:196: XGBoost is not compiled with CUDA support.\n",
            "  warnings.warn(smsg, UserWarning)\n",
            "/usr/local/lib/python3.11/dist-packages/xgboost/core.py:158: UserWarning: [10:16:51] WARNING: /workspace/src/context.cc:43: No visible GPU is found, setting device to CPU.\n",
            "  warnings.warn(smsg, UserWarning)\n",
            "/usr/local/lib/python3.11/dist-packages/xgboost/core.py:158: UserWarning: [10:16:51] WARNING: /workspace/src/context.cc:196: XGBoost is not compiled with CUDA support.\n",
            "  warnings.warn(smsg, UserWarning)\n",
            "/usr/local/lib/python3.11/dist-packages/xgboost/core.py:158: UserWarning: [10:16:58] WARNING: /workspace/src/context.cc:43: No visible GPU is found, setting device to CPU.\n",
            "  warnings.warn(smsg, UserWarning)\n",
            "/usr/local/lib/python3.11/dist-packages/xgboost/core.py:158: UserWarning: [10:16:58] WARNING: /workspace/src/context.cc:196: XGBoost is not compiled with CUDA support.\n",
            "  warnings.warn(smsg, UserWarning)\n",
            "/usr/local/lib/python3.11/dist-packages/xgboost/core.py:158: UserWarning: [10:17:07] WARNING: /workspace/src/context.cc:43: No visible GPU is found, setting device to CPU.\n",
            "  warnings.warn(smsg, UserWarning)\n",
            "/usr/local/lib/python3.11/dist-packages/xgboost/core.py:158: UserWarning: [10:17:07] WARNING: /workspace/src/context.cc:196: XGBoost is not compiled with CUDA support.\n",
            "  warnings.warn(smsg, UserWarning)\n",
            "/usr/local/lib/python3.11/dist-packages/xgboost/core.py:158: UserWarning: [10:17:17] WARNING: /workspace/src/context.cc:43: No visible GPU is found, setting device to CPU.\n",
            "  warnings.warn(smsg, UserWarning)\n",
            "/usr/local/lib/python3.11/dist-packages/xgboost/core.py:158: UserWarning: [10:17:17] WARNING: /workspace/src/context.cc:196: XGBoost is not compiled with CUDA support.\n",
            "  warnings.warn(smsg, UserWarning)\n"
          ]
        },
        {
          "output_type": "stream",
          "name": "stdout",
          "text": [
            "[I 2025-02-04 10:17:27,234] Trial 74 finished with value: 0.5755918772404706 and parameters: {'model': 'xgboost', 'class_weight_option': 'balanced', 'learning_rate': 0.021416898558848218, 'n_estimators': 809, 'max_depth': 8, 'subsample': 0.8362915066100319, 'colsample_bytree': 0.6154871479681392, 'gamma': 0.032852814935264124, 'reg_alpha': 0.5459802751828867, 'reg_lambda': 0.39819816839228805}. Best is trial 73 with value: 0.5809660833826843.\n"
          ]
        },
        {
          "output_type": "stream",
          "name": "stderr",
          "text": [
            "/usr/local/lib/python3.11/dist-packages/xgboost/core.py:158: UserWarning: [10:17:27] WARNING: /workspace/src/context.cc:43: No visible GPU is found, setting device to CPU.\n",
            "  warnings.warn(smsg, UserWarning)\n",
            "/usr/local/lib/python3.11/dist-packages/xgboost/core.py:158: UserWarning: [10:17:27] WARNING: /workspace/src/context.cc:196: XGBoost is not compiled with CUDA support.\n",
            "  warnings.warn(smsg, UserWarning)\n",
            "/usr/local/lib/python3.11/dist-packages/xgboost/core.py:158: UserWarning: [10:17:35] WARNING: /workspace/src/context.cc:43: No visible GPU is found, setting device to CPU.\n",
            "  warnings.warn(smsg, UserWarning)\n",
            "/usr/local/lib/python3.11/dist-packages/xgboost/core.py:158: UserWarning: [10:17:35] WARNING: /workspace/src/context.cc:196: XGBoost is not compiled with CUDA support.\n",
            "  warnings.warn(smsg, UserWarning)\n",
            "/usr/local/lib/python3.11/dist-packages/xgboost/core.py:158: UserWarning: [10:17:45] WARNING: /workspace/src/context.cc:43: No visible GPU is found, setting device to CPU.\n",
            "  warnings.warn(smsg, UserWarning)\n",
            "/usr/local/lib/python3.11/dist-packages/xgboost/core.py:158: UserWarning: [10:17:45] WARNING: /workspace/src/context.cc:196: XGBoost is not compiled with CUDA support.\n",
            "  warnings.warn(smsg, UserWarning)\n",
            "/usr/local/lib/python3.11/dist-packages/xgboost/core.py:158: UserWarning: [10:17:53] WARNING: /workspace/src/context.cc:43: No visible GPU is found, setting device to CPU.\n",
            "  warnings.warn(smsg, UserWarning)\n",
            "/usr/local/lib/python3.11/dist-packages/xgboost/core.py:158: UserWarning: [10:17:53] WARNING: /workspace/src/context.cc:196: XGBoost is not compiled with CUDA support.\n",
            "  warnings.warn(smsg, UserWarning)\n",
            "/usr/local/lib/python3.11/dist-packages/xgboost/core.py:158: UserWarning: [10:18:01] WARNING: /workspace/src/context.cc:43: No visible GPU is found, setting device to CPU.\n",
            "  warnings.warn(smsg, UserWarning)\n",
            "/usr/local/lib/python3.11/dist-packages/xgboost/core.py:158: UserWarning: [10:18:01] WARNING: /workspace/src/context.cc:196: XGBoost is not compiled with CUDA support.\n",
            "  warnings.warn(smsg, UserWarning)\n"
          ]
        },
        {
          "output_type": "stream",
          "name": "stdout",
          "text": [
            "[I 2025-02-04 10:18:11,510] Trial 75 finished with value: 0.5721239626744785 and parameters: {'model': 'xgboost', 'class_weight_option': 'balanced', 'learning_rate': 0.021921953653223723, 'n_estimators': 974, 'max_depth': 8, 'subsample': 0.8295538516129094, 'colsample_bytree': 0.627911170518426, 'gamma': 0.03077858386965097, 'reg_alpha': 0.5526543524688518, 'reg_lambda': 0.46979337712168245}. Best is trial 73 with value: 0.5809660833826843.\n"
          ]
        },
        {
          "output_type": "stream",
          "name": "stderr",
          "text": [
            "/usr/local/lib/python3.11/dist-packages/xgboost/core.py:158: UserWarning: [10:18:11] WARNING: /workspace/src/context.cc:43: No visible GPU is found, setting device to CPU.\n",
            "  warnings.warn(smsg, UserWarning)\n",
            "/usr/local/lib/python3.11/dist-packages/xgboost/core.py:158: UserWarning: [10:18:11] WARNING: /workspace/src/context.cc:196: XGBoost is not compiled with CUDA support.\n",
            "  warnings.warn(smsg, UserWarning)\n",
            "/usr/local/lib/python3.11/dist-packages/xgboost/core.py:158: UserWarning: [10:18:25] WARNING: /workspace/src/context.cc:43: No visible GPU is found, setting device to CPU.\n",
            "  warnings.warn(smsg, UserWarning)\n",
            "/usr/local/lib/python3.11/dist-packages/xgboost/core.py:158: UserWarning: [10:18:25] WARNING: /workspace/src/context.cc:196: XGBoost is not compiled with CUDA support.\n",
            "  warnings.warn(smsg, UserWarning)\n",
            "/usr/local/lib/python3.11/dist-packages/xgboost/core.py:158: UserWarning: [10:18:37] WARNING: /workspace/src/context.cc:43: No visible GPU is found, setting device to CPU.\n",
            "  warnings.warn(smsg, UserWarning)\n",
            "/usr/local/lib/python3.11/dist-packages/xgboost/core.py:158: UserWarning: [10:18:37] WARNING: /workspace/src/context.cc:196: XGBoost is not compiled with CUDA support.\n",
            "  warnings.warn(smsg, UserWarning)\n",
            "/usr/local/lib/python3.11/dist-packages/xgboost/core.py:158: UserWarning: [10:18:48] WARNING: /workspace/src/context.cc:43: No visible GPU is found, setting device to CPU.\n",
            "  warnings.warn(smsg, UserWarning)\n",
            "/usr/local/lib/python3.11/dist-packages/xgboost/core.py:158: UserWarning: [10:18:48] WARNING: /workspace/src/context.cc:196: XGBoost is not compiled with CUDA support.\n",
            "  warnings.warn(smsg, UserWarning)\n",
            "/usr/local/lib/python3.11/dist-packages/xgboost/core.py:158: UserWarning: [10:19:01] WARNING: /workspace/src/context.cc:43: No visible GPU is found, setting device to CPU.\n",
            "  warnings.warn(smsg, UserWarning)\n",
            "/usr/local/lib/python3.11/dist-packages/xgboost/core.py:158: UserWarning: [10:19:01] WARNING: /workspace/src/context.cc:196: XGBoost is not compiled with CUDA support.\n",
            "  warnings.warn(smsg, UserWarning)\n"
          ]
        },
        {
          "output_type": "stream",
          "name": "stdout",
          "text": [
            "[I 2025-02-04 10:19:13,946] Trial 76 finished with value: 0.573745503991094 and parameters: {'model': 'xgboost', 'class_weight_option': 'balanced', 'learning_rate': 0.01805885762324359, 'n_estimators': 824, 'max_depth': 9, 'subsample': 0.8447750726701203, 'colsample_bytree': 0.6738535326153802, 'gamma': 0.022970655845350726, 'reg_alpha': 0.6030675062100217, 'reg_lambda': 0.41115589986085205}. Best is trial 73 with value: 0.5809660833826843.\n",
            "[I 2025-02-04 10:19:37,001] Trial 77 finished with value: 0.3727824738220612 and parameters: {'model': 'random_forest', 'class_weight_option': 'balanced', 'n_estimators': 1133, 'max_depth': 4, 'min_samples_split': 12, 'min_samples_leaf': 10, 'max_features': 'log2'}. Best is trial 73 with value: 0.5809660833826843.\n"
          ]
        },
        {
          "output_type": "stream",
          "name": "stderr",
          "text": [
            "/usr/local/lib/python3.11/dist-packages/xgboost/core.py:158: UserWarning: [10:19:37] WARNING: /workspace/src/context.cc:43: No visible GPU is found, setting device to CPU.\n",
            "  warnings.warn(smsg, UserWarning)\n",
            "/usr/local/lib/python3.11/dist-packages/xgboost/core.py:158: UserWarning: [10:19:37] WARNING: /workspace/src/context.cc:196: XGBoost is not compiled with CUDA support.\n",
            "  warnings.warn(smsg, UserWarning)\n",
            "/usr/local/lib/python3.11/dist-packages/xgboost/core.py:158: UserWarning: [10:19:41] WARNING: /workspace/src/context.cc:43: No visible GPU is found, setting device to CPU.\n",
            "  warnings.warn(smsg, UserWarning)\n",
            "/usr/local/lib/python3.11/dist-packages/xgboost/core.py:158: UserWarning: [10:19:41] WARNING: /workspace/src/context.cc:196: XGBoost is not compiled with CUDA support.\n",
            "  warnings.warn(smsg, UserWarning)\n",
            "/usr/local/lib/python3.11/dist-packages/xgboost/core.py:158: UserWarning: [10:19:49] WARNING: /workspace/src/context.cc:43: No visible GPU is found, setting device to CPU.\n",
            "  warnings.warn(smsg, UserWarning)\n",
            "/usr/local/lib/python3.11/dist-packages/xgboost/core.py:158: UserWarning: [10:19:49] WARNING: /workspace/src/context.cc:196: XGBoost is not compiled with CUDA support.\n",
            "  warnings.warn(smsg, UserWarning)\n",
            "/usr/local/lib/python3.11/dist-packages/xgboost/core.py:158: UserWarning: [10:19:54] WARNING: /workspace/src/context.cc:43: No visible GPU is found, setting device to CPU.\n",
            "  warnings.warn(smsg, UserWarning)\n",
            "/usr/local/lib/python3.11/dist-packages/xgboost/core.py:158: UserWarning: [10:19:54] WARNING: /workspace/src/context.cc:196: XGBoost is not compiled with CUDA support.\n",
            "  warnings.warn(smsg, UserWarning)\n",
            "/usr/local/lib/python3.11/dist-packages/xgboost/core.py:158: UserWarning: [10:19:59] WARNING: /workspace/src/context.cc:43: No visible GPU is found, setting device to CPU.\n",
            "  warnings.warn(smsg, UserWarning)\n",
            "/usr/local/lib/python3.11/dist-packages/xgboost/core.py:158: UserWarning: [10:19:59] WARNING: /workspace/src/context.cc:196: XGBoost is not compiled with CUDA support.\n",
            "  warnings.warn(smsg, UserWarning)\n"
          ]
        },
        {
          "output_type": "stream",
          "name": "stdout",
          "text": [
            "[I 2025-02-04 10:20:06,509] Trial 78 finished with value: 0.5829911374441233 and parameters: {'model': 'xgboost', 'class_weight_option': 'balanced', 'learning_rate': 0.03400406857924183, 'n_estimators': 886, 'max_depth': 8, 'subsample': 0.8609625258750857, 'colsample_bytree': 0.6197612891134751, 'gamma': 0.08977162286342658, 'reg_alpha': 0.9364866433205886, 'reg_lambda': 0.9985364655754743}. Best is trial 78 with value: 0.5829911374441233.\n"
          ]
        },
        {
          "output_type": "stream",
          "name": "stderr",
          "text": [
            "/usr/local/lib/python3.11/dist-packages/xgboost/core.py:158: UserWarning: [10:20:06] WARNING: /workspace/src/context.cc:43: No visible GPU is found, setting device to CPU.\n",
            "  warnings.warn(smsg, UserWarning)\n",
            "/usr/local/lib/python3.11/dist-packages/xgboost/core.py:158: UserWarning: [10:20:06] WARNING: /workspace/src/context.cc:196: XGBoost is not compiled with CUDA support.\n",
            "  warnings.warn(smsg, UserWarning)\n",
            "/usr/local/lib/python3.11/dist-packages/xgboost/core.py:158: UserWarning: [10:20:14] WARNING: /workspace/src/context.cc:43: No visible GPU is found, setting device to CPU.\n",
            "  warnings.warn(smsg, UserWarning)\n",
            "/usr/local/lib/python3.11/dist-packages/xgboost/core.py:158: UserWarning: [10:20:14] WARNING: /workspace/src/context.cc:196: XGBoost is not compiled with CUDA support.\n",
            "  warnings.warn(smsg, UserWarning)\n",
            "/usr/local/lib/python3.11/dist-packages/xgboost/core.py:158: UserWarning: [10:20:19] WARNING: /workspace/src/context.cc:43: No visible GPU is found, setting device to CPU.\n",
            "  warnings.warn(smsg, UserWarning)\n",
            "/usr/local/lib/python3.11/dist-packages/xgboost/core.py:158: UserWarning: [10:20:19] WARNING: /workspace/src/context.cc:196: XGBoost is not compiled with CUDA support.\n",
            "  warnings.warn(smsg, UserWarning)\n",
            "/usr/local/lib/python3.11/dist-packages/xgboost/core.py:158: UserWarning: [10:20:23] WARNING: /workspace/src/context.cc:43: No visible GPU is found, setting device to CPU.\n",
            "  warnings.warn(smsg, UserWarning)\n",
            "/usr/local/lib/python3.11/dist-packages/xgboost/core.py:158: UserWarning: [10:20:23] WARNING: /workspace/src/context.cc:196: XGBoost is not compiled with CUDA support.\n",
            "  warnings.warn(smsg, UserWarning)\n",
            "/usr/local/lib/python3.11/dist-packages/xgboost/core.py:158: UserWarning: [10:20:32] WARNING: /workspace/src/context.cc:43: No visible GPU is found, setting device to CPU.\n",
            "  warnings.warn(smsg, UserWarning)\n",
            "/usr/local/lib/python3.11/dist-packages/xgboost/core.py:158: UserWarning: [10:20:32] WARNING: /workspace/src/context.cc:196: XGBoost is not compiled with CUDA support.\n",
            "  warnings.warn(smsg, UserWarning)\n"
          ]
        },
        {
          "output_type": "stream",
          "name": "stdout",
          "text": [
            "[I 2025-02-04 10:20:36,774] Trial 79 finished with value: 0.5736460981771476 and parameters: {'model': 'xgboost', 'class_weight_option': 'balanced', 'learning_rate': 0.03445927697853126, 'n_estimators': 882, 'max_depth': 7, 'subsample': 0.8565062355064843, 'colsample_bytree': 0.644682106493684, 'gamma': 0.08688532944378058, 'reg_alpha': 0.937641620244044, 'reg_lambda': 0.9848896185261578}. Best is trial 78 with value: 0.5829911374441233.\n"
          ]
        },
        {
          "output_type": "stream",
          "name": "stderr",
          "text": [
            "/usr/local/lib/python3.11/dist-packages/xgboost/core.py:158: UserWarning: [10:20:37] WARNING: /workspace/src/context.cc:43: No visible GPU is found, setting device to CPU.\n",
            "  warnings.warn(smsg, UserWarning)\n",
            "/usr/local/lib/python3.11/dist-packages/xgboost/core.py:158: UserWarning: [10:20:37] WARNING: /workspace/src/context.cc:196: XGBoost is not compiled with CUDA support.\n",
            "  warnings.warn(smsg, UserWarning)\n",
            "/usr/local/lib/python3.11/dist-packages/xgboost/core.py:158: UserWarning: [10:20:44] WARNING: /workspace/src/context.cc:43: No visible GPU is found, setting device to CPU.\n",
            "  warnings.warn(smsg, UserWarning)\n",
            "/usr/local/lib/python3.11/dist-packages/xgboost/core.py:158: UserWarning: [10:20:44] WARNING: /workspace/src/context.cc:196: XGBoost is not compiled with CUDA support.\n",
            "  warnings.warn(smsg, UserWarning)\n",
            "/usr/local/lib/python3.11/dist-packages/xgboost/core.py:158: UserWarning: [10:20:49] WARNING: /workspace/src/context.cc:43: No visible GPU is found, setting device to CPU.\n",
            "  warnings.warn(smsg, UserWarning)\n",
            "/usr/local/lib/python3.11/dist-packages/xgboost/core.py:158: UserWarning: [10:20:49] WARNING: /workspace/src/context.cc:196: XGBoost is not compiled with CUDA support.\n",
            "  warnings.warn(smsg, UserWarning)\n",
            "/usr/local/lib/python3.11/dist-packages/xgboost/core.py:158: UserWarning: [10:20:55] WARNING: /workspace/src/context.cc:43: No visible GPU is found, setting device to CPU.\n",
            "  warnings.warn(smsg, UserWarning)\n",
            "/usr/local/lib/python3.11/dist-packages/xgboost/core.py:158: UserWarning: [10:20:55] WARNING: /workspace/src/context.cc:196: XGBoost is not compiled with CUDA support.\n",
            "  warnings.warn(smsg, UserWarning)\n",
            "/usr/local/lib/python3.11/dist-packages/xgboost/core.py:158: UserWarning: [10:21:00] WARNING: /workspace/src/context.cc:43: No visible GPU is found, setting device to CPU.\n",
            "  warnings.warn(smsg, UserWarning)\n",
            "/usr/local/lib/python3.11/dist-packages/xgboost/core.py:158: UserWarning: [10:21:00] WARNING: /workspace/src/context.cc:196: XGBoost is not compiled with CUDA support.\n",
            "  warnings.warn(smsg, UserWarning)\n"
          ]
        },
        {
          "output_type": "stream",
          "name": "stdout",
          "text": [
            "[I 2025-02-04 10:21:08,121] Trial 80 finished with value: 0.534009377022478 and parameters: {'model': 'xgboost', 'class_weight_option': None, 'learning_rate': 0.02847999693429872, 'n_estimators': 969, 'max_depth': 8, 'subsample': 0.8931305013349806, 'colsample_bytree': 0.7116158419670978, 'gamma': 0.16667832568681185, 'reg_alpha': 0.9172881844457241, 'reg_lambda': 0.8746592812914603}. Best is trial 78 with value: 0.5829911374441233.\n"
          ]
        },
        {
          "output_type": "stream",
          "name": "stderr",
          "text": [
            "/usr/local/lib/python3.11/dist-packages/xgboost/core.py:158: UserWarning: [10:21:08] WARNING: /workspace/src/context.cc:43: No visible GPU is found, setting device to CPU.\n",
            "  warnings.warn(smsg, UserWarning)\n",
            "/usr/local/lib/python3.11/dist-packages/xgboost/core.py:158: UserWarning: [10:21:08] WARNING: /workspace/src/context.cc:196: XGBoost is not compiled with CUDA support.\n",
            "  warnings.warn(smsg, UserWarning)\n",
            "/usr/local/lib/python3.11/dist-packages/xgboost/core.py:158: UserWarning: [10:21:11] WARNING: /workspace/src/context.cc:43: No visible GPU is found, setting device to CPU.\n",
            "  warnings.warn(smsg, UserWarning)\n",
            "/usr/local/lib/python3.11/dist-packages/xgboost/core.py:158: UserWarning: [10:21:11] WARNING: /workspace/src/context.cc:196: XGBoost is not compiled with CUDA support.\n",
            "  warnings.warn(smsg, UserWarning)\n",
            "/usr/local/lib/python3.11/dist-packages/xgboost/core.py:158: UserWarning: [10:21:13] WARNING: /workspace/src/context.cc:43: No visible GPU is found, setting device to CPU.\n",
            "  warnings.warn(smsg, UserWarning)\n",
            "/usr/local/lib/python3.11/dist-packages/xgboost/core.py:158: UserWarning: [10:21:13] WARNING: /workspace/src/context.cc:196: XGBoost is not compiled with CUDA support.\n",
            "  warnings.warn(smsg, UserWarning)\n",
            "/usr/local/lib/python3.11/dist-packages/xgboost/core.py:158: UserWarning: [10:21:15] WARNING: /workspace/src/context.cc:43: No visible GPU is found, setting device to CPU.\n",
            "  warnings.warn(smsg, UserWarning)\n",
            "/usr/local/lib/python3.11/dist-packages/xgboost/core.py:158: UserWarning: [10:21:15] WARNING: /workspace/src/context.cc:196: XGBoost is not compiled with CUDA support.\n",
            "  warnings.warn(smsg, UserWarning)\n",
            "/usr/local/lib/python3.11/dist-packages/xgboost/core.py:158: UserWarning: [10:21:20] WARNING: /workspace/src/context.cc:43: No visible GPU is found, setting device to CPU.\n",
            "  warnings.warn(smsg, UserWarning)\n",
            "/usr/local/lib/python3.11/dist-packages/xgboost/core.py:158: UserWarning: [10:21:20] WARNING: /workspace/src/context.cc:196: XGBoost is not compiled with CUDA support.\n",
            "  warnings.warn(smsg, UserWarning)\n"
          ]
        },
        {
          "output_type": "stream",
          "name": "stdout",
          "text": [
            "[I 2025-02-04 10:21:23,446] Trial 81 finished with value: 0.56890058546361 and parameters: {'model': 'xgboost', 'class_weight_option': 'balanced', 'learning_rate': 0.06957832243284945, 'n_estimators': 772, 'max_depth': 7, 'subsample': 0.7717145026589599, 'colsample_bytree': 0.6829853388894075, 'gamma': 0.10541272478419336, 'reg_alpha': 0.7766793505148167, 'reg_lambda': 0.5476070909041676}. Best is trial 78 with value: 0.5829911374441233.\n"
          ]
        },
        {
          "output_type": "stream",
          "name": "stderr",
          "text": [
            "/usr/local/lib/python3.11/dist-packages/xgboost/core.py:158: UserWarning: [10:21:23] WARNING: /workspace/src/context.cc:43: No visible GPU is found, setting device to CPU.\n",
            "  warnings.warn(smsg, UserWarning)\n",
            "/usr/local/lib/python3.11/dist-packages/xgboost/core.py:158: UserWarning: [10:21:23] WARNING: /workspace/src/context.cc:196: XGBoost is not compiled with CUDA support.\n",
            "  warnings.warn(smsg, UserWarning)\n",
            "/usr/local/lib/python3.11/dist-packages/xgboost/core.py:158: UserWarning: [10:21:34] WARNING: /workspace/src/context.cc:43: No visible GPU is found, setting device to CPU.\n",
            "  warnings.warn(smsg, UserWarning)\n",
            "/usr/local/lib/python3.11/dist-packages/xgboost/core.py:158: UserWarning: [10:21:34] WARNING: /workspace/src/context.cc:196: XGBoost is not compiled with CUDA support.\n",
            "  warnings.warn(smsg, UserWarning)\n",
            "/usr/local/lib/python3.11/dist-packages/xgboost/core.py:158: UserWarning: [10:21:45] WARNING: /workspace/src/context.cc:43: No visible GPU is found, setting device to CPU.\n",
            "  warnings.warn(smsg, UserWarning)\n",
            "/usr/local/lib/python3.11/dist-packages/xgboost/core.py:158: UserWarning: [10:21:45] WARNING: /workspace/src/context.cc:196: XGBoost is not compiled with CUDA support.\n",
            "  warnings.warn(smsg, UserWarning)\n",
            "/usr/local/lib/python3.11/dist-packages/xgboost/core.py:158: UserWarning: [10:21:51] WARNING: /workspace/src/context.cc:43: No visible GPU is found, setting device to CPU.\n",
            "  warnings.warn(smsg, UserWarning)\n",
            "/usr/local/lib/python3.11/dist-packages/xgboost/core.py:158: UserWarning: [10:21:51] WARNING: /workspace/src/context.cc:196: XGBoost is not compiled with CUDA support.\n",
            "  warnings.warn(smsg, UserWarning)\n",
            "/usr/local/lib/python3.11/dist-packages/xgboost/core.py:158: UserWarning: [10:22:02] WARNING: /workspace/src/context.cc:43: No visible GPU is found, setting device to CPU.\n",
            "  warnings.warn(smsg, UserWarning)\n",
            "/usr/local/lib/python3.11/dist-packages/xgboost/core.py:158: UserWarning: [10:22:02] WARNING: /workspace/src/context.cc:196: XGBoost is not compiled with CUDA support.\n",
            "  warnings.warn(smsg, UserWarning)\n"
          ]
        },
        {
          "output_type": "stream",
          "name": "stdout",
          "text": [
            "[I 2025-02-04 10:22:12,967] Trial 82 finished with value: 0.5794160375247089 and parameters: {'model': 'xgboost', 'class_weight_option': 'balanced', 'learning_rate': 0.021137181184846393, 'n_estimators': 787, 'max_depth': 8, 'subsample': 0.8026048989588872, 'colsample_bytree': 0.6164204385512796, 'gamma': 0.02889608788507849, 'reg_alpha': 0.8727795239659971, 'reg_lambda': 0.40017572253525197}. Best is trial 78 with value: 0.5829911374441233.\n"
          ]
        },
        {
          "output_type": "stream",
          "name": "stderr",
          "text": [
            "/usr/local/lib/python3.11/dist-packages/xgboost/core.py:158: UserWarning: [10:22:13] WARNING: /workspace/src/context.cc:43: No visible GPU is found, setting device to CPU.\n",
            "  warnings.warn(smsg, UserWarning)\n",
            "/usr/local/lib/python3.11/dist-packages/xgboost/core.py:158: UserWarning: [10:22:13] WARNING: /workspace/src/context.cc:196: XGBoost is not compiled with CUDA support.\n",
            "  warnings.warn(smsg, UserWarning)\n",
            "/usr/local/lib/python3.11/dist-packages/xgboost/core.py:158: UserWarning: [10:22:25] WARNING: /workspace/src/context.cc:43: No visible GPU is found, setting device to CPU.\n",
            "  warnings.warn(smsg, UserWarning)\n",
            "/usr/local/lib/python3.11/dist-packages/xgboost/core.py:158: UserWarning: [10:22:25] WARNING: /workspace/src/context.cc:196: XGBoost is not compiled with CUDA support.\n",
            "  warnings.warn(smsg, UserWarning)\n",
            "/usr/local/lib/python3.11/dist-packages/xgboost/core.py:158: UserWarning: [10:22:37] WARNING: /workspace/src/context.cc:43: No visible GPU is found, setting device to CPU.\n",
            "  warnings.warn(smsg, UserWarning)\n",
            "/usr/local/lib/python3.11/dist-packages/xgboost/core.py:158: UserWarning: [10:22:37] WARNING: /workspace/src/context.cc:196: XGBoost is not compiled with CUDA support.\n",
            "  warnings.warn(smsg, UserWarning)\n",
            "/usr/local/lib/python3.11/dist-packages/xgboost/core.py:158: UserWarning: [10:22:50] WARNING: /workspace/src/context.cc:43: No visible GPU is found, setting device to CPU.\n",
            "  warnings.warn(smsg, UserWarning)\n",
            "/usr/local/lib/python3.11/dist-packages/xgboost/core.py:158: UserWarning: [10:22:50] WARNING: /workspace/src/context.cc:196: XGBoost is not compiled with CUDA support.\n",
            "  warnings.warn(smsg, UserWarning)\n",
            "/usr/local/lib/python3.11/dist-packages/xgboost/core.py:158: UserWarning: [10:23:02] WARNING: /workspace/src/context.cc:43: No visible GPU is found, setting device to CPU.\n",
            "  warnings.warn(smsg, UserWarning)\n",
            "/usr/local/lib/python3.11/dist-packages/xgboost/core.py:158: UserWarning: [10:23:02] WARNING: /workspace/src/context.cc:196: XGBoost is not compiled with CUDA support.\n",
            "  warnings.warn(smsg, UserWarning)\n"
          ]
        },
        {
          "output_type": "stream",
          "name": "stdout",
          "text": [
            "[I 2025-02-04 10:23:14,676] Trial 83 finished with value: 0.5822336498010419 and parameters: {'model': 'xgboost', 'class_weight_option': 'balanced', 'learning_rate': 0.01441292958083978, 'n_estimators': 848, 'max_depth': 9, 'subsample': 0.8014520168607223, 'colsample_bytree': 0.6287804178136605, 'gamma': 0.0772286812088789, 'reg_alpha': 0.8781806591625432, 'reg_lambda': 0.45664861806340035}. Best is trial 78 with value: 0.5829911374441233.\n"
          ]
        },
        {
          "output_type": "stream",
          "name": "stderr",
          "text": [
            "/usr/local/lib/python3.11/dist-packages/xgboost/core.py:158: UserWarning: [10:23:14] WARNING: /workspace/src/context.cc:43: No visible GPU is found, setting device to CPU.\n",
            "  warnings.warn(smsg, UserWarning)\n",
            "/usr/local/lib/python3.11/dist-packages/xgboost/core.py:158: UserWarning: [10:23:14] WARNING: /workspace/src/context.cc:196: XGBoost is not compiled with CUDA support.\n",
            "  warnings.warn(smsg, UserWarning)\n",
            "/usr/local/lib/python3.11/dist-packages/xgboost/core.py:158: UserWarning: [10:23:27] WARNING: /workspace/src/context.cc:43: No visible GPU is found, setting device to CPU.\n",
            "  warnings.warn(smsg, UserWarning)\n",
            "/usr/local/lib/python3.11/dist-packages/xgboost/core.py:158: UserWarning: [10:23:27] WARNING: /workspace/src/context.cc:196: XGBoost is not compiled with CUDA support.\n",
            "  warnings.warn(smsg, UserWarning)\n",
            "/usr/local/lib/python3.11/dist-packages/xgboost/core.py:158: UserWarning: [10:23:40] WARNING: /workspace/src/context.cc:43: No visible GPU is found, setting device to CPU.\n",
            "  warnings.warn(smsg, UserWarning)\n",
            "/usr/local/lib/python3.11/dist-packages/xgboost/core.py:158: UserWarning: [10:23:40] WARNING: /workspace/src/context.cc:196: XGBoost is not compiled with CUDA support.\n",
            "  warnings.warn(smsg, UserWarning)\n",
            "/usr/local/lib/python3.11/dist-packages/xgboost/core.py:158: UserWarning: [10:23:52] WARNING: /workspace/src/context.cc:43: No visible GPU is found, setting device to CPU.\n",
            "  warnings.warn(smsg, UserWarning)\n",
            "/usr/local/lib/python3.11/dist-packages/xgboost/core.py:158: UserWarning: [10:23:52] WARNING: /workspace/src/context.cc:196: XGBoost is not compiled with CUDA support.\n",
            "  warnings.warn(smsg, UserWarning)\n",
            "/usr/local/lib/python3.11/dist-packages/xgboost/core.py:158: UserWarning: [10:24:05] WARNING: /workspace/src/context.cc:43: No visible GPU is found, setting device to CPU.\n",
            "  warnings.warn(smsg, UserWarning)\n",
            "/usr/local/lib/python3.11/dist-packages/xgboost/core.py:158: UserWarning: [10:24:05] WARNING: /workspace/src/context.cc:196: XGBoost is not compiled with CUDA support.\n",
            "  warnings.warn(smsg, UserWarning)\n"
          ]
        },
        {
          "output_type": "stream",
          "name": "stdout",
          "text": [
            "[I 2025-02-04 10:24:16,186] Trial 84 finished with value: 0.5790739396994733 and parameters: {'model': 'xgboost', 'class_weight_option': 'balanced', 'learning_rate': 0.014104522703928086, 'n_estimators': 913, 'max_depth': 9, 'subsample': 0.7954820823834867, 'colsample_bytree': 0.6283500535799031, 'gamma': 0.08006723341329813, 'reg_alpha': 0.8828328318524871, 'reg_lambda': 0.46201275356865745}. Best is trial 78 with value: 0.5829911374441233.\n"
          ]
        },
        {
          "output_type": "stream",
          "name": "stderr",
          "text": [
            "/usr/local/lib/python3.11/dist-packages/xgboost/core.py:158: UserWarning: [10:24:16] WARNING: /workspace/src/context.cc:43: No visible GPU is found, setting device to CPU.\n",
            "  warnings.warn(smsg, UserWarning)\n",
            "/usr/local/lib/python3.11/dist-packages/xgboost/core.py:158: UserWarning: [10:24:16] WARNING: /workspace/src/context.cc:196: XGBoost is not compiled with CUDA support.\n",
            "  warnings.warn(smsg, UserWarning)\n",
            "/usr/local/lib/python3.11/dist-packages/xgboost/core.py:158: UserWarning: [10:24:33] WARNING: /workspace/src/context.cc:43: No visible GPU is found, setting device to CPU.\n",
            "  warnings.warn(smsg, UserWarning)\n",
            "/usr/local/lib/python3.11/dist-packages/xgboost/core.py:158: UserWarning: [10:24:33] WARNING: /workspace/src/context.cc:196: XGBoost is not compiled with CUDA support.\n",
            "  warnings.warn(smsg, UserWarning)\n",
            "/usr/local/lib/python3.11/dist-packages/xgboost/core.py:158: UserWarning: [10:24:47] WARNING: /workspace/src/context.cc:43: No visible GPU is found, setting device to CPU.\n",
            "  warnings.warn(smsg, UserWarning)\n",
            "/usr/local/lib/python3.11/dist-packages/xgboost/core.py:158: UserWarning: [10:24:47] WARNING: /workspace/src/context.cc:196: XGBoost is not compiled with CUDA support.\n",
            "  warnings.warn(smsg, UserWarning)\n",
            "/usr/local/lib/python3.11/dist-packages/xgboost/core.py:158: UserWarning: [10:25:02] WARNING: /workspace/src/context.cc:43: No visible GPU is found, setting device to CPU.\n",
            "  warnings.warn(smsg, UserWarning)\n",
            "/usr/local/lib/python3.11/dist-packages/xgboost/core.py:158: UserWarning: [10:25:02] WARNING: /workspace/src/context.cc:196: XGBoost is not compiled with CUDA support.\n",
            "  warnings.warn(smsg, UserWarning)\n",
            "/usr/local/lib/python3.11/dist-packages/xgboost/core.py:158: UserWarning: [10:25:17] WARNING: /workspace/src/context.cc:43: No visible GPU is found, setting device to CPU.\n",
            "  warnings.warn(smsg, UserWarning)\n",
            "/usr/local/lib/python3.11/dist-packages/xgboost/core.py:158: UserWarning: [10:25:17] WARNING: /workspace/src/context.cc:196: XGBoost is not compiled with CUDA support.\n",
            "  warnings.warn(smsg, UserWarning)\n"
          ]
        },
        {
          "output_type": "stream",
          "name": "stdout",
          "text": [
            "[I 2025-02-04 10:25:35,276] Trial 85 finished with value: 0.5711534978385379 and parameters: {'model': 'xgboost', 'class_weight_option': 'balanced', 'learning_rate': 0.009248435385327868, 'n_estimators': 909, 'max_depth': 9, 'subsample': 0.775807647149019, 'colsample_bytree': 0.6635057411084675, 'gamma': 0.07494943045371251, 'reg_alpha': 0.9541748756413628, 'reg_lambda': 0.43408812647610695}. Best is trial 78 with value: 0.5829911374441233.\n"
          ]
        },
        {
          "output_type": "stream",
          "name": "stderr",
          "text": [
            "/usr/local/lib/python3.11/dist-packages/xgboost/core.py:158: UserWarning: [10:25:35] WARNING: /workspace/src/context.cc:43: No visible GPU is found, setting device to CPU.\n",
            "  warnings.warn(smsg, UserWarning)\n",
            "/usr/local/lib/python3.11/dist-packages/xgboost/core.py:158: UserWarning: [10:25:35] WARNING: /workspace/src/context.cc:196: XGBoost is not compiled with CUDA support.\n",
            "  warnings.warn(smsg, UserWarning)\n",
            "/usr/local/lib/python3.11/dist-packages/xgboost/core.py:158: UserWarning: [10:25:49] WARNING: /workspace/src/context.cc:43: No visible GPU is found, setting device to CPU.\n",
            "  warnings.warn(smsg, UserWarning)\n",
            "/usr/local/lib/python3.11/dist-packages/xgboost/core.py:158: UserWarning: [10:25:49] WARNING: /workspace/src/context.cc:196: XGBoost is not compiled with CUDA support.\n",
            "  warnings.warn(smsg, UserWarning)\n",
            "/usr/local/lib/python3.11/dist-packages/xgboost/core.py:158: UserWarning: [10:26:03] WARNING: /workspace/src/context.cc:43: No visible GPU is found, setting device to CPU.\n",
            "  warnings.warn(smsg, UserWarning)\n",
            "/usr/local/lib/python3.11/dist-packages/xgboost/core.py:158: UserWarning: [10:26:03] WARNING: /workspace/src/context.cc:196: XGBoost is not compiled with CUDA support.\n",
            "  warnings.warn(smsg, UserWarning)\n",
            "/usr/local/lib/python3.11/dist-packages/xgboost/core.py:158: UserWarning: [10:26:17] WARNING: /workspace/src/context.cc:43: No visible GPU is found, setting device to CPU.\n",
            "  warnings.warn(smsg, UserWarning)\n",
            "/usr/local/lib/python3.11/dist-packages/xgboost/core.py:158: UserWarning: [10:26:17] WARNING: /workspace/src/context.cc:196: XGBoost is not compiled with CUDA support.\n",
            "  warnings.warn(smsg, UserWarning)\n",
            "/usr/local/lib/python3.11/dist-packages/xgboost/core.py:158: UserWarning: [10:26:31] WARNING: /workspace/src/context.cc:43: No visible GPU is found, setting device to CPU.\n",
            "  warnings.warn(smsg, UserWarning)\n",
            "/usr/local/lib/python3.11/dist-packages/xgboost/core.py:158: UserWarning: [10:26:31] WARNING: /workspace/src/context.cc:196: XGBoost is not compiled with CUDA support.\n",
            "  warnings.warn(smsg, UserWarning)\n"
          ]
        },
        {
          "output_type": "stream",
          "name": "stdout",
          "text": [
            "[I 2025-02-04 10:26:45,251] Trial 86 finished with value: 0.5602904501714616 and parameters: {'model': 'xgboost', 'class_weight_option': 'balanced', 'learning_rate': 0.006554279694001493, 'n_estimators': 774, 'max_depth': 9, 'subsample': 0.8037783991653106, 'colsample_bytree': 0.6250092093626062, 'gamma': 0.004677825481771265, 'reg_alpha': 0.8810958454890527, 'reg_lambda': 0.44869653261706915}. Best is trial 78 with value: 0.5829911374441233.\n"
          ]
        },
        {
          "output_type": "stream",
          "name": "stderr",
          "text": [
            "/usr/local/lib/python3.11/dist-packages/xgboost/core.py:158: UserWarning: [10:26:45] WARNING: /workspace/src/context.cc:43: No visible GPU is found, setting device to CPU.\n",
            "  warnings.warn(smsg, UserWarning)\n",
            "/usr/local/lib/python3.11/dist-packages/xgboost/core.py:158: UserWarning: [10:26:45] WARNING: /workspace/src/context.cc:196: XGBoost is not compiled with CUDA support.\n",
            "  warnings.warn(smsg, UserWarning)\n",
            "/usr/local/lib/python3.11/dist-packages/xgboost/core.py:158: UserWarning: [10:26:57] WARNING: /workspace/src/context.cc:43: No visible GPU is found, setting device to CPU.\n",
            "  warnings.warn(smsg, UserWarning)\n",
            "/usr/local/lib/python3.11/dist-packages/xgboost/core.py:158: UserWarning: [10:26:57] WARNING: /workspace/src/context.cc:196: XGBoost is not compiled with CUDA support.\n",
            "  warnings.warn(smsg, UserWarning)\n",
            "/usr/local/lib/python3.11/dist-packages/xgboost/core.py:158: UserWarning: [10:27:09] WARNING: /workspace/src/context.cc:43: No visible GPU is found, setting device to CPU.\n",
            "  warnings.warn(smsg, UserWarning)\n",
            "/usr/local/lib/python3.11/dist-packages/xgboost/core.py:158: UserWarning: [10:27:09] WARNING: /workspace/src/context.cc:196: XGBoost is not compiled with CUDA support.\n",
            "  warnings.warn(smsg, UserWarning)\n",
            "/usr/local/lib/python3.11/dist-packages/xgboost/core.py:158: UserWarning: [10:27:21] WARNING: /workspace/src/context.cc:43: No visible GPU is found, setting device to CPU.\n",
            "  warnings.warn(smsg, UserWarning)\n",
            "/usr/local/lib/python3.11/dist-packages/xgboost/core.py:158: UserWarning: [10:27:21] WARNING: /workspace/src/context.cc:196: XGBoost is not compiled with CUDA support.\n",
            "  warnings.warn(smsg, UserWarning)\n",
            "/usr/local/lib/python3.11/dist-packages/xgboost/core.py:158: UserWarning: [10:27:33] WARNING: /workspace/src/context.cc:43: No visible GPU is found, setting device to CPU.\n",
            "  warnings.warn(smsg, UserWarning)\n",
            "/usr/local/lib/python3.11/dist-packages/xgboost/core.py:158: UserWarning: [10:27:33] WARNING: /workspace/src/context.cc:196: XGBoost is not compiled with CUDA support.\n",
            "  warnings.warn(smsg, UserWarning)\n"
          ]
        },
        {
          "output_type": "stream",
          "name": "stdout",
          "text": [
            "[I 2025-02-04 10:27:45,181] Trial 87 finished with value: 0.5781726953431386 and parameters: {'model': 'xgboost', 'class_weight_option': 'balanced', 'learning_rate': 0.012287518354965088, 'n_estimators': 732, 'max_depth': 9, 'subsample': 0.7993268680959962, 'colsample_bytree': 0.6000479561444108, 'gamma': 0.07105402847856836, 'reg_alpha': 0.8297735507342014, 'reg_lambda': 0.36875041407860953}. Best is trial 78 with value: 0.5829911374441233.\n"
          ]
        },
        {
          "output_type": "stream",
          "name": "stderr",
          "text": [
            "/usr/local/lib/python3.11/dist-packages/xgboost/core.py:158: UserWarning: [10:27:45] WARNING: /workspace/src/context.cc:43: No visible GPU is found, setting device to CPU.\n",
            "  warnings.warn(smsg, UserWarning)\n",
            "/usr/local/lib/python3.11/dist-packages/xgboost/core.py:158: UserWarning: [10:27:45] WARNING: /workspace/src/context.cc:196: XGBoost is not compiled with CUDA support.\n",
            "  warnings.warn(smsg, UserWarning)\n",
            "/usr/local/lib/python3.11/dist-packages/xgboost/core.py:158: UserWarning: [10:27:56] WARNING: /workspace/src/context.cc:43: No visible GPU is found, setting device to CPU.\n",
            "  warnings.warn(smsg, UserWarning)\n",
            "/usr/local/lib/python3.11/dist-packages/xgboost/core.py:158: UserWarning: [10:27:56] WARNING: /workspace/src/context.cc:196: XGBoost is not compiled with CUDA support.\n",
            "  warnings.warn(smsg, UserWarning)\n",
            "/usr/local/lib/python3.11/dist-packages/xgboost/core.py:158: UserWarning: [10:28:04] WARNING: /workspace/src/context.cc:43: No visible GPU is found, setting device to CPU.\n",
            "  warnings.warn(smsg, UserWarning)\n",
            "/usr/local/lib/python3.11/dist-packages/xgboost/core.py:158: UserWarning: [10:28:04] WARNING: /workspace/src/context.cc:196: XGBoost is not compiled with CUDA support.\n",
            "  warnings.warn(smsg, UserWarning)\n",
            "/usr/local/lib/python3.11/dist-packages/xgboost/core.py:158: UserWarning: [10:28:15] WARNING: /workspace/src/context.cc:43: No visible GPU is found, setting device to CPU.\n",
            "  warnings.warn(smsg, UserWarning)\n",
            "/usr/local/lib/python3.11/dist-packages/xgboost/core.py:158: UserWarning: [10:28:15] WARNING: /workspace/src/context.cc:196: XGBoost is not compiled with CUDA support.\n",
            "  warnings.warn(smsg, UserWarning)\n",
            "/usr/local/lib/python3.11/dist-packages/xgboost/core.py:158: UserWarning: [10:28:26] WARNING: /workspace/src/context.cc:43: No visible GPU is found, setting device to CPU.\n",
            "  warnings.warn(smsg, UserWarning)\n",
            "/usr/local/lib/python3.11/dist-packages/xgboost/core.py:158: UserWarning: [10:28:26] WARNING: /workspace/src/context.cc:196: XGBoost is not compiled with CUDA support.\n",
            "  warnings.warn(smsg, UserWarning)\n"
          ]
        },
        {
          "output_type": "stream",
          "name": "stdout",
          "text": [
            "[I 2025-02-04 10:28:36,992] Trial 88 finished with value: 0.5752535215517319 and parameters: {'model': 'xgboost', 'class_weight_option': 'balanced', 'learning_rate': 0.013016079466535487, 'n_estimators': 737, 'max_depth': 9, 'subsample': 0.7981082076201611, 'colsample_bytree': 0.6093852517021556, 'gamma': 0.16451699463599193, 'reg_alpha': 0.8365877834258294, 'reg_lambda': 0.510976736098628}. Best is trial 78 with value: 0.5829911374441233.\n",
            "[I 2025-02-04 10:30:51,803] Trial 89 finished with value: 0.5071860183778705 and parameters: {'model': 'random_forest', 'class_weight_option': 'balanced', 'n_estimators': 1238, 'max_depth': 11, 'min_samples_split': 13, 'min_samples_leaf': 6, 'max_features': None}. Best is trial 78 with value: 0.5829911374441233.\n"
          ]
        },
        {
          "output_type": "stream",
          "name": "stderr",
          "text": [
            "/usr/local/lib/python3.11/dist-packages/xgboost/core.py:158: UserWarning: [10:30:52] WARNING: /workspace/src/context.cc:43: No visible GPU is found, setting device to CPU.\n",
            "  warnings.warn(smsg, UserWarning)\n",
            "/usr/local/lib/python3.11/dist-packages/xgboost/core.py:158: UserWarning: [10:30:52] WARNING: /workspace/src/context.cc:196: XGBoost is not compiled with CUDA support.\n",
            "  warnings.warn(smsg, UserWarning)\n",
            "/usr/local/lib/python3.11/dist-packages/xgboost/core.py:158: UserWarning: [10:31:03] WARNING: /workspace/src/context.cc:43: No visible GPU is found, setting device to CPU.\n",
            "  warnings.warn(smsg, UserWarning)\n",
            "/usr/local/lib/python3.11/dist-packages/xgboost/core.py:158: UserWarning: [10:31:03] WARNING: /workspace/src/context.cc:196: XGBoost is not compiled with CUDA support.\n",
            "  warnings.warn(smsg, UserWarning)\n",
            "/usr/local/lib/python3.11/dist-packages/xgboost/core.py:158: UserWarning: [10:31:15] WARNING: /workspace/src/context.cc:43: No visible GPU is found, setting device to CPU.\n",
            "  warnings.warn(smsg, UserWarning)\n",
            "/usr/local/lib/python3.11/dist-packages/xgboost/core.py:158: UserWarning: [10:31:15] WARNING: /workspace/src/context.cc:196: XGBoost is not compiled with CUDA support.\n",
            "  warnings.warn(smsg, UserWarning)\n",
            "/usr/local/lib/python3.11/dist-packages/xgboost/core.py:158: UserWarning: [10:31:27] WARNING: /workspace/src/context.cc:43: No visible GPU is found, setting device to CPU.\n",
            "  warnings.warn(smsg, UserWarning)\n",
            "/usr/local/lib/python3.11/dist-packages/xgboost/core.py:158: UserWarning: [10:31:27] WARNING: /workspace/src/context.cc:196: XGBoost is not compiled with CUDA support.\n",
            "  warnings.warn(smsg, UserWarning)\n",
            "/usr/local/lib/python3.11/dist-packages/xgboost/core.py:158: UserWarning: [10:31:39] WARNING: /workspace/src/context.cc:43: No visible GPU is found, setting device to CPU.\n",
            "  warnings.warn(smsg, UserWarning)\n",
            "/usr/local/lib/python3.11/dist-packages/xgboost/core.py:158: UserWarning: [10:31:39] WARNING: /workspace/src/context.cc:196: XGBoost is not compiled with CUDA support.\n",
            "  warnings.warn(smsg, UserWarning)\n"
          ]
        },
        {
          "output_type": "stream",
          "name": "stdout",
          "text": [
            "[I 2025-02-04 10:31:48,282] Trial 90 finished with value: 0.5677351271950499 and parameters: {'model': 'xgboost', 'class_weight_option': 'balanced', 'learning_rate': 0.011164129079489158, 'n_estimators': 861, 'max_depth': 10, 'subsample': 0.770797463180737, 'colsample_bytree': 0.6016446402326221, 'gamma': 0.21855900455013072, 'reg_alpha': 0.9879649069314017, 'reg_lambda': 0.3513783512435002}. Best is trial 78 with value: 0.5829911374441233.\n"
          ]
        },
        {
          "output_type": "stream",
          "name": "stderr",
          "text": [
            "/usr/local/lib/python3.11/dist-packages/xgboost/core.py:158: UserWarning: [10:31:48] WARNING: /workspace/src/context.cc:43: No visible GPU is found, setting device to CPU.\n",
            "  warnings.warn(smsg, UserWarning)\n",
            "/usr/local/lib/python3.11/dist-packages/xgboost/core.py:158: UserWarning: [10:31:48] WARNING: /workspace/src/context.cc:196: XGBoost is not compiled with CUDA support.\n",
            "  warnings.warn(smsg, UserWarning)\n",
            "/usr/local/lib/python3.11/dist-packages/xgboost/core.py:158: UserWarning: [10:31:59] WARNING: /workspace/src/context.cc:43: No visible GPU is found, setting device to CPU.\n",
            "  warnings.warn(smsg, UserWarning)\n",
            "/usr/local/lib/python3.11/dist-packages/xgboost/core.py:158: UserWarning: [10:31:59] WARNING: /workspace/src/context.cc:196: XGBoost is not compiled with CUDA support.\n",
            "  warnings.warn(smsg, UserWarning)\n",
            "/usr/local/lib/python3.11/dist-packages/xgboost/core.py:158: UserWarning: [10:32:09] WARNING: /workspace/src/context.cc:43: No visible GPU is found, setting device to CPU.\n",
            "  warnings.warn(smsg, UserWarning)\n",
            "/usr/local/lib/python3.11/dist-packages/xgboost/core.py:158: UserWarning: [10:32:09] WARNING: /workspace/src/context.cc:196: XGBoost is not compiled with CUDA support.\n",
            "  warnings.warn(smsg, UserWarning)\n",
            "/usr/local/lib/python3.11/dist-packages/xgboost/core.py:158: UserWarning: [10:32:20] WARNING: /workspace/src/context.cc:43: No visible GPU is found, setting device to CPU.\n",
            "  warnings.warn(smsg, UserWarning)\n",
            "/usr/local/lib/python3.11/dist-packages/xgboost/core.py:158: UserWarning: [10:32:20] WARNING: /workspace/src/context.cc:196: XGBoost is not compiled with CUDA support.\n",
            "  warnings.warn(smsg, UserWarning)\n",
            "/usr/local/lib/python3.11/dist-packages/xgboost/core.py:158: UserWarning: [10:32:31] WARNING: /workspace/src/context.cc:43: No visible GPU is found, setting device to CPU.\n",
            "  warnings.warn(smsg, UserWarning)\n",
            "/usr/local/lib/python3.11/dist-packages/xgboost/core.py:158: UserWarning: [10:32:31] WARNING: /workspace/src/context.cc:196: XGBoost is not compiled with CUDA support.\n",
            "  warnings.warn(smsg, UserWarning)\n"
          ]
        },
        {
          "output_type": "stream",
          "name": "stdout",
          "text": [
            "[I 2025-02-04 10:32:39,005] Trial 91 finished with value: 0.5768253688608707 and parameters: {'model': 'xgboost', 'class_weight_option': 'balanced', 'learning_rate': 0.014720378282821729, 'n_estimators': 672, 'max_depth': 9, 'subsample': 0.7975237107559797, 'colsample_bytree': 0.625387562786716, 'gamma': 0.12541954951910675, 'reg_alpha': 0.8925085415687912, 'reg_lambda': 0.5510359345000808}. Best is trial 78 with value: 0.5829911374441233.\n"
          ]
        },
        {
          "output_type": "stream",
          "name": "stderr",
          "text": [
            "/usr/local/lib/python3.11/dist-packages/xgboost/core.py:158: UserWarning: [10:32:39] WARNING: /workspace/src/context.cc:43: No visible GPU is found, setting device to CPU.\n",
            "  warnings.warn(smsg, UserWarning)\n",
            "/usr/local/lib/python3.11/dist-packages/xgboost/core.py:158: UserWarning: [10:32:39] WARNING: /workspace/src/context.cc:196: XGBoost is not compiled with CUDA support.\n",
            "  warnings.warn(smsg, UserWarning)\n",
            "/usr/local/lib/python3.11/dist-packages/xgboost/core.py:158: UserWarning: [10:32:51] WARNING: /workspace/src/context.cc:43: No visible GPU is found, setting device to CPU.\n",
            "  warnings.warn(smsg, UserWarning)\n",
            "/usr/local/lib/python3.11/dist-packages/xgboost/core.py:158: UserWarning: [10:32:51] WARNING: /workspace/src/context.cc:196: XGBoost is not compiled with CUDA support.\n",
            "  warnings.warn(smsg, UserWarning)\n",
            "/usr/local/lib/python3.11/dist-packages/xgboost/core.py:158: UserWarning: [10:33:04] WARNING: /workspace/src/context.cc:43: No visible GPU is found, setting device to CPU.\n",
            "  warnings.warn(smsg, UserWarning)\n",
            "/usr/local/lib/python3.11/dist-packages/xgboost/core.py:158: UserWarning: [10:33:04] WARNING: /workspace/src/context.cc:196: XGBoost is not compiled with CUDA support.\n",
            "  warnings.warn(smsg, UserWarning)\n",
            "/usr/local/lib/python3.11/dist-packages/xgboost/core.py:158: UserWarning: [10:33:16] WARNING: /workspace/src/context.cc:43: No visible GPU is found, setting device to CPU.\n",
            "  warnings.warn(smsg, UserWarning)\n",
            "/usr/local/lib/python3.11/dist-packages/xgboost/core.py:158: UserWarning: [10:33:16] WARNING: /workspace/src/context.cc:196: XGBoost is not compiled with CUDA support.\n",
            "  warnings.warn(smsg, UserWarning)\n",
            "/usr/local/lib/python3.11/dist-packages/xgboost/core.py:158: UserWarning: [10:33:29] WARNING: /workspace/src/context.cc:43: No visible GPU is found, setting device to CPU.\n",
            "  warnings.warn(smsg, UserWarning)\n",
            "/usr/local/lib/python3.11/dist-packages/xgboost/core.py:158: UserWarning: [10:33:29] WARNING: /workspace/src/context.cc:196: XGBoost is not compiled with CUDA support.\n",
            "  warnings.warn(smsg, UserWarning)\n"
          ]
        },
        {
          "output_type": "stream",
          "name": "stdout",
          "text": [
            "[I 2025-02-04 10:33:41,659] Trial 92 finished with value: 0.5558438586754659 and parameters: {'model': 'xgboost', 'class_weight_option': 'balanced', 'learning_rate': 0.007564077025328246, 'n_estimators': 633, 'max_depth': 9, 'subsample': 0.8250658015922467, 'colsample_bytree': 0.6519185077093774, 'gamma': 0.06871881352529673, 'reg_alpha': 0.8244993100801316, 'reg_lambda': 0.4017265680805526}. Best is trial 78 with value: 0.5829911374441233.\n"
          ]
        },
        {
          "output_type": "stream",
          "name": "stderr",
          "text": [
            "/usr/local/lib/python3.11/dist-packages/xgboost/core.py:158: UserWarning: [10:33:41] WARNING: /workspace/src/context.cc:43: No visible GPU is found, setting device to CPU.\n",
            "  warnings.warn(smsg, UserWarning)\n",
            "/usr/local/lib/python3.11/dist-packages/xgboost/core.py:158: UserWarning: [10:33:41] WARNING: /workspace/src/context.cc:196: XGBoost is not compiled with CUDA support.\n",
            "  warnings.warn(smsg, UserWarning)\n",
            "/usr/local/lib/python3.11/dist-packages/xgboost/core.py:158: UserWarning: [10:33:53] WARNING: /workspace/src/context.cc:43: No visible GPU is found, setting device to CPU.\n",
            "  warnings.warn(smsg, UserWarning)\n",
            "/usr/local/lib/python3.11/dist-packages/xgboost/core.py:158: UserWarning: [10:33:53] WARNING: /workspace/src/context.cc:196: XGBoost is not compiled with CUDA support.\n",
            "  warnings.warn(smsg, UserWarning)\n",
            "/usr/local/lib/python3.11/dist-packages/xgboost/core.py:158: UserWarning: [10:34:05] WARNING: /workspace/src/context.cc:43: No visible GPU is found, setting device to CPU.\n",
            "  warnings.warn(smsg, UserWarning)\n",
            "/usr/local/lib/python3.11/dist-packages/xgboost/core.py:158: UserWarning: [10:34:05] WARNING: /workspace/src/context.cc:196: XGBoost is not compiled with CUDA support.\n",
            "  warnings.warn(smsg, UserWarning)\n",
            "/usr/local/lib/python3.11/dist-packages/xgboost/core.py:158: UserWarning: [10:34:17] WARNING: /workspace/src/context.cc:43: No visible GPU is found, setting device to CPU.\n",
            "  warnings.warn(smsg, UserWarning)\n",
            "/usr/local/lib/python3.11/dist-packages/xgboost/core.py:158: UserWarning: [10:34:17] WARNING: /workspace/src/context.cc:196: XGBoost is not compiled with CUDA support.\n",
            "  warnings.warn(smsg, UserWarning)\n",
            "/usr/local/lib/python3.11/dist-packages/xgboost/core.py:158: UserWarning: [10:34:29] WARNING: /workspace/src/context.cc:43: No visible GPU is found, setting device to CPU.\n",
            "  warnings.warn(smsg, UserWarning)\n",
            "/usr/local/lib/python3.11/dist-packages/xgboost/core.py:158: UserWarning: [10:34:29] WARNING: /workspace/src/context.cc:196: XGBoost is not compiled with CUDA support.\n",
            "  warnings.warn(smsg, UserWarning)\n"
          ]
        },
        {
          "output_type": "stream",
          "name": "stdout",
          "text": [
            "[I 2025-02-04 10:34:41,468] Trial 93 finished with value: 0.5725778865168685 and parameters: {'model': 'xgboost', 'class_weight_option': 'balanced', 'learning_rate': 0.015251446527603334, 'n_estimators': 812, 'max_depth': 10, 'subsample': 0.821828331605873, 'colsample_bytree': 0.6386045456849452, 'gamma': 0.09231728648051829, 'reg_alpha': 0.920791919204279, 'reg_lambda': 0.37996489178471926}. Best is trial 78 with value: 0.5829911374441233.\n"
          ]
        },
        {
          "output_type": "stream",
          "name": "stderr",
          "text": [
            "/usr/local/lib/python3.11/dist-packages/xgboost/core.py:158: UserWarning: [10:34:41] WARNING: /workspace/src/context.cc:43: No visible GPU is found, setting device to CPU.\n",
            "  warnings.warn(smsg, UserWarning)\n",
            "/usr/local/lib/python3.11/dist-packages/xgboost/core.py:158: UserWarning: [10:34:41] WARNING: /workspace/src/context.cc:196: XGBoost is not compiled with CUDA support.\n",
            "  warnings.warn(smsg, UserWarning)\n",
            "/usr/local/lib/python3.11/dist-packages/xgboost/core.py:158: UserWarning: [10:34:54] WARNING: /workspace/src/context.cc:43: No visible GPU is found, setting device to CPU.\n",
            "  warnings.warn(smsg, UserWarning)\n",
            "/usr/local/lib/python3.11/dist-packages/xgboost/core.py:158: UserWarning: [10:34:54] WARNING: /workspace/src/context.cc:196: XGBoost is not compiled with CUDA support.\n",
            "  warnings.warn(smsg, UserWarning)\n",
            "/usr/local/lib/python3.11/dist-packages/xgboost/core.py:158: UserWarning: [10:35:06] WARNING: /workspace/src/context.cc:43: No visible GPU is found, setting device to CPU.\n",
            "  warnings.warn(smsg, UserWarning)\n",
            "/usr/local/lib/python3.11/dist-packages/xgboost/core.py:158: UserWarning: [10:35:06] WARNING: /workspace/src/context.cc:196: XGBoost is not compiled with CUDA support.\n",
            "  warnings.warn(smsg, UserWarning)\n",
            "/usr/local/lib/python3.11/dist-packages/xgboost/core.py:158: UserWarning: [10:35:17] WARNING: /workspace/src/context.cc:43: No visible GPU is found, setting device to CPU.\n",
            "  warnings.warn(smsg, UserWarning)\n",
            "/usr/local/lib/python3.11/dist-packages/xgboost/core.py:158: UserWarning: [10:35:17] WARNING: /workspace/src/context.cc:196: XGBoost is not compiled with CUDA support.\n",
            "  warnings.warn(smsg, UserWarning)\n",
            "/usr/local/lib/python3.11/dist-packages/xgboost/core.py:158: UserWarning: [10:35:29] WARNING: /workspace/src/context.cc:43: No visible GPU is found, setting device to CPU.\n",
            "  warnings.warn(smsg, UserWarning)\n",
            "/usr/local/lib/python3.11/dist-packages/xgboost/core.py:158: UserWarning: [10:35:29] WARNING: /workspace/src/context.cc:196: XGBoost is not compiled with CUDA support.\n",
            "  warnings.warn(smsg, UserWarning)\n"
          ]
        },
        {
          "output_type": "stream",
          "name": "stdout",
          "text": [
            "[I 2025-02-04 10:35:39,211] Trial 94 finished with value: 0.572813441411529 and parameters: {'model': 'xgboost', 'class_weight_option': 'balanced', 'learning_rate': 0.018975128494286137, 'n_estimators': 943, 'max_depth': 9, 'subsample': 0.8655721651685914, 'colsample_bytree': 0.6493652195875496, 'gamma': 0.029976708132662518, 'reg_alpha': 0.8721494889138347, 'reg_lambda': 0.2442422659054668}. Best is trial 78 with value: 0.5829911374441233.\n"
          ]
        },
        {
          "output_type": "stream",
          "name": "stderr",
          "text": [
            "/usr/local/lib/python3.11/dist-packages/xgboost/core.py:158: UserWarning: [10:35:39] WARNING: /workspace/src/context.cc:43: No visible GPU is found, setting device to CPU.\n",
            "  warnings.warn(smsg, UserWarning)\n",
            "/usr/local/lib/python3.11/dist-packages/xgboost/core.py:158: UserWarning: [10:35:39] WARNING: /workspace/src/context.cc:196: XGBoost is not compiled with CUDA support.\n",
            "  warnings.warn(smsg, UserWarning)\n",
            "/usr/local/lib/python3.11/dist-packages/xgboost/core.py:158: UserWarning: [10:35:51] WARNING: /workspace/src/context.cc:43: No visible GPU is found, setting device to CPU.\n",
            "  warnings.warn(smsg, UserWarning)\n",
            "/usr/local/lib/python3.11/dist-packages/xgboost/core.py:158: UserWarning: [10:35:51] WARNING: /workspace/src/context.cc:196: XGBoost is not compiled with CUDA support.\n",
            "  warnings.warn(smsg, UserWarning)\n",
            "/usr/local/lib/python3.11/dist-packages/xgboost/core.py:158: UserWarning: [10:36:04] WARNING: /workspace/src/context.cc:43: No visible GPU is found, setting device to CPU.\n",
            "  warnings.warn(smsg, UserWarning)\n",
            "/usr/local/lib/python3.11/dist-packages/xgboost/core.py:158: UserWarning: [10:36:04] WARNING: /workspace/src/context.cc:196: XGBoost is not compiled with CUDA support.\n",
            "  warnings.warn(smsg, UserWarning)\n",
            "/usr/local/lib/python3.11/dist-packages/xgboost/core.py:158: UserWarning: [10:36:17] WARNING: /workspace/src/context.cc:43: No visible GPU is found, setting device to CPU.\n",
            "  warnings.warn(smsg, UserWarning)\n",
            "/usr/local/lib/python3.11/dist-packages/xgboost/core.py:158: UserWarning: [10:36:17] WARNING: /workspace/src/context.cc:196: XGBoost is not compiled with CUDA support.\n",
            "  warnings.warn(smsg, UserWarning)\n",
            "/usr/local/lib/python3.11/dist-packages/xgboost/core.py:158: UserWarning: [10:36:29] WARNING: /workspace/src/context.cc:43: No visible GPU is found, setting device to CPU.\n",
            "  warnings.warn(smsg, UserWarning)\n",
            "/usr/local/lib/python3.11/dist-packages/xgboost/core.py:158: UserWarning: [10:36:29] WARNING: /workspace/src/context.cc:196: XGBoost is not compiled with CUDA support.\n",
            "  warnings.warn(smsg, UserWarning)\n"
          ]
        },
        {
          "output_type": "stream",
          "name": "stdout",
          "text": [
            "[I 2025-02-04 10:36:42,513] Trial 95 finished with value: 0.5420552252831563 and parameters: {'model': 'xgboost', 'class_weight_option': 'balanced', 'learning_rate': 0.004351820274061784, 'n_estimators': 785, 'max_depth': 8, 'subsample': 0.7830972214303179, 'colsample_bytree': 0.6204708420331398, 'gamma': 0.05494449811153049, 'reg_alpha': 0.05538682892031921, 'reg_lambda': 0.35784690283933207}. Best is trial 78 with value: 0.5829911374441233.\n"
          ]
        },
        {
          "output_type": "stream",
          "name": "stderr",
          "text": [
            "/usr/local/lib/python3.11/dist-packages/xgboost/core.py:158: UserWarning: [10:36:42] WARNING: /workspace/src/context.cc:43: No visible GPU is found, setting device to CPU.\n",
            "  warnings.warn(smsg, UserWarning)\n",
            "/usr/local/lib/python3.11/dist-packages/xgboost/core.py:158: UserWarning: [10:36:42] WARNING: /workspace/src/context.cc:196: XGBoost is not compiled with CUDA support.\n",
            "  warnings.warn(smsg, UserWarning)\n",
            "/usr/local/lib/python3.11/dist-packages/xgboost/core.py:158: UserWarning: [10:36:54] WARNING: /workspace/src/context.cc:43: No visible GPU is found, setting device to CPU.\n",
            "  warnings.warn(smsg, UserWarning)\n",
            "/usr/local/lib/python3.11/dist-packages/xgboost/core.py:158: UserWarning: [10:36:54] WARNING: /workspace/src/context.cc:196: XGBoost is not compiled with CUDA support.\n",
            "  warnings.warn(smsg, UserWarning)\n",
            "/usr/local/lib/python3.11/dist-packages/xgboost/core.py:158: UserWarning: [10:37:06] WARNING: /workspace/src/context.cc:43: No visible GPU is found, setting device to CPU.\n",
            "  warnings.warn(smsg, UserWarning)\n",
            "/usr/local/lib/python3.11/dist-packages/xgboost/core.py:158: UserWarning: [10:37:06] WARNING: /workspace/src/context.cc:196: XGBoost is not compiled with CUDA support.\n",
            "  warnings.warn(smsg, UserWarning)\n",
            "/usr/local/lib/python3.11/dist-packages/xgboost/core.py:158: UserWarning: [10:37:18] WARNING: /workspace/src/context.cc:43: No visible GPU is found, setting device to CPU.\n",
            "  warnings.warn(smsg, UserWarning)\n",
            "/usr/local/lib/python3.11/dist-packages/xgboost/core.py:158: UserWarning: [10:37:18] WARNING: /workspace/src/context.cc:196: XGBoost is not compiled with CUDA support.\n",
            "  warnings.warn(smsg, UserWarning)\n",
            "/usr/local/lib/python3.11/dist-packages/xgboost/core.py:158: UserWarning: [10:37:30] WARNING: /workspace/src/context.cc:43: No visible GPU is found, setting device to CPU.\n",
            "  warnings.warn(smsg, UserWarning)\n",
            "/usr/local/lib/python3.11/dist-packages/xgboost/core.py:158: UserWarning: [10:37:30] WARNING: /workspace/src/context.cc:196: XGBoost is not compiled with CUDA support.\n",
            "  warnings.warn(smsg, UserWarning)\n"
          ]
        },
        {
          "output_type": "stream",
          "name": "stdout",
          "text": [
            "[I 2025-02-04 10:37:42,146] Trial 96 finished with value: 0.5134017312501957 and parameters: {'model': 'xgboost', 'class_weight_option': 'balanced', 'learning_rate': 0.0011275800885075869, 'n_estimators': 717, 'max_depth': 8, 'subsample': 0.8377263303658457, 'colsample_bytree': 0.6341220352458854, 'gamma': 0.09713687709852516, 'reg_alpha': 0.9607244538909052, 'reg_lambda': 0.30571308987782936}. Best is trial 78 with value: 0.5829911374441233.\n"
          ]
        },
        {
          "output_type": "stream",
          "name": "stderr",
          "text": [
            "/usr/local/lib/python3.11/dist-packages/xgboost/core.py:158: UserWarning: [10:37:42] WARNING: /workspace/src/context.cc:43: No visible GPU is found, setting device to CPU.\n",
            "  warnings.warn(smsg, UserWarning)\n",
            "/usr/local/lib/python3.11/dist-packages/xgboost/core.py:158: UserWarning: [10:37:42] WARNING: /workspace/src/context.cc:196: XGBoost is not compiled with CUDA support.\n",
            "  warnings.warn(smsg, UserWarning)\n",
            "/usr/local/lib/python3.11/dist-packages/xgboost/core.py:158: UserWarning: [10:37:43] WARNING: /workspace/src/context.cc:43: No visible GPU is found, setting device to CPU.\n",
            "  warnings.warn(smsg, UserWarning)\n",
            "/usr/local/lib/python3.11/dist-packages/xgboost/core.py:158: UserWarning: [10:37:43] WARNING: /workspace/src/context.cc:196: XGBoost is not compiled with CUDA support.\n",
            "  warnings.warn(smsg, UserWarning)\n",
            "/usr/local/lib/python3.11/dist-packages/xgboost/core.py:158: UserWarning: [10:37:45] WARNING: /workspace/src/context.cc:43: No visible GPU is found, setting device to CPU.\n",
            "  warnings.warn(smsg, UserWarning)\n",
            "/usr/local/lib/python3.11/dist-packages/xgboost/core.py:158: UserWarning: [10:37:45] WARNING: /workspace/src/context.cc:196: XGBoost is not compiled with CUDA support.\n",
            "  warnings.warn(smsg, UserWarning)\n",
            "/usr/local/lib/python3.11/dist-packages/xgboost/core.py:158: UserWarning: [10:37:46] WARNING: /workspace/src/context.cc:43: No visible GPU is found, setting device to CPU.\n",
            "  warnings.warn(smsg, UserWarning)\n",
            "/usr/local/lib/python3.11/dist-packages/xgboost/core.py:158: UserWarning: [10:37:46] WARNING: /workspace/src/context.cc:196: XGBoost is not compiled with CUDA support.\n",
            "  warnings.warn(smsg, UserWarning)\n",
            "/usr/local/lib/python3.11/dist-packages/xgboost/core.py:158: UserWarning: [10:37:50] WARNING: /workspace/src/context.cc:43: No visible GPU is found, setting device to CPU.\n",
            "  warnings.warn(smsg, UserWarning)\n",
            "/usr/local/lib/python3.11/dist-packages/xgboost/core.py:158: UserWarning: [10:37:50] WARNING: /workspace/src/context.cc:196: XGBoost is not compiled with CUDA support.\n",
            "  warnings.warn(smsg, UserWarning)\n"
          ]
        },
        {
          "output_type": "stream",
          "name": "stdout",
          "text": [
            "[I 2025-02-04 10:37:51,465] Trial 97 finished with value: 0.545304701386326 and parameters: {'model': 'xgboost', 'class_weight_option': None, 'learning_rate': 0.20385530579743755, 'n_estimators': 894, 'max_depth': 9, 'subsample': 0.7900911515347506, 'colsample_bytree': 0.6648695643088005, 'gamma': 0.014581825761257897, 'reg_alpha': 0.9081443532878066, 'reg_lambda': 0.4465657689517072}. Best is trial 78 with value: 0.5829911374441233.\n"
          ]
        },
        {
          "output_type": "stream",
          "name": "stderr",
          "text": [
            "/usr/local/lib/python3.11/dist-packages/xgboost/core.py:158: UserWarning: [10:37:51] WARNING: /workspace/src/context.cc:43: No visible GPU is found, setting device to CPU.\n",
            "  warnings.warn(smsg, UserWarning)\n",
            "/usr/local/lib/python3.11/dist-packages/xgboost/core.py:158: UserWarning: [10:37:51] WARNING: /workspace/src/context.cc:196: XGBoost is not compiled with CUDA support.\n",
            "  warnings.warn(smsg, UserWarning)\n",
            "/usr/local/lib/python3.11/dist-packages/xgboost/core.py:158: UserWarning: [10:37:57] WARNING: /workspace/src/context.cc:43: No visible GPU is found, setting device to CPU.\n",
            "  warnings.warn(smsg, UserWarning)\n",
            "/usr/local/lib/python3.11/dist-packages/xgboost/core.py:158: UserWarning: [10:37:57] WARNING: /workspace/src/context.cc:196: XGBoost is not compiled with CUDA support.\n",
            "  warnings.warn(smsg, UserWarning)\n",
            "/usr/local/lib/python3.11/dist-packages/xgboost/core.py:158: UserWarning: [10:38:05] WARNING: /workspace/src/context.cc:43: No visible GPU is found, setting device to CPU.\n",
            "  warnings.warn(smsg, UserWarning)\n",
            "/usr/local/lib/python3.11/dist-packages/xgboost/core.py:158: UserWarning: [10:38:05] WARNING: /workspace/src/context.cc:196: XGBoost is not compiled with CUDA support.\n",
            "  warnings.warn(smsg, UserWarning)\n",
            "/usr/local/lib/python3.11/dist-packages/xgboost/core.py:158: UserWarning: [10:38:11] WARNING: /workspace/src/context.cc:43: No visible GPU is found, setting device to CPU.\n",
            "  warnings.warn(smsg, UserWarning)\n",
            "/usr/local/lib/python3.11/dist-packages/xgboost/core.py:158: UserWarning: [10:38:11] WARNING: /workspace/src/context.cc:196: XGBoost is not compiled with CUDA support.\n",
            "  warnings.warn(smsg, UserWarning)\n",
            "/usr/local/lib/python3.11/dist-packages/xgboost/core.py:158: UserWarning: [10:38:19] WARNING: /workspace/src/context.cc:43: No visible GPU is found, setting device to CPU.\n",
            "  warnings.warn(smsg, UserWarning)\n",
            "/usr/local/lib/python3.11/dist-packages/xgboost/core.py:158: UserWarning: [10:38:19] WARNING: /workspace/src/context.cc:196: XGBoost is not compiled with CUDA support.\n",
            "  warnings.warn(smsg, UserWarning)\n"
          ]
        },
        {
          "output_type": "stream",
          "name": "stdout",
          "text": [
            "[I 2025-02-04 10:38:25,658] Trial 98 finished with value: 0.5593593314499243 and parameters: {'model': 'xgboost', 'class_weight_option': 'balanced', 'learning_rate': 0.010974586987639697, 'n_estimators': 472, 'max_depth': 8, 'subsample': 0.8311229665952327, 'colsample_bytree': 0.6129228104024602, 'gamma': 0.15851464122712455, 'reg_alpha': 0.7365776742572888, 'reg_lambda': 0.2731620057980929}. Best is trial 78 with value: 0.5829911374441233.\n"
          ]
        },
        {
          "output_type": "stream",
          "name": "stderr",
          "text": [
            "/usr/local/lib/python3.11/dist-packages/xgboost/core.py:158: UserWarning: [10:38:26] WARNING: /workspace/src/context.cc:43: No visible GPU is found, setting device to CPU.\n",
            "  warnings.warn(smsg, UserWarning)\n",
            "/usr/local/lib/python3.11/dist-packages/xgboost/core.py:158: UserWarning: [10:38:26] WARNING: /workspace/src/context.cc:196: XGBoost is not compiled with CUDA support.\n",
            "  warnings.warn(smsg, UserWarning)\n",
            "/usr/local/lib/python3.11/dist-packages/xgboost/core.py:158: UserWarning: [10:38:34] WARNING: /workspace/src/context.cc:43: No visible GPU is found, setting device to CPU.\n",
            "  warnings.warn(smsg, UserWarning)\n",
            "/usr/local/lib/python3.11/dist-packages/xgboost/core.py:158: UserWarning: [10:38:34] WARNING: /workspace/src/context.cc:196: XGBoost is not compiled with CUDA support.\n",
            "  warnings.warn(smsg, UserWarning)\n",
            "/usr/local/lib/python3.11/dist-packages/xgboost/core.py:158: UserWarning: [10:38:42] WARNING: /workspace/src/context.cc:43: No visible GPU is found, setting device to CPU.\n",
            "  warnings.warn(smsg, UserWarning)\n",
            "/usr/local/lib/python3.11/dist-packages/xgboost/core.py:158: UserWarning: [10:38:42] WARNING: /workspace/src/context.cc:196: XGBoost is not compiled with CUDA support.\n",
            "  warnings.warn(smsg, UserWarning)\n",
            "/usr/local/lib/python3.11/dist-packages/xgboost/core.py:158: UserWarning: [10:38:47] WARNING: /workspace/src/context.cc:43: No visible GPU is found, setting device to CPU.\n",
            "  warnings.warn(smsg, UserWarning)\n",
            "/usr/local/lib/python3.11/dist-packages/xgboost/core.py:158: UserWarning: [10:38:47] WARNING: /workspace/src/context.cc:196: XGBoost is not compiled with CUDA support.\n",
            "  warnings.warn(smsg, UserWarning)\n",
            "/usr/local/lib/python3.11/dist-packages/xgboost/core.py:158: UserWarning: [10:38:56] WARNING: /workspace/src/context.cc:43: No visible GPU is found, setting device to CPU.\n",
            "  warnings.warn(smsg, UserWarning)\n",
            "/usr/local/lib/python3.11/dist-packages/xgboost/core.py:158: UserWarning: [10:38:56] WARNING: /workspace/src/context.cc:196: XGBoost is not compiled with CUDA support.\n",
            "  warnings.warn(smsg, UserWarning)\n"
          ]
        },
        {
          "output_type": "stream",
          "name": "stdout",
          "text": [
            "[I 2025-02-04 10:39:01,560] Trial 99 finished with value: 0.5756852530048349 and parameters: {'model': 'xgboost', 'class_weight_option': 'balanced', 'learning_rate': 0.029934728462169043, 'n_estimators': 599, 'max_depth': 8, 'subsample': 0.7998302720443046, 'colsample_bytree': 0.6855619914919713, 'gamma': 0.07674351948737253, 'reg_alpha': 0.8295360835379454, 'reg_lambda': 0.46352140688834004}. Best is trial 78 with value: 0.5829911374441233.\n"
          ]
        },
        {
          "output_type": "stream",
          "name": "stderr",
          "text": [
            "/usr/local/lib/python3.11/dist-packages/xgboost/core.py:158: UserWarning: [10:39:01] WARNING: /workspace/src/context.cc:43: No visible GPU is found, setting device to CPU.\n",
            "  warnings.warn(smsg, UserWarning)\n",
            "/usr/local/lib/python3.11/dist-packages/xgboost/core.py:158: UserWarning: [10:39:01] WARNING: /workspace/src/context.cc:196: XGBoost is not compiled with CUDA support.\n",
            "  warnings.warn(smsg, UserWarning)\n",
            "/usr/local/lib/python3.11/dist-packages/xgboost/core.py:158: UserWarning: [10:39:03] WARNING: /workspace/src/context.cc:43: No visible GPU is found, setting device to CPU.\n",
            "  warnings.warn(smsg, UserWarning)\n",
            "/usr/local/lib/python3.11/dist-packages/xgboost/core.py:158: UserWarning: [10:39:03] WARNING: /workspace/src/context.cc:196: XGBoost is not compiled with CUDA support.\n",
            "  warnings.warn(smsg, UserWarning)\n",
            "/usr/local/lib/python3.11/dist-packages/xgboost/core.py:158: UserWarning: [10:39:08] WARNING: /workspace/src/context.cc:43: No visible GPU is found, setting device to CPU.\n",
            "  warnings.warn(smsg, UserWarning)\n",
            "/usr/local/lib/python3.11/dist-packages/xgboost/core.py:158: UserWarning: [10:39:08] WARNING: /workspace/src/context.cc:196: XGBoost is not compiled with CUDA support.\n",
            "  warnings.warn(smsg, UserWarning)\n",
            "/usr/local/lib/python3.11/dist-packages/xgboost/core.py:158: UserWarning: [10:39:10] WARNING: /workspace/src/context.cc:43: No visible GPU is found, setting device to CPU.\n",
            "  warnings.warn(smsg, UserWarning)\n",
            "/usr/local/lib/python3.11/dist-packages/xgboost/core.py:158: UserWarning: [10:39:10] WARNING: /workspace/src/context.cc:196: XGBoost is not compiled with CUDA support.\n",
            "  warnings.warn(smsg, UserWarning)\n",
            "/usr/local/lib/python3.11/dist-packages/xgboost/core.py:158: UserWarning: [10:39:12] WARNING: /workspace/src/context.cc:43: No visible GPU is found, setting device to CPU.\n",
            "  warnings.warn(smsg, UserWarning)\n",
            "/usr/local/lib/python3.11/dist-packages/xgboost/core.py:158: UserWarning: [10:39:12] WARNING: /workspace/src/context.cc:196: XGBoost is not compiled with CUDA support.\n",
            "  warnings.warn(smsg, UserWarning)\n"
          ]
        },
        {
          "output_type": "stream",
          "name": "stdout",
          "text": [
            "[I 2025-02-04 10:39:13,876] Trial 100 finished with value: 0.5709528330643979 and parameters: {'model': 'xgboost', 'class_weight_option': 'balanced', 'learning_rate': 0.08767377474704194, 'n_estimators': 842, 'max_depth': 10, 'subsample': 0.8166058794340002, 'colsample_bytree': 0.6465390001029665, 'gamma': 0.12442677420790535, 'reg_alpha': 0.8671730588458557, 'reg_lambda': 0.41757693474402957}. Best is trial 78 with value: 0.5829911374441233.\n"
          ]
        },
        {
          "output_type": "stream",
          "name": "stderr",
          "text": [
            "/usr/local/lib/python3.11/dist-packages/xgboost/core.py:158: UserWarning: [10:39:14] WARNING: /workspace/src/context.cc:43: No visible GPU is found, setting device to CPU.\n",
            "  warnings.warn(smsg, UserWarning)\n",
            "/usr/local/lib/python3.11/dist-packages/xgboost/core.py:158: UserWarning: [10:39:14] WARNING: /workspace/src/context.cc:196: XGBoost is not compiled with CUDA support.\n",
            "  warnings.warn(smsg, UserWarning)\n",
            "/usr/local/lib/python3.11/dist-packages/xgboost/core.py:158: UserWarning: [10:39:16] WARNING: /workspace/src/context.cc:43: No visible GPU is found, setting device to CPU.\n",
            "  warnings.warn(smsg, UserWarning)\n",
            "/usr/local/lib/python3.11/dist-packages/xgboost/core.py:158: UserWarning: [10:39:16] WARNING: /workspace/src/context.cc:196: XGBoost is not compiled with CUDA support.\n",
            "  warnings.warn(smsg, UserWarning)\n",
            "/usr/local/lib/python3.11/dist-packages/xgboost/core.py:158: UserWarning: [10:39:22] WARNING: /workspace/src/context.cc:43: No visible GPU is found, setting device to CPU.\n",
            "  warnings.warn(smsg, UserWarning)\n",
            "/usr/local/lib/python3.11/dist-packages/xgboost/core.py:158: UserWarning: [10:39:22] WARNING: /workspace/src/context.cc:196: XGBoost is not compiled with CUDA support.\n",
            "  warnings.warn(smsg, UserWarning)\n",
            "/usr/local/lib/python3.11/dist-packages/xgboost/core.py:158: UserWarning: [10:39:24] WARNING: /workspace/src/context.cc:43: No visible GPU is found, setting device to CPU.\n",
            "  warnings.warn(smsg, UserWarning)\n",
            "/usr/local/lib/python3.11/dist-packages/xgboost/core.py:158: UserWarning: [10:39:24] WARNING: /workspace/src/context.cc:196: XGBoost is not compiled with CUDA support.\n",
            "  warnings.warn(smsg, UserWarning)\n",
            "/usr/local/lib/python3.11/dist-packages/xgboost/core.py:158: UserWarning: [10:39:27] WARNING: /workspace/src/context.cc:43: No visible GPU is found, setting device to CPU.\n",
            "  warnings.warn(smsg, UserWarning)\n",
            "/usr/local/lib/python3.11/dist-packages/xgboost/core.py:158: UserWarning: [10:39:27] WARNING: /workspace/src/context.cc:196: XGBoost is not compiled with CUDA support.\n",
            "  warnings.warn(smsg, UserWarning)\n"
          ]
        },
        {
          "output_type": "stream",
          "name": "stdout",
          "text": [
            "[I 2025-02-04 10:39:29,825] Trial 101 finished with value: 0.555028209364463 and parameters: {'model': 'xgboost', 'class_weight_option': 'balanced', 'learning_rate': 0.03760435057689534, 'n_estimators': 733, 'max_depth': 8, 'subsample': 0.8529982184776771, 'colsample_bytree': 0.6002549631462478, 'gamma': 0.6622632997483437, 'reg_alpha': 0.5217516871567791, 'reg_lambda': 0.5005169366252417}. Best is trial 78 with value: 0.5829911374441233.\n"
          ]
        },
        {
          "output_type": "stream",
          "name": "stderr",
          "text": [
            "/usr/local/lib/python3.11/dist-packages/xgboost/core.py:158: UserWarning: [10:39:30] WARNING: /workspace/src/context.cc:43: No visible GPU is found, setting device to CPU.\n",
            "  warnings.warn(smsg, UserWarning)\n",
            "/usr/local/lib/python3.11/dist-packages/xgboost/core.py:158: UserWarning: [10:39:30] WARNING: /workspace/src/context.cc:196: XGBoost is not compiled with CUDA support.\n",
            "  warnings.warn(smsg, UserWarning)\n",
            "/usr/local/lib/python3.11/dist-packages/xgboost/core.py:158: UserWarning: [10:39:41] WARNING: /workspace/src/context.cc:43: No visible GPU is found, setting device to CPU.\n",
            "  warnings.warn(smsg, UserWarning)\n",
            "/usr/local/lib/python3.11/dist-packages/xgboost/core.py:158: UserWarning: [10:39:41] WARNING: /workspace/src/context.cc:196: XGBoost is not compiled with CUDA support.\n",
            "  warnings.warn(smsg, UserWarning)\n",
            "/usr/local/lib/python3.11/dist-packages/xgboost/core.py:158: UserWarning: [10:39:52] WARNING: /workspace/src/context.cc:43: No visible GPU is found, setting device to CPU.\n",
            "  warnings.warn(smsg, UserWarning)\n",
            "/usr/local/lib/python3.11/dist-packages/xgboost/core.py:158: UserWarning: [10:39:52] WARNING: /workspace/src/context.cc:196: XGBoost is not compiled with CUDA support.\n",
            "  warnings.warn(smsg, UserWarning)\n",
            "/usr/local/lib/python3.11/dist-packages/xgboost/core.py:158: UserWarning: [10:40:04] WARNING: /workspace/src/context.cc:43: No visible GPU is found, setting device to CPU.\n",
            "  warnings.warn(smsg, UserWarning)\n",
            "/usr/local/lib/python3.11/dist-packages/xgboost/core.py:158: UserWarning: [10:40:04] WARNING: /workspace/src/context.cc:196: XGBoost is not compiled with CUDA support.\n",
            "  warnings.warn(smsg, UserWarning)\n",
            "/usr/local/lib/python3.11/dist-packages/xgboost/core.py:158: UserWarning: [10:40:15] WARNING: /workspace/src/context.cc:43: No visible GPU is found, setting device to CPU.\n",
            "  warnings.warn(smsg, UserWarning)\n",
            "/usr/local/lib/python3.11/dist-packages/xgboost/core.py:158: UserWarning: [10:40:15] WARNING: /workspace/src/context.cc:196: XGBoost is not compiled with CUDA support.\n",
            "  warnings.warn(smsg, UserWarning)\n"
          ]
        },
        {
          "output_type": "stream",
          "name": "stdout",
          "text": [
            "[I 2025-02-04 10:40:27,341] Trial 102 finished with value: 0.5729649701116722 and parameters: {'model': 'xgboost', 'class_weight_option': 'balanced', 'learning_rate': 0.013681792738033724, 'n_estimators': 679, 'max_depth': 9, 'subsample': 0.8020202728126277, 'colsample_bytree': 0.6283101451618196, 'gamma': 0.04934190329622956, 'reg_alpha': 0.888216101512839, 'reg_lambda': 0.9417159650379329}. Best is trial 78 with value: 0.5829911374441233.\n"
          ]
        },
        {
          "output_type": "stream",
          "name": "stderr",
          "text": [
            "/usr/local/lib/python3.11/dist-packages/xgboost/core.py:158: UserWarning: [10:40:27] WARNING: /workspace/src/context.cc:43: No visible GPU is found, setting device to CPU.\n",
            "  warnings.warn(smsg, UserWarning)\n",
            "/usr/local/lib/python3.11/dist-packages/xgboost/core.py:158: UserWarning: [10:40:27] WARNING: /workspace/src/context.cc:196: XGBoost is not compiled with CUDA support.\n",
            "  warnings.warn(smsg, UserWarning)\n",
            "/usr/local/lib/python3.11/dist-packages/xgboost/core.py:158: UserWarning: [10:40:38] WARNING: /workspace/src/context.cc:43: No visible GPU is found, setting device to CPU.\n",
            "  warnings.warn(smsg, UserWarning)\n",
            "/usr/local/lib/python3.11/dist-packages/xgboost/core.py:158: UserWarning: [10:40:38] WARNING: /workspace/src/context.cc:196: XGBoost is not compiled with CUDA support.\n",
            "  warnings.warn(smsg, UserWarning)\n",
            "/usr/local/lib/python3.11/dist-packages/xgboost/core.py:158: UserWarning: [10:40:47] WARNING: /workspace/src/context.cc:43: No visible GPU is found, setting device to CPU.\n",
            "  warnings.warn(smsg, UserWarning)\n",
            "/usr/local/lib/python3.11/dist-packages/xgboost/core.py:158: UserWarning: [10:40:47] WARNING: /workspace/src/context.cc:196: XGBoost is not compiled with CUDA support.\n",
            "  warnings.warn(smsg, UserWarning)\n",
            "/usr/local/lib/python3.11/dist-packages/xgboost/core.py:158: UserWarning: [10:40:57] WARNING: /workspace/src/context.cc:43: No visible GPU is found, setting device to CPU.\n",
            "  warnings.warn(smsg, UserWarning)\n",
            "/usr/local/lib/python3.11/dist-packages/xgboost/core.py:158: UserWarning: [10:40:57] WARNING: /workspace/src/context.cc:196: XGBoost is not compiled with CUDA support.\n",
            "  warnings.warn(smsg, UserWarning)\n",
            "/usr/local/lib/python3.11/dist-packages/xgboost/core.py:158: UserWarning: [10:41:08] WARNING: /workspace/src/context.cc:43: No visible GPU is found, setting device to CPU.\n",
            "  warnings.warn(smsg, UserWarning)\n",
            "/usr/local/lib/python3.11/dist-packages/xgboost/core.py:158: UserWarning: [10:41:08] WARNING: /workspace/src/context.cc:196: XGBoost is not compiled with CUDA support.\n",
            "  warnings.warn(smsg, UserWarning)\n"
          ]
        },
        {
          "output_type": "stream",
          "name": "stdout",
          "text": [
            "[I 2025-02-04 10:41:19,694] Trial 103 finished with value: 0.5649884097072216 and parameters: {'model': 'xgboost', 'class_weight_option': 'balanced', 'learning_rate': 0.011070482839589429, 'n_estimators': 652, 'max_depth': 9, 'subsample': 0.7929252660423469, 'colsample_bytree': 0.6222591093420857, 'gamma': 0.1268772542982292, 'reg_alpha': 0.9425516704574943, 'reg_lambda': 0.7642345850071587}. Best is trial 78 with value: 0.5829911374441233.\n"
          ]
        },
        {
          "output_type": "stream",
          "name": "stderr",
          "text": [
            "/usr/local/lib/python3.11/dist-packages/xgboost/core.py:158: UserWarning: [10:41:19] WARNING: /workspace/src/context.cc:43: No visible GPU is found, setting device to CPU.\n",
            "  warnings.warn(smsg, UserWarning)\n",
            "/usr/local/lib/python3.11/dist-packages/xgboost/core.py:158: UserWarning: [10:41:19] WARNING: /workspace/src/context.cc:196: XGBoost is not compiled with CUDA support.\n",
            "  warnings.warn(smsg, UserWarning)\n",
            "/usr/local/lib/python3.11/dist-packages/xgboost/core.py:158: UserWarning: [10:41:30] WARNING: /workspace/src/context.cc:43: No visible GPU is found, setting device to CPU.\n",
            "  warnings.warn(smsg, UserWarning)\n",
            "/usr/local/lib/python3.11/dist-packages/xgboost/core.py:158: UserWarning: [10:41:30] WARNING: /workspace/src/context.cc:196: XGBoost is not compiled with CUDA support.\n",
            "  warnings.warn(smsg, UserWarning)\n",
            "/usr/local/lib/python3.11/dist-packages/xgboost/core.py:158: UserWarning: [10:41:41] WARNING: /workspace/src/context.cc:43: No visible GPU is found, setting device to CPU.\n",
            "  warnings.warn(smsg, UserWarning)\n",
            "/usr/local/lib/python3.11/dist-packages/xgboost/core.py:158: UserWarning: [10:41:41] WARNING: /workspace/src/context.cc:196: XGBoost is not compiled with CUDA support.\n",
            "  warnings.warn(smsg, UserWarning)\n",
            "/usr/local/lib/python3.11/dist-packages/xgboost/core.py:158: UserWarning: [10:41:49] WARNING: /workspace/src/context.cc:43: No visible GPU is found, setting device to CPU.\n",
            "  warnings.warn(smsg, UserWarning)\n",
            "/usr/local/lib/python3.11/dist-packages/xgboost/core.py:158: UserWarning: [10:41:49] WARNING: /workspace/src/context.cc:196: XGBoost is not compiled with CUDA support.\n",
            "  warnings.warn(smsg, UserWarning)\n",
            "/usr/local/lib/python3.11/dist-packages/xgboost/core.py:158: UserWarning: [10:42:00] WARNING: /workspace/src/context.cc:43: No visible GPU is found, setting device to CPU.\n",
            "  warnings.warn(smsg, UserWarning)\n",
            "/usr/local/lib/python3.11/dist-packages/xgboost/core.py:158: UserWarning: [10:42:00] WARNING: /workspace/src/context.cc:196: XGBoost is not compiled with CUDA support.\n",
            "  warnings.warn(smsg, UserWarning)\n"
          ]
        },
        {
          "output_type": "stream",
          "name": "stdout",
          "text": [
            "[I 2025-02-04 10:42:10,776] Trial 104 finished with value: 0.5747247073371813 and parameters: {'model': 'xgboost', 'class_weight_option': 'balanced', 'learning_rate': 0.014741783760569536, 'n_estimators': 771, 'max_depth': 9, 'subsample': 0.7796629863065638, 'colsample_bytree': 0.6562150158478222, 'gamma': 0.19378845385277071, 'reg_alpha': 0.9011602674740339, 'reg_lambda': 0.5572700753996327}. Best is trial 78 with value: 0.5829911374441233.\n"
          ]
        },
        {
          "output_type": "stream",
          "name": "stderr",
          "text": [
            "/usr/local/lib/python3.11/dist-packages/xgboost/core.py:158: UserWarning: [10:42:11] WARNING: /workspace/src/context.cc:43: No visible GPU is found, setting device to CPU.\n",
            "  warnings.warn(smsg, UserWarning)\n",
            "/usr/local/lib/python3.11/dist-packages/xgboost/core.py:158: UserWarning: [10:42:11] WARNING: /workspace/src/context.cc:196: XGBoost is not compiled with CUDA support.\n",
            "  warnings.warn(smsg, UserWarning)\n",
            "/usr/local/lib/python3.11/dist-packages/xgboost/core.py:158: UserWarning: [10:42:21] WARNING: /workspace/src/context.cc:43: No visible GPU is found, setting device to CPU.\n",
            "  warnings.warn(smsg, UserWarning)\n",
            "/usr/local/lib/python3.11/dist-packages/xgboost/core.py:158: UserWarning: [10:42:21] WARNING: /workspace/src/context.cc:196: XGBoost is not compiled with CUDA support.\n",
            "  warnings.warn(smsg, UserWarning)\n",
            "/usr/local/lib/python3.11/dist-packages/xgboost/core.py:158: UserWarning: [10:42:29] WARNING: /workspace/src/context.cc:43: No visible GPU is found, setting device to CPU.\n",
            "  warnings.warn(smsg, UserWarning)\n",
            "/usr/local/lib/python3.11/dist-packages/xgboost/core.py:158: UserWarning: [10:42:29] WARNING: /workspace/src/context.cc:196: XGBoost is not compiled with CUDA support.\n",
            "  warnings.warn(smsg, UserWarning)\n",
            "/usr/local/lib/python3.11/dist-packages/xgboost/core.py:158: UserWarning: [10:42:39] WARNING: /workspace/src/context.cc:43: No visible GPU is found, setting device to CPU.\n",
            "  warnings.warn(smsg, UserWarning)\n",
            "/usr/local/lib/python3.11/dist-packages/xgboost/core.py:158: UserWarning: [10:42:39] WARNING: /workspace/src/context.cc:196: XGBoost is not compiled with CUDA support.\n",
            "  warnings.warn(smsg, UserWarning)\n",
            "/usr/local/lib/python3.11/dist-packages/xgboost/core.py:158: UserWarning: [10:42:50] WARNING: /workspace/src/context.cc:43: No visible GPU is found, setting device to CPU.\n",
            "  warnings.warn(smsg, UserWarning)\n",
            "/usr/local/lib/python3.11/dist-packages/xgboost/core.py:158: UserWarning: [10:42:50] WARNING: /workspace/src/context.cc:196: XGBoost is not compiled with CUDA support.\n",
            "  warnings.warn(smsg, UserWarning)\n"
          ]
        },
        {
          "output_type": "stream",
          "name": "stdout",
          "text": [
            "[I 2025-02-04 10:43:00,739] Trial 105 finished with value: 0.5877419921830664 and parameters: {'model': 'xgboost', 'class_weight_option': 'balanced', 'learning_rate': 0.018218161604089584, 'n_estimators': 678, 'max_depth': 9, 'subsample': 0.764747346975824, 'colsample_bytree': 0.6322156881785893, 'gamma': 0.057912314388748096, 'reg_alpha': 0.8519955925221574, 'reg_lambda': 0.3753995637658127}. Best is trial 105 with value: 0.5877419921830664.\n"
          ]
        },
        {
          "output_type": "stream",
          "name": "stderr",
          "text": [
            "/usr/local/lib/python3.11/dist-packages/xgboost/core.py:158: UserWarning: [10:43:01] WARNING: /workspace/src/context.cc:43: No visible GPU is found, setting device to CPU.\n",
            "  warnings.warn(smsg, UserWarning)\n",
            "/usr/local/lib/python3.11/dist-packages/xgboost/core.py:158: UserWarning: [10:43:01] WARNING: /workspace/src/context.cc:196: XGBoost is not compiled with CUDA support.\n",
            "  warnings.warn(smsg, UserWarning)\n",
            "/usr/local/lib/python3.11/dist-packages/xgboost/core.py:158: UserWarning: [10:43:11] WARNING: /workspace/src/context.cc:43: No visible GPU is found, setting device to CPU.\n",
            "  warnings.warn(smsg, UserWarning)\n",
            "/usr/local/lib/python3.11/dist-packages/xgboost/core.py:158: UserWarning: [10:43:11] WARNING: /workspace/src/context.cc:196: XGBoost is not compiled with CUDA support.\n",
            "  warnings.warn(smsg, UserWarning)\n",
            "/usr/local/lib/python3.11/dist-packages/xgboost/core.py:158: UserWarning: [10:43:17] WARNING: /workspace/src/context.cc:43: No visible GPU is found, setting device to CPU.\n",
            "  warnings.warn(smsg, UserWarning)\n",
            "/usr/local/lib/python3.11/dist-packages/xgboost/core.py:158: UserWarning: [10:43:17] WARNING: /workspace/src/context.cc:196: XGBoost is not compiled with CUDA support.\n",
            "  warnings.warn(smsg, UserWarning)\n",
            "/usr/local/lib/python3.11/dist-packages/xgboost/core.py:158: UserWarning: [10:43:26] WARNING: /workspace/src/context.cc:43: No visible GPU is found, setting device to CPU.\n",
            "  warnings.warn(smsg, UserWarning)\n",
            "/usr/local/lib/python3.11/dist-packages/xgboost/core.py:158: UserWarning: [10:43:26] WARNING: /workspace/src/context.cc:196: XGBoost is not compiled with CUDA support.\n",
            "  warnings.warn(smsg, UserWarning)\n",
            "/usr/local/lib/python3.11/dist-packages/xgboost/core.py:158: UserWarning: [10:43:33] WARNING: /workspace/src/context.cc:43: No visible GPU is found, setting device to CPU.\n",
            "  warnings.warn(smsg, UserWarning)\n",
            "/usr/local/lib/python3.11/dist-packages/xgboost/core.py:158: UserWarning: [10:43:33] WARNING: /workspace/src/context.cc:196: XGBoost is not compiled with CUDA support.\n",
            "  warnings.warn(smsg, UserWarning)\n"
          ]
        },
        {
          "output_type": "stream",
          "name": "stdout",
          "text": [
            "[I 2025-02-04 10:43:42,545] Trial 106 finished with value: 0.5774252215553897 and parameters: {'model': 'xgboost', 'class_weight_option': 'balanced', 'learning_rate': 0.025524747003140766, 'n_estimators': 797, 'max_depth': 10, 'subsample': 0.7438529394892616, 'colsample_bytree': 0.6330184537712851, 'gamma': 0.06919561913461247, 'reg_alpha': 0.8555051034633242, 'reg_lambda': 0.3683755473135496}. Best is trial 105 with value: 0.5877419921830664.\n"
          ]
        },
        {
          "output_type": "stream",
          "name": "stderr",
          "text": [
            "/usr/local/lib/python3.11/dist-packages/xgboost/core.py:158: UserWarning: [10:43:42] WARNING: /workspace/src/context.cc:43: No visible GPU is found, setting device to CPU.\n",
            "  warnings.warn(smsg, UserWarning)\n",
            "/usr/local/lib/python3.11/dist-packages/xgboost/core.py:158: UserWarning: [10:43:42] WARNING: /workspace/src/context.cc:196: XGBoost is not compiled with CUDA support.\n",
            "  warnings.warn(smsg, UserWarning)\n",
            "/usr/local/lib/python3.11/dist-packages/xgboost/core.py:158: UserWarning: [10:43:53] WARNING: /workspace/src/context.cc:43: No visible GPU is found, setting device to CPU.\n",
            "  warnings.warn(smsg, UserWarning)\n",
            "/usr/local/lib/python3.11/dist-packages/xgboost/core.py:158: UserWarning: [10:43:53] WARNING: /workspace/src/context.cc:196: XGBoost is not compiled with CUDA support.\n",
            "  warnings.warn(smsg, UserWarning)\n",
            "/usr/local/lib/python3.11/dist-packages/xgboost/core.py:158: UserWarning: [10:44:04] WARNING: /workspace/src/context.cc:43: No visible GPU is found, setting device to CPU.\n",
            "  warnings.warn(smsg, UserWarning)\n",
            "/usr/local/lib/python3.11/dist-packages/xgboost/core.py:158: UserWarning: [10:44:04] WARNING: /workspace/src/context.cc:196: XGBoost is not compiled with CUDA support.\n",
            "  warnings.warn(smsg, UserWarning)\n",
            "/usr/local/lib/python3.11/dist-packages/xgboost/core.py:158: UserWarning: [10:44:12] WARNING: /workspace/src/context.cc:43: No visible GPU is found, setting device to CPU.\n",
            "  warnings.warn(smsg, UserWarning)\n",
            "/usr/local/lib/python3.11/dist-packages/xgboost/core.py:158: UserWarning: [10:44:12] WARNING: /workspace/src/context.cc:196: XGBoost is not compiled with CUDA support.\n",
            "  warnings.warn(smsg, UserWarning)\n",
            "/usr/local/lib/python3.11/dist-packages/xgboost/core.py:158: UserWarning: [10:44:22] WARNING: /workspace/src/context.cc:43: No visible GPU is found, setting device to CPU.\n",
            "  warnings.warn(smsg, UserWarning)\n",
            "/usr/local/lib/python3.11/dist-packages/xgboost/core.py:158: UserWarning: [10:44:22] WARNING: /workspace/src/context.cc:196: XGBoost is not compiled with CUDA support.\n",
            "  warnings.warn(smsg, UserWarning)\n"
          ]
        },
        {
          "output_type": "stream",
          "name": "stdout",
          "text": [
            "[I 2025-02-04 10:44:33,698] Trial 107 finished with value: 0.5795746749210868 and parameters: {'model': 'xgboost', 'class_weight_option': 'balanced', 'learning_rate': 0.019096202958470962, 'n_estimators': 789, 'max_depth': 10, 'subsample': 0.7421052646327962, 'colsample_bytree': 0.6369987026146078, 'gamma': 0.09016178317622237, 'reg_alpha': 0.8503483287217299, 'reg_lambda': 0.37576419021412766}. Best is trial 105 with value: 0.5877419921830664.\n"
          ]
        },
        {
          "output_type": "stream",
          "name": "stderr",
          "text": [
            "/usr/local/lib/python3.11/dist-packages/xgboost/core.py:158: UserWarning: [10:44:33] WARNING: /workspace/src/context.cc:43: No visible GPU is found, setting device to CPU.\n",
            "  warnings.warn(smsg, UserWarning)\n",
            "/usr/local/lib/python3.11/dist-packages/xgboost/core.py:158: UserWarning: [10:44:33] WARNING: /workspace/src/context.cc:196: XGBoost is not compiled with CUDA support.\n",
            "  warnings.warn(smsg, UserWarning)\n",
            "/usr/local/lib/python3.11/dist-packages/xgboost/core.py:158: UserWarning: [10:44:37] WARNING: /workspace/src/context.cc:43: No visible GPU is found, setting device to CPU.\n",
            "  warnings.warn(smsg, UserWarning)\n",
            "/usr/local/lib/python3.11/dist-packages/xgboost/core.py:158: UserWarning: [10:44:37] WARNING: /workspace/src/context.cc:196: XGBoost is not compiled with CUDA support.\n",
            "  warnings.warn(smsg, UserWarning)\n",
            "/usr/local/lib/python3.11/dist-packages/xgboost/core.py:158: UserWarning: [10:44:43] WARNING: /workspace/src/context.cc:43: No visible GPU is found, setting device to CPU.\n",
            "  warnings.warn(smsg, UserWarning)\n",
            "/usr/local/lib/python3.11/dist-packages/xgboost/core.py:158: UserWarning: [10:44:43] WARNING: /workspace/src/context.cc:196: XGBoost is not compiled with CUDA support.\n",
            "  warnings.warn(smsg, UserWarning)\n",
            "/usr/local/lib/python3.11/dist-packages/xgboost/core.py:158: UserWarning: [10:44:47] WARNING: /workspace/src/context.cc:43: No visible GPU is found, setting device to CPU.\n",
            "  warnings.warn(smsg, UserWarning)\n",
            "/usr/local/lib/python3.11/dist-packages/xgboost/core.py:158: UserWarning: [10:44:47] WARNING: /workspace/src/context.cc:196: XGBoost is not compiled with CUDA support.\n",
            "  warnings.warn(smsg, UserWarning)\n",
            "/usr/local/lib/python3.11/dist-packages/xgboost/core.py:158: UserWarning: [10:44:53] WARNING: /workspace/src/context.cc:43: No visible GPU is found, setting device to CPU.\n",
            "  warnings.warn(smsg, UserWarning)\n",
            "/usr/local/lib/python3.11/dist-packages/xgboost/core.py:158: UserWarning: [10:44:53] WARNING: /workspace/src/context.cc:196: XGBoost is not compiled with CUDA support.\n",
            "  warnings.warn(smsg, UserWarning)\n"
          ]
        },
        {
          "output_type": "stream",
          "name": "stdout",
          "text": [
            "[I 2025-02-04 10:44:57,502] Trial 108 finished with value: 0.5508399600183568 and parameters: {'model': 'xgboost', 'class_weight_option': 'balanced', 'learning_rate': 0.019035610806787347, 'n_estimators': 718, 'max_depth': 10, 'subsample': 0.711160940460099, 'colsample_bytree': 0.6096650583514164, 'gamma': 0.8965710690991019, 'reg_alpha': 0.8044429995984544, 'reg_lambda': 0.3887128000942623}. Best is trial 105 with value: 0.5877419921830664.\n",
            "[I 2025-02-04 10:45:41,149] Trial 109 finished with value: 0.36677445819203097 and parameters: {'model': 'random_forest', 'class_weight_option': 'balanced', 'n_estimators': 2199, 'max_depth': 4, 'min_samples_split': 8, 'min_samples_leaf': 1, 'max_features': 'log2'}. Best is trial 105 with value: 0.5877419921830664.\n"
          ]
        },
        {
          "output_type": "stream",
          "name": "stderr",
          "text": [
            "/usr/local/lib/python3.11/dist-packages/xgboost/core.py:158: UserWarning: [10:45:41] WARNING: /workspace/src/context.cc:43: No visible GPU is found, setting device to CPU.\n",
            "  warnings.warn(smsg, UserWarning)\n",
            "/usr/local/lib/python3.11/dist-packages/xgboost/core.py:158: UserWarning: [10:45:41] WARNING: /workspace/src/context.cc:196: XGBoost is not compiled with CUDA support.\n",
            "  warnings.warn(smsg, UserWarning)\n",
            "/usr/local/lib/python3.11/dist-packages/xgboost/core.py:158: UserWarning: [10:45:53] WARNING: /workspace/src/context.cc:43: No visible GPU is found, setting device to CPU.\n",
            "  warnings.warn(smsg, UserWarning)\n",
            "/usr/local/lib/python3.11/dist-packages/xgboost/core.py:158: UserWarning: [10:45:53] WARNING: /workspace/src/context.cc:196: XGBoost is not compiled with CUDA support.\n",
            "  warnings.warn(smsg, UserWarning)\n",
            "/usr/local/lib/python3.11/dist-packages/xgboost/core.py:158: UserWarning: [10:46:05] WARNING: /workspace/src/context.cc:43: No visible GPU is found, setting device to CPU.\n",
            "  warnings.warn(smsg, UserWarning)\n",
            "/usr/local/lib/python3.11/dist-packages/xgboost/core.py:158: UserWarning: [10:46:05] WARNING: /workspace/src/context.cc:196: XGBoost is not compiled with CUDA support.\n",
            "  warnings.warn(smsg, UserWarning)\n",
            "/usr/local/lib/python3.11/dist-packages/xgboost/core.py:158: UserWarning: [10:46:17] WARNING: /workspace/src/context.cc:43: No visible GPU is found, setting device to CPU.\n",
            "  warnings.warn(smsg, UserWarning)\n",
            "/usr/local/lib/python3.11/dist-packages/xgboost/core.py:158: UserWarning: [10:46:17] WARNING: /workspace/src/context.cc:196: XGBoost is not compiled with CUDA support.\n",
            "  warnings.warn(smsg, UserWarning)\n",
            "/usr/local/lib/python3.11/dist-packages/xgboost/core.py:158: UserWarning: [10:46:29] WARNING: /workspace/src/context.cc:43: No visible GPU is found, setting device to CPU.\n",
            "  warnings.warn(smsg, UserWarning)\n",
            "/usr/local/lib/python3.11/dist-packages/xgboost/core.py:158: UserWarning: [10:46:29] WARNING: /workspace/src/context.cc:196: XGBoost is not compiled with CUDA support.\n",
            "  warnings.warn(smsg, UserWarning)\n"
          ]
        },
        {
          "output_type": "stream",
          "name": "stdout",
          "text": [
            "[I 2025-02-04 10:46:41,775] Trial 110 finished with value: 0.5866024580555834 and parameters: {'model': 'xgboost', 'class_weight_option': 'balanced', 'learning_rate': 0.01709879639724399, 'n_estimators': 874, 'max_depth': 8, 'subsample': 0.7629682285157773, 'colsample_bytree': 0.633739474288891, 'gamma': 0.0011130951442989145, 'reg_alpha': 0.8441895443509421, 'reg_lambda': 0.344567779424779}. Best is trial 105 with value: 0.5877419921830664.\n"
          ]
        },
        {
          "output_type": "stream",
          "name": "stderr",
          "text": [
            "/usr/local/lib/python3.11/dist-packages/xgboost/core.py:158: UserWarning: [10:46:42] WARNING: /workspace/src/context.cc:43: No visible GPU is found, setting device to CPU.\n",
            "  warnings.warn(smsg, UserWarning)\n",
            "/usr/local/lib/python3.11/dist-packages/xgboost/core.py:158: UserWarning: [10:46:42] WARNING: /workspace/src/context.cc:196: XGBoost is not compiled with CUDA support.\n",
            "  warnings.warn(smsg, UserWarning)\n",
            "/usr/local/lib/python3.11/dist-packages/xgboost/core.py:158: UserWarning: [10:46:54] WARNING: /workspace/src/context.cc:43: No visible GPU is found, setting device to CPU.\n",
            "  warnings.warn(smsg, UserWarning)\n",
            "/usr/local/lib/python3.11/dist-packages/xgboost/core.py:158: UserWarning: [10:46:54] WARNING: /workspace/src/context.cc:196: XGBoost is not compiled with CUDA support.\n",
            "  warnings.warn(smsg, UserWarning)\n",
            "/usr/local/lib/python3.11/dist-packages/xgboost/core.py:158: UserWarning: [10:47:06] WARNING: /workspace/src/context.cc:43: No visible GPU is found, setting device to CPU.\n",
            "  warnings.warn(smsg, UserWarning)\n",
            "/usr/local/lib/python3.11/dist-packages/xgboost/core.py:158: UserWarning: [10:47:06] WARNING: /workspace/src/context.cc:196: XGBoost is not compiled with CUDA support.\n",
            "  warnings.warn(smsg, UserWarning)\n",
            "/usr/local/lib/python3.11/dist-packages/xgboost/core.py:158: UserWarning: [10:47:17] WARNING: /workspace/src/context.cc:43: No visible GPU is found, setting device to CPU.\n",
            "  warnings.warn(smsg, UserWarning)\n",
            "/usr/local/lib/python3.11/dist-packages/xgboost/core.py:158: UserWarning: [10:47:17] WARNING: /workspace/src/context.cc:196: XGBoost is not compiled with CUDA support.\n",
            "  warnings.warn(smsg, UserWarning)\n",
            "/usr/local/lib/python3.11/dist-packages/xgboost/core.py:158: UserWarning: [10:47:30] WARNING: /workspace/src/context.cc:43: No visible GPU is found, setting device to CPU.\n",
            "  warnings.warn(smsg, UserWarning)\n",
            "/usr/local/lib/python3.11/dist-packages/xgboost/core.py:158: UserWarning: [10:47:30] WARNING: /workspace/src/context.cc:196: XGBoost is not compiled with CUDA support.\n",
            "  warnings.warn(smsg, UserWarning)\n"
          ]
        },
        {
          "output_type": "stream",
          "name": "stdout",
          "text": [
            "[I 2025-02-04 10:47:42,271] Trial 111 finished with value: 0.5860150392829029 and parameters: {'model': 'xgboost', 'class_weight_option': 'balanced', 'learning_rate': 0.01669757878755479, 'n_estimators': 868, 'max_depth': 8, 'subsample': 0.7644195132947135, 'colsample_bytree': 0.6420354332539827, 'gamma': 0.0025201926394514684, 'reg_alpha': 0.7886672973087165, 'reg_lambda': 0.33028311167060004}. Best is trial 105 with value: 0.5877419921830664.\n"
          ]
        },
        {
          "output_type": "stream",
          "name": "stderr",
          "text": [
            "/usr/local/lib/python3.11/dist-packages/xgboost/core.py:158: UserWarning: [10:47:42] WARNING: /workspace/src/context.cc:43: No visible GPU is found, setting device to CPU.\n",
            "  warnings.warn(smsg, UserWarning)\n",
            "/usr/local/lib/python3.11/dist-packages/xgboost/core.py:158: UserWarning: [10:47:42] WARNING: /workspace/src/context.cc:196: XGBoost is not compiled with CUDA support.\n",
            "  warnings.warn(smsg, UserWarning)\n",
            "/usr/local/lib/python3.11/dist-packages/xgboost/core.py:158: UserWarning: [10:47:54] WARNING: /workspace/src/context.cc:43: No visible GPU is found, setting device to CPU.\n",
            "  warnings.warn(smsg, UserWarning)\n",
            "/usr/local/lib/python3.11/dist-packages/xgboost/core.py:158: UserWarning: [10:47:54] WARNING: /workspace/src/context.cc:196: XGBoost is not compiled with CUDA support.\n",
            "  warnings.warn(smsg, UserWarning)\n",
            "/usr/local/lib/python3.11/dist-packages/xgboost/core.py:158: UserWarning: [10:48:07] WARNING: /workspace/src/context.cc:43: No visible GPU is found, setting device to CPU.\n",
            "  warnings.warn(smsg, UserWarning)\n",
            "/usr/local/lib/python3.11/dist-packages/xgboost/core.py:158: UserWarning: [10:48:07] WARNING: /workspace/src/context.cc:196: XGBoost is not compiled with CUDA support.\n",
            "  warnings.warn(smsg, UserWarning)\n",
            "/usr/local/lib/python3.11/dist-packages/xgboost/core.py:158: UserWarning: [10:48:16] WARNING: /workspace/src/context.cc:43: No visible GPU is found, setting device to CPU.\n",
            "  warnings.warn(smsg, UserWarning)\n",
            "/usr/local/lib/python3.11/dist-packages/xgboost/core.py:158: UserWarning: [10:48:16] WARNING: /workspace/src/context.cc:196: XGBoost is not compiled with CUDA support.\n",
            "  warnings.warn(smsg, UserWarning)\n",
            "/usr/local/lib/python3.11/dist-packages/xgboost/core.py:158: UserWarning: [10:48:28] WARNING: /workspace/src/context.cc:43: No visible GPU is found, setting device to CPU.\n",
            "  warnings.warn(smsg, UserWarning)\n",
            "/usr/local/lib/python3.11/dist-packages/xgboost/core.py:158: UserWarning: [10:48:28] WARNING: /workspace/src/context.cc:196: XGBoost is not compiled with CUDA support.\n",
            "  warnings.warn(smsg, UserWarning)\n"
          ]
        },
        {
          "output_type": "stream",
          "name": "stdout",
          "text": [
            "[I 2025-02-04 10:48:40,798] Trial 112 finished with value: 0.5879858233941251 and parameters: {'model': 'xgboost', 'class_weight_option': 'balanced', 'learning_rate': 0.01691274003943501, 'n_estimators': 874, 'max_depth': 8, 'subsample': 0.7651435331797574, 'colsample_bytree': 0.6410548550487684, 'gamma': 0.000682088556547545, 'reg_alpha': 0.847747185838916, 'reg_lambda': 0.34291564675840636}. Best is trial 112 with value: 0.5879858233941251.\n"
          ]
        },
        {
          "output_type": "stream",
          "name": "stderr",
          "text": [
            "/usr/local/lib/python3.11/dist-packages/xgboost/core.py:158: UserWarning: [10:48:41] WARNING: /workspace/src/context.cc:43: No visible GPU is found, setting device to CPU.\n",
            "  warnings.warn(smsg, UserWarning)\n",
            "/usr/local/lib/python3.11/dist-packages/xgboost/core.py:158: UserWarning: [10:48:41] WARNING: /workspace/src/context.cc:196: XGBoost is not compiled with CUDA support.\n",
            "  warnings.warn(smsg, UserWarning)\n",
            "/usr/local/lib/python3.11/dist-packages/xgboost/core.py:158: UserWarning: [10:48:54] WARNING: /workspace/src/context.cc:43: No visible GPU is found, setting device to CPU.\n",
            "  warnings.warn(smsg, UserWarning)\n",
            "/usr/local/lib/python3.11/dist-packages/xgboost/core.py:158: UserWarning: [10:48:54] WARNING: /workspace/src/context.cc:196: XGBoost is not compiled with CUDA support.\n",
            "  warnings.warn(smsg, UserWarning)\n",
            "/usr/local/lib/python3.11/dist-packages/xgboost/core.py:158: UserWarning: [10:49:07] WARNING: /workspace/src/context.cc:43: No visible GPU is found, setting device to CPU.\n",
            "  warnings.warn(smsg, UserWarning)\n",
            "/usr/local/lib/python3.11/dist-packages/xgboost/core.py:158: UserWarning: [10:49:07] WARNING: /workspace/src/context.cc:196: XGBoost is not compiled with CUDA support.\n",
            "  warnings.warn(smsg, UserWarning)\n",
            "/usr/local/lib/python3.11/dist-packages/xgboost/core.py:158: UserWarning: [10:49:18] WARNING: /workspace/src/context.cc:43: No visible GPU is found, setting device to CPU.\n",
            "  warnings.warn(smsg, UserWarning)\n",
            "/usr/local/lib/python3.11/dist-packages/xgboost/core.py:158: UserWarning: [10:49:18] WARNING: /workspace/src/context.cc:196: XGBoost is not compiled with CUDA support.\n",
            "  warnings.warn(smsg, UserWarning)\n",
            "/usr/local/lib/python3.11/dist-packages/xgboost/core.py:158: UserWarning: [10:49:31] WARNING: /workspace/src/context.cc:43: No visible GPU is found, setting device to CPU.\n",
            "  warnings.warn(smsg, UserWarning)\n",
            "/usr/local/lib/python3.11/dist-packages/xgboost/core.py:158: UserWarning: [10:49:31] WARNING: /workspace/src/context.cc:196: XGBoost is not compiled with CUDA support.\n",
            "  warnings.warn(smsg, UserWarning)\n"
          ]
        },
        {
          "output_type": "stream",
          "name": "stdout",
          "text": [
            "[I 2025-02-04 10:49:43,716] Trial 113 finished with value: 0.5816421991209303 and parameters: {'model': 'xgboost', 'class_weight_option': 'balanced', 'learning_rate': 0.016476839013729788, 'n_estimators': 924, 'max_depth': 8, 'subsample': 0.7567231300980882, 'colsample_bytree': 0.6415454742601435, 'gamma': 0.01420092334880374, 'reg_alpha': 0.8535862727090411, 'reg_lambda': 0.3512645748211171}. Best is trial 112 with value: 0.5879858233941251.\n"
          ]
        },
        {
          "output_type": "stream",
          "name": "stderr",
          "text": [
            "/usr/local/lib/python3.11/dist-packages/xgboost/core.py:158: UserWarning: [10:49:44] WARNING: /workspace/src/context.cc:43: No visible GPU is found, setting device to CPU.\n",
            "  warnings.warn(smsg, UserWarning)\n",
            "/usr/local/lib/python3.11/dist-packages/xgboost/core.py:158: UserWarning: [10:49:44] WARNING: /workspace/src/context.cc:196: XGBoost is not compiled with CUDA support.\n",
            "  warnings.warn(smsg, UserWarning)\n",
            "/usr/local/lib/python3.11/dist-packages/xgboost/core.py:158: UserWarning: [10:49:56] WARNING: /workspace/src/context.cc:43: No visible GPU is found, setting device to CPU.\n",
            "  warnings.warn(smsg, UserWarning)\n",
            "/usr/local/lib/python3.11/dist-packages/xgboost/core.py:158: UserWarning: [10:49:56] WARNING: /workspace/src/context.cc:196: XGBoost is not compiled with CUDA support.\n",
            "  warnings.warn(smsg, UserWarning)\n",
            "/usr/local/lib/python3.11/dist-packages/xgboost/core.py:158: UserWarning: [10:50:08] WARNING: /workspace/src/context.cc:43: No visible GPU is found, setting device to CPU.\n",
            "  warnings.warn(smsg, UserWarning)\n",
            "/usr/local/lib/python3.11/dist-packages/xgboost/core.py:158: UserWarning: [10:50:08] WARNING: /workspace/src/context.cc:196: XGBoost is not compiled with CUDA support.\n",
            "  warnings.warn(smsg, UserWarning)\n",
            "/usr/local/lib/python3.11/dist-packages/xgboost/core.py:158: UserWarning: [10:50:19] WARNING: /workspace/src/context.cc:43: No visible GPU is found, setting device to CPU.\n",
            "  warnings.warn(smsg, UserWarning)\n",
            "/usr/local/lib/python3.11/dist-packages/xgboost/core.py:158: UserWarning: [10:50:19] WARNING: /workspace/src/context.cc:196: XGBoost is not compiled with CUDA support.\n",
            "  warnings.warn(smsg, UserWarning)\n",
            "/usr/local/lib/python3.11/dist-packages/xgboost/core.py:158: UserWarning: [10:50:32] WARNING: /workspace/src/context.cc:43: No visible GPU is found, setting device to CPU.\n",
            "  warnings.warn(smsg, UserWarning)\n",
            "/usr/local/lib/python3.11/dist-packages/xgboost/core.py:158: UserWarning: [10:50:32] WARNING: /workspace/src/context.cc:196: XGBoost is not compiled with CUDA support.\n",
            "  warnings.warn(smsg, UserWarning)\n"
          ]
        },
        {
          "output_type": "stream",
          "name": "stdout",
          "text": [
            "[I 2025-02-04 10:50:44,264] Trial 114 finished with value: 0.5843943730434118 and parameters: {'model': 'xgboost', 'class_weight_option': 'balanced', 'learning_rate': 0.017206916683294996, 'n_estimators': 877, 'max_depth': 8, 'subsample': 0.7629046629346763, 'colsample_bytree': 0.6414211375436872, 'gamma': 0.005316043185934871, 'reg_alpha': 0.854826870703183, 'reg_lambda': 0.3426593152890945}. Best is trial 112 with value: 0.5879858233941251.\n"
          ]
        },
        {
          "output_type": "stream",
          "name": "stderr",
          "text": [
            "/usr/local/lib/python3.11/dist-packages/xgboost/core.py:158: UserWarning: [10:50:44] WARNING: /workspace/src/context.cc:43: No visible GPU is found, setting device to CPU.\n",
            "  warnings.warn(smsg, UserWarning)\n",
            "/usr/local/lib/python3.11/dist-packages/xgboost/core.py:158: UserWarning: [10:50:44] WARNING: /workspace/src/context.cc:196: XGBoost is not compiled with CUDA support.\n",
            "  warnings.warn(smsg, UserWarning)\n",
            "/usr/local/lib/python3.11/dist-packages/xgboost/core.py:158: UserWarning: [10:50:57] WARNING: /workspace/src/context.cc:43: No visible GPU is found, setting device to CPU.\n",
            "  warnings.warn(smsg, UserWarning)\n",
            "/usr/local/lib/python3.11/dist-packages/xgboost/core.py:158: UserWarning: [10:50:57] WARNING: /workspace/src/context.cc:196: XGBoost is not compiled with CUDA support.\n",
            "  warnings.warn(smsg, UserWarning)\n",
            "/usr/local/lib/python3.11/dist-packages/xgboost/core.py:158: UserWarning: [10:51:10] WARNING: /workspace/src/context.cc:43: No visible GPU is found, setting device to CPU.\n",
            "  warnings.warn(smsg, UserWarning)\n",
            "/usr/local/lib/python3.11/dist-packages/xgboost/core.py:158: UserWarning: [10:51:10] WARNING: /workspace/src/context.cc:196: XGBoost is not compiled with CUDA support.\n",
            "  warnings.warn(smsg, UserWarning)\n",
            "/usr/local/lib/python3.11/dist-packages/xgboost/core.py:158: UserWarning: [10:51:21] WARNING: /workspace/src/context.cc:43: No visible GPU is found, setting device to CPU.\n",
            "  warnings.warn(smsg, UserWarning)\n",
            "/usr/local/lib/python3.11/dist-packages/xgboost/core.py:158: UserWarning: [10:51:21] WARNING: /workspace/src/context.cc:196: XGBoost is not compiled with CUDA support.\n",
            "  warnings.warn(smsg, UserWarning)\n",
            "/usr/local/lib/python3.11/dist-packages/xgboost/core.py:158: UserWarning: [10:51:34] WARNING: /workspace/src/context.cc:43: No visible GPU is found, setting device to CPU.\n",
            "  warnings.warn(smsg, UserWarning)\n",
            "/usr/local/lib/python3.11/dist-packages/xgboost/core.py:158: UserWarning: [10:51:34] WARNING: /workspace/src/context.cc:196: XGBoost is not compiled with CUDA support.\n",
            "  warnings.warn(smsg, UserWarning)\n"
          ]
        },
        {
          "output_type": "stream",
          "name": "stdout",
          "text": [
            "[I 2025-02-04 10:51:47,718] Trial 115 finished with value: 0.5851351036665233 and parameters: {'model': 'xgboost', 'class_weight_option': 'balanced', 'learning_rate': 0.016890961393768937, 'n_estimators': 880, 'max_depth': 8, 'subsample': 0.7626038717395243, 'colsample_bytree': 0.6442279694551549, 'gamma': 0.004716163044406542, 'reg_alpha': 0.8552562909996939, 'reg_lambda': 0.3408894731106403}. Best is trial 112 with value: 0.5879858233941251.\n"
          ]
        },
        {
          "output_type": "stream",
          "name": "stderr",
          "text": [
            "/usr/local/lib/python3.11/dist-packages/xgboost/core.py:158: UserWarning: [10:51:47] WARNING: /workspace/src/context.cc:43: No visible GPU is found, setting device to CPU.\n",
            "  warnings.warn(smsg, UserWarning)\n",
            "/usr/local/lib/python3.11/dist-packages/xgboost/core.py:158: UserWarning: [10:51:47] WARNING: /workspace/src/context.cc:196: XGBoost is not compiled with CUDA support.\n",
            "  warnings.warn(smsg, UserWarning)\n",
            "/usr/local/lib/python3.11/dist-packages/xgboost/core.py:158: UserWarning: [10:52:00] WARNING: /workspace/src/context.cc:43: No visible GPU is found, setting device to CPU.\n",
            "  warnings.warn(smsg, UserWarning)\n",
            "/usr/local/lib/python3.11/dist-packages/xgboost/core.py:158: UserWarning: [10:52:00] WARNING: /workspace/src/context.cc:196: XGBoost is not compiled with CUDA support.\n",
            "  warnings.warn(smsg, UserWarning)\n",
            "/usr/local/lib/python3.11/dist-packages/xgboost/core.py:158: UserWarning: [10:52:13] WARNING: /workspace/src/context.cc:43: No visible GPU is found, setting device to CPU.\n",
            "  warnings.warn(smsg, UserWarning)\n",
            "/usr/local/lib/python3.11/dist-packages/xgboost/core.py:158: UserWarning: [10:52:13] WARNING: /workspace/src/context.cc:196: XGBoost is not compiled with CUDA support.\n",
            "  warnings.warn(smsg, UserWarning)\n",
            "/usr/local/lib/python3.11/dist-packages/xgboost/core.py:158: UserWarning: [10:52:24] WARNING: /workspace/src/context.cc:43: No visible GPU is found, setting device to CPU.\n",
            "  warnings.warn(smsg, UserWarning)\n",
            "/usr/local/lib/python3.11/dist-packages/xgboost/core.py:158: UserWarning: [10:52:24] WARNING: /workspace/src/context.cc:196: XGBoost is not compiled with CUDA support.\n",
            "  warnings.warn(smsg, UserWarning)\n",
            "/usr/local/lib/python3.11/dist-packages/xgboost/core.py:158: UserWarning: [10:52:37] WARNING: /workspace/src/context.cc:43: No visible GPU is found, setting device to CPU.\n",
            "  warnings.warn(smsg, UserWarning)\n",
            "/usr/local/lib/python3.11/dist-packages/xgboost/core.py:158: UserWarning: [10:52:37] WARNING: /workspace/src/context.cc:196: XGBoost is not compiled with CUDA support.\n",
            "  warnings.warn(smsg, UserWarning)\n"
          ]
        },
        {
          "output_type": "stream",
          "name": "stdout",
          "text": [
            "[I 2025-02-04 10:52:50,146] Trial 116 finished with value: 0.5845054643553287 and parameters: {'model': 'xgboost', 'class_weight_option': 'balanced', 'learning_rate': 0.017065740730922437, 'n_estimators': 927, 'max_depth': 8, 'subsample': 0.7626423914998381, 'colsample_bytree': 0.6409870003791637, 'gamma': 0.001269694837809436, 'reg_alpha': 0.9781457782888524, 'reg_lambda': 0.34226254273172063}. Best is trial 112 with value: 0.5879858233941251.\n"
          ]
        },
        {
          "output_type": "stream",
          "name": "stderr",
          "text": [
            "/usr/local/lib/python3.11/dist-packages/xgboost/core.py:158: UserWarning: [10:52:50] WARNING: /workspace/src/context.cc:43: No visible GPU is found, setting device to CPU.\n",
            "  warnings.warn(smsg, UserWarning)\n",
            "/usr/local/lib/python3.11/dist-packages/xgboost/core.py:158: UserWarning: [10:52:50] WARNING: /workspace/src/context.cc:196: XGBoost is not compiled with CUDA support.\n",
            "  warnings.warn(smsg, UserWarning)\n",
            "/usr/local/lib/python3.11/dist-packages/xgboost/core.py:158: UserWarning: [10:53:03] WARNING: /workspace/src/context.cc:43: No visible GPU is found, setting device to CPU.\n",
            "  warnings.warn(smsg, UserWarning)\n",
            "/usr/local/lib/python3.11/dist-packages/xgboost/core.py:158: UserWarning: [10:53:03] WARNING: /workspace/src/context.cc:196: XGBoost is not compiled with CUDA support.\n",
            "  warnings.warn(smsg, UserWarning)\n",
            "/usr/local/lib/python3.11/dist-packages/xgboost/core.py:158: UserWarning: [10:53:16] WARNING: /workspace/src/context.cc:43: No visible GPU is found, setting device to CPU.\n",
            "  warnings.warn(smsg, UserWarning)\n",
            "/usr/local/lib/python3.11/dist-packages/xgboost/core.py:158: UserWarning: [10:53:16] WARNING: /workspace/src/context.cc:196: XGBoost is not compiled with CUDA support.\n",
            "  warnings.warn(smsg, UserWarning)\n",
            "/usr/local/lib/python3.11/dist-packages/xgboost/core.py:158: UserWarning: [10:53:28] WARNING: /workspace/src/context.cc:43: No visible GPU is found, setting device to CPU.\n",
            "  warnings.warn(smsg, UserWarning)\n",
            "/usr/local/lib/python3.11/dist-packages/xgboost/core.py:158: UserWarning: [10:53:28] WARNING: /workspace/src/context.cc:196: XGBoost is not compiled with CUDA support.\n",
            "  warnings.warn(smsg, UserWarning)\n",
            "/usr/local/lib/python3.11/dist-packages/xgboost/core.py:158: UserWarning: [10:53:41] WARNING: /workspace/src/context.cc:43: No visible GPU is found, setting device to CPU.\n",
            "  warnings.warn(smsg, UserWarning)\n",
            "/usr/local/lib/python3.11/dist-packages/xgboost/core.py:158: UserWarning: [10:53:41] WARNING: /workspace/src/context.cc:196: XGBoost is not compiled with CUDA support.\n",
            "  warnings.warn(smsg, UserWarning)\n"
          ]
        },
        {
          "output_type": "stream",
          "name": "stdout",
          "text": [
            "[I 2025-02-04 10:53:54,910] Trial 117 finished with value: 0.5842279980403492 and parameters: {'model': 'xgboost', 'class_weight_option': 'balanced', 'learning_rate': 0.016958938226562553, 'n_estimators': 935, 'max_depth': 8, 'subsample': 0.7599527256456517, 'colsample_bytree': 0.6438263144787788, 'gamma': 0.00531267994488577, 'reg_alpha': 0.9772417468767104, 'reg_lambda': 0.35032293446381535}. Best is trial 112 with value: 0.5879858233941251.\n"
          ]
        },
        {
          "output_type": "stream",
          "name": "stderr",
          "text": [
            "/usr/local/lib/python3.11/dist-packages/xgboost/core.py:158: UserWarning: [10:53:55] WARNING: /workspace/src/context.cc:43: No visible GPU is found, setting device to CPU.\n",
            "  warnings.warn(smsg, UserWarning)\n",
            "/usr/local/lib/python3.11/dist-packages/xgboost/core.py:158: UserWarning: [10:53:55] WARNING: /workspace/src/context.cc:196: XGBoost is not compiled with CUDA support.\n",
            "  warnings.warn(smsg, UserWarning)\n",
            "/usr/local/lib/python3.11/dist-packages/xgboost/core.py:158: UserWarning: [10:54:07] WARNING: /workspace/src/context.cc:43: No visible GPU is found, setting device to CPU.\n",
            "  warnings.warn(smsg, UserWarning)\n",
            "/usr/local/lib/python3.11/dist-packages/xgboost/core.py:158: UserWarning: [10:54:07] WARNING: /workspace/src/context.cc:196: XGBoost is not compiled with CUDA support.\n",
            "  warnings.warn(smsg, UserWarning)\n",
            "/usr/local/lib/python3.11/dist-packages/xgboost/core.py:158: UserWarning: [10:54:17] WARNING: /workspace/src/context.cc:43: No visible GPU is found, setting device to CPU.\n",
            "  warnings.warn(smsg, UserWarning)\n",
            "/usr/local/lib/python3.11/dist-packages/xgboost/core.py:158: UserWarning: [10:54:17] WARNING: /workspace/src/context.cc:196: XGBoost is not compiled with CUDA support.\n",
            "  warnings.warn(smsg, UserWarning)\n",
            "/usr/local/lib/python3.11/dist-packages/xgboost/core.py:158: UserWarning: [10:54:24] WARNING: /workspace/src/context.cc:43: No visible GPU is found, setting device to CPU.\n",
            "  warnings.warn(smsg, UserWarning)\n",
            "/usr/local/lib/python3.11/dist-packages/xgboost/core.py:158: UserWarning: [10:54:24] WARNING: /workspace/src/context.cc:196: XGBoost is not compiled with CUDA support.\n",
            "  warnings.warn(smsg, UserWarning)\n",
            "/usr/local/lib/python3.11/dist-packages/xgboost/core.py:158: UserWarning: [10:54:36] WARNING: /workspace/src/context.cc:43: No visible GPU is found, setting device to CPU.\n",
            "  warnings.warn(smsg, UserWarning)\n",
            "/usr/local/lib/python3.11/dist-packages/xgboost/core.py:158: UserWarning: [10:54:36] WARNING: /workspace/src/context.cc:196: XGBoost is not compiled with CUDA support.\n",
            "  warnings.warn(smsg, UserWarning)\n"
          ]
        },
        {
          "output_type": "stream",
          "name": "stdout",
          "text": [
            "[I 2025-02-04 10:54:48,369] Trial 118 finished with value: 0.5416715566401585 and parameters: {'model': 'xgboost', 'class_weight_option': None, 'learning_rate': 0.017068778025684798, 'n_estimators': 872, 'max_depth': 8, 'subsample': 0.7612667818892646, 'colsample_bytree': 0.646769547188292, 'gamma': 0.008760279917988046, 'reg_alpha': 0.9748277471716685, 'reg_lambda': 0.34363896461554655}. Best is trial 112 with value: 0.5879858233941251.\n"
          ]
        },
        {
          "output_type": "stream",
          "name": "stderr",
          "text": [
            "/usr/local/lib/python3.11/dist-packages/xgboost/core.py:158: UserWarning: [10:54:48] WARNING: /workspace/src/context.cc:43: No visible GPU is found, setting device to CPU.\n",
            "  warnings.warn(smsg, UserWarning)\n",
            "/usr/local/lib/python3.11/dist-packages/xgboost/core.py:158: UserWarning: [10:54:48] WARNING: /workspace/src/context.cc:196: XGBoost is not compiled with CUDA support.\n",
            "  warnings.warn(smsg, UserWarning)\n",
            "/usr/local/lib/python3.11/dist-packages/xgboost/core.py:158: UserWarning: [10:55:02] WARNING: /workspace/src/context.cc:43: No visible GPU is found, setting device to CPU.\n",
            "  warnings.warn(smsg, UserWarning)\n",
            "/usr/local/lib/python3.11/dist-packages/xgboost/core.py:158: UserWarning: [10:55:02] WARNING: /workspace/src/context.cc:196: XGBoost is not compiled with CUDA support.\n",
            "  warnings.warn(smsg, UserWarning)\n",
            "/usr/local/lib/python3.11/dist-packages/xgboost/core.py:158: UserWarning: [10:55:16] WARNING: /workspace/src/context.cc:43: No visible GPU is found, setting device to CPU.\n",
            "  warnings.warn(smsg, UserWarning)\n",
            "/usr/local/lib/python3.11/dist-packages/xgboost/core.py:158: UserWarning: [10:55:16] WARNING: /workspace/src/context.cc:196: XGBoost is not compiled with CUDA support.\n",
            "  warnings.warn(smsg, UserWarning)\n",
            "/usr/local/lib/python3.11/dist-packages/xgboost/core.py:158: UserWarning: [10:55:28] WARNING: /workspace/src/context.cc:43: No visible GPU is found, setting device to CPU.\n",
            "  warnings.warn(smsg, UserWarning)\n",
            "/usr/local/lib/python3.11/dist-packages/xgboost/core.py:158: UserWarning: [10:55:28] WARNING: /workspace/src/context.cc:196: XGBoost is not compiled with CUDA support.\n",
            "  warnings.warn(smsg, UserWarning)\n",
            "/usr/local/lib/python3.11/dist-packages/xgboost/core.py:158: UserWarning: [10:55:42] WARNING: /workspace/src/context.cc:43: No visible GPU is found, setting device to CPU.\n",
            "  warnings.warn(smsg, UserWarning)\n",
            "/usr/local/lib/python3.11/dist-packages/xgboost/core.py:158: UserWarning: [10:55:42] WARNING: /workspace/src/context.cc:196: XGBoost is not compiled with CUDA support.\n",
            "  warnings.warn(smsg, UserWarning)\n"
          ]
        },
        {
          "output_type": "stream",
          "name": "stdout",
          "text": [
            "[I 2025-02-04 10:55:56,186] Trial 119 finished with value: 0.5778994823642442 and parameters: {'model': 'xgboost', 'class_weight_option': 'balanced', 'learning_rate': 0.015944979181149843, 'n_estimators': 955, 'max_depth': 8, 'subsample': 0.7221345412294253, 'colsample_bytree': 0.6794753062346999, 'gamma': 0.001933849370408594, 'reg_alpha': 0.9964892351180467, 'reg_lambda': 0.31293360134234227}. Best is trial 112 with value: 0.5879858233941251.\n"
          ]
        },
        {
          "output_type": "stream",
          "name": "stderr",
          "text": [
            "/usr/local/lib/python3.11/dist-packages/xgboost/core.py:158: UserWarning: [10:55:56] WARNING: /workspace/src/context.cc:43: No visible GPU is found, setting device to CPU.\n",
            "  warnings.warn(smsg, UserWarning)\n",
            "/usr/local/lib/python3.11/dist-packages/xgboost/core.py:158: UserWarning: [10:55:56] WARNING: /workspace/src/context.cc:196: XGBoost is not compiled with CUDA support.\n",
            "  warnings.warn(smsg, UserWarning)\n",
            "/usr/local/lib/python3.11/dist-packages/xgboost/core.py:158: UserWarning: [10:56:13] WARNING: /workspace/src/context.cc:43: No visible GPU is found, setting device to CPU.\n",
            "  warnings.warn(smsg, UserWarning)\n",
            "/usr/local/lib/python3.11/dist-packages/xgboost/core.py:158: UserWarning: [10:56:13] WARNING: /workspace/src/context.cc:196: XGBoost is not compiled with CUDA support.\n",
            "  warnings.warn(smsg, UserWarning)\n",
            "/usr/local/lib/python3.11/dist-packages/xgboost/core.py:158: UserWarning: [10:56:27] WARNING: /workspace/src/context.cc:43: No visible GPU is found, setting device to CPU.\n",
            "  warnings.warn(smsg, UserWarning)\n",
            "/usr/local/lib/python3.11/dist-packages/xgboost/core.py:158: UserWarning: [10:56:27] WARNING: /workspace/src/context.cc:196: XGBoost is not compiled with CUDA support.\n",
            "  warnings.warn(smsg, UserWarning)\n",
            "/usr/local/lib/python3.11/dist-packages/xgboost/core.py:158: UserWarning: [10:56:42] WARNING: /workspace/src/context.cc:43: No visible GPU is found, setting device to CPU.\n",
            "  warnings.warn(smsg, UserWarning)\n",
            "/usr/local/lib/python3.11/dist-packages/xgboost/core.py:158: UserWarning: [10:56:42] WARNING: /workspace/src/context.cc:196: XGBoost is not compiled with CUDA support.\n",
            "  warnings.warn(smsg, UserWarning)\n",
            "/usr/local/lib/python3.11/dist-packages/xgboost/core.py:158: UserWarning: [10:56:56] WARNING: /workspace/src/context.cc:43: No visible GPU is found, setting device to CPU.\n",
            "  warnings.warn(smsg, UserWarning)\n",
            "/usr/local/lib/python3.11/dist-packages/xgboost/core.py:158: UserWarning: [10:56:56] WARNING: /workspace/src/context.cc:196: XGBoost is not compiled with CUDA support.\n",
            "  warnings.warn(smsg, UserWarning)\n"
          ]
        },
        {
          "output_type": "stream",
          "name": "stdout",
          "text": [
            "[I 2025-02-04 10:57:11,025] Trial 120 finished with value: 0.5666728845698736 and parameters: {'model': 'xgboost', 'class_weight_option': 'balanced', 'learning_rate': 0.008461695521941237, 'n_estimators': 926, 'max_depth': 8, 'subsample': 0.7642195139698176, 'colsample_bytree': 0.6552389513318038, 'gamma': 0.0210142382025301, 'reg_alpha': 0.9372590023908528, 'reg_lambda': 0.34292379660549865}. Best is trial 112 with value: 0.5879858233941251.\n"
          ]
        },
        {
          "output_type": "stream",
          "name": "stderr",
          "text": [
            "/usr/local/lib/python3.11/dist-packages/xgboost/core.py:158: UserWarning: [10:57:11] WARNING: /workspace/src/context.cc:43: No visible GPU is found, setting device to CPU.\n",
            "  warnings.warn(smsg, UserWarning)\n",
            "/usr/local/lib/python3.11/dist-packages/xgboost/core.py:158: UserWarning: [10:57:11] WARNING: /workspace/src/context.cc:196: XGBoost is not compiled with CUDA support.\n",
            "  warnings.warn(smsg, UserWarning)\n",
            "/usr/local/lib/python3.11/dist-packages/xgboost/core.py:158: UserWarning: [10:57:25] WARNING: /workspace/src/context.cc:43: No visible GPU is found, setting device to CPU.\n",
            "  warnings.warn(smsg, UserWarning)\n",
            "/usr/local/lib/python3.11/dist-packages/xgboost/core.py:158: UserWarning: [10:57:25] WARNING: /workspace/src/context.cc:196: XGBoost is not compiled with CUDA support.\n",
            "  warnings.warn(smsg, UserWarning)\n",
            "/usr/local/lib/python3.11/dist-packages/xgboost/core.py:158: UserWarning: [10:57:43] WARNING: /workspace/src/context.cc:43: No visible GPU is found, setting device to CPU.\n",
            "  warnings.warn(smsg, UserWarning)\n",
            "/usr/local/lib/python3.11/dist-packages/xgboost/core.py:158: UserWarning: [10:57:43] WARNING: /workspace/src/context.cc:196: XGBoost is not compiled with CUDA support.\n",
            "  warnings.warn(smsg, UserWarning)\n",
            "/usr/local/lib/python3.11/dist-packages/xgboost/core.py:158: UserWarning: [10:57:57] WARNING: /workspace/src/context.cc:43: No visible GPU is found, setting device to CPU.\n",
            "  warnings.warn(smsg, UserWarning)\n",
            "/usr/local/lib/python3.11/dist-packages/xgboost/core.py:158: UserWarning: [10:57:57] WARNING: /workspace/src/context.cc:196: XGBoost is not compiled with CUDA support.\n",
            "  warnings.warn(smsg, UserWarning)\n",
            "/usr/local/lib/python3.11/dist-packages/xgboost/core.py:158: UserWarning: [10:58:12] WARNING: /workspace/src/context.cc:43: No visible GPU is found, setting device to CPU.\n",
            "  warnings.warn(smsg, UserWarning)\n",
            "/usr/local/lib/python3.11/dist-packages/xgboost/core.py:158: UserWarning: [10:58:12] WARNING: /workspace/src/context.cc:196: XGBoost is not compiled with CUDA support.\n",
            "  warnings.warn(smsg, UserWarning)\n"
          ]
        },
        {
          "output_type": "stream",
          "name": "stdout",
          "text": [
            "[I 2025-02-04 10:58:26,916] Trial 121 finished with value: 0.5696341597752343 and parameters: {'model': 'xgboost', 'class_weight_option': 'balanced', 'learning_rate': 0.010268929227979541, 'n_estimators': 1002, 'max_depth': 8, 'subsample': 0.7536083632372991, 'colsample_bytree': 0.6429346496093009, 'gamma': 0.0398713770659593, 'reg_alpha': 0.9709737718078996, 'reg_lambda': 0.2566460863857589}. Best is trial 112 with value: 0.5879858233941251.\n"
          ]
        },
        {
          "output_type": "stream",
          "name": "stderr",
          "text": [
            "/usr/local/lib/python3.11/dist-packages/xgboost/core.py:158: UserWarning: [10:58:27] WARNING: /workspace/src/context.cc:43: No visible GPU is found, setting device to CPU.\n",
            "  warnings.warn(smsg, UserWarning)\n",
            "/usr/local/lib/python3.11/dist-packages/xgboost/core.py:158: UserWarning: [10:58:27] WARNING: /workspace/src/context.cc:196: XGBoost is not compiled with CUDA support.\n",
            "  warnings.warn(smsg, UserWarning)\n",
            "/usr/local/lib/python3.11/dist-packages/xgboost/core.py:158: UserWarning: [10:58:39] WARNING: /workspace/src/context.cc:43: No visible GPU is found, setting device to CPU.\n",
            "  warnings.warn(smsg, UserWarning)\n",
            "/usr/local/lib/python3.11/dist-packages/xgboost/core.py:158: UserWarning: [10:58:39] WARNING: /workspace/src/context.cc:196: XGBoost is not compiled with CUDA support.\n",
            "  warnings.warn(smsg, UserWarning)\n",
            "/usr/local/lib/python3.11/dist-packages/xgboost/core.py:158: UserWarning: [10:58:50] WARNING: /workspace/src/context.cc:43: No visible GPU is found, setting device to CPU.\n",
            "  warnings.warn(smsg, UserWarning)\n",
            "/usr/local/lib/python3.11/dist-packages/xgboost/core.py:158: UserWarning: [10:58:50] WARNING: /workspace/src/context.cc:196: XGBoost is not compiled with CUDA support.\n",
            "  warnings.warn(smsg, UserWarning)\n",
            "/usr/local/lib/python3.11/dist-packages/xgboost/core.py:158: UserWarning: [10:59:00] WARNING: /workspace/src/context.cc:43: No visible GPU is found, setting device to CPU.\n",
            "  warnings.warn(smsg, UserWarning)\n",
            "/usr/local/lib/python3.11/dist-packages/xgboost/core.py:158: UserWarning: [10:59:00] WARNING: /workspace/src/context.cc:196: XGBoost is not compiled with CUDA support.\n",
            "  warnings.warn(smsg, UserWarning)\n",
            "/usr/local/lib/python3.11/dist-packages/xgboost/core.py:158: UserWarning: [10:59:10] WARNING: /workspace/src/context.cc:43: No visible GPU is found, setting device to CPU.\n",
            "  warnings.warn(smsg, UserWarning)\n",
            "/usr/local/lib/python3.11/dist-packages/xgboost/core.py:158: UserWarning: [10:59:10] WARNING: /workspace/src/context.cc:196: XGBoost is not compiled with CUDA support.\n",
            "  warnings.warn(smsg, UserWarning)\n"
          ]
        },
        {
          "output_type": "stream",
          "name": "stdout",
          "text": [
            "[I 2025-02-04 10:59:21,369] Trial 122 finished with value: 0.5785792632846345 and parameters: {'model': 'xgboost', 'class_weight_option': 'balanced', 'learning_rate': 0.018821192503179193, 'n_estimators': 872, 'max_depth': 8, 'subsample': 0.7434749160572391, 'colsample_bytree': 0.6358050438646026, 'gamma': 0.017259861490929472, 'reg_alpha': 0.8500165046903424, 'reg_lambda': 0.3708401320225419}. Best is trial 112 with value: 0.5879858233941251.\n"
          ]
        },
        {
          "output_type": "stream",
          "name": "stderr",
          "text": [
            "/usr/local/lib/python3.11/dist-packages/xgboost/core.py:158: UserWarning: [10:59:21] WARNING: /workspace/src/context.cc:43: No visible GPU is found, setting device to CPU.\n",
            "  warnings.warn(smsg, UserWarning)\n",
            "/usr/local/lib/python3.11/dist-packages/xgboost/core.py:158: UserWarning: [10:59:21] WARNING: /workspace/src/context.cc:196: XGBoost is not compiled with CUDA support.\n",
            "  warnings.warn(smsg, UserWarning)\n",
            "/usr/local/lib/python3.11/dist-packages/xgboost/core.py:158: UserWarning: [10:59:34] WARNING: /workspace/src/context.cc:43: No visible GPU is found, setting device to CPU.\n",
            "  warnings.warn(smsg, UserWarning)\n",
            "/usr/local/lib/python3.11/dist-packages/xgboost/core.py:158: UserWarning: [10:59:34] WARNING: /workspace/src/context.cc:196: XGBoost is not compiled with CUDA support.\n",
            "  warnings.warn(smsg, UserWarning)\n",
            "/usr/local/lib/python3.11/dist-packages/xgboost/core.py:158: UserWarning: [10:59:46] WARNING: /workspace/src/context.cc:43: No visible GPU is found, setting device to CPU.\n",
            "  warnings.warn(smsg, UserWarning)\n",
            "/usr/local/lib/python3.11/dist-packages/xgboost/core.py:158: UserWarning: [10:59:46] WARNING: /workspace/src/context.cc:196: XGBoost is not compiled with CUDA support.\n",
            "  warnings.warn(smsg, UserWarning)\n",
            "/usr/local/lib/python3.11/dist-packages/xgboost/core.py:158: UserWarning: [10:59:57] WARNING: /workspace/src/context.cc:43: No visible GPU is found, setting device to CPU.\n",
            "  warnings.warn(smsg, UserWarning)\n",
            "/usr/local/lib/python3.11/dist-packages/xgboost/core.py:158: UserWarning: [10:59:57] WARNING: /workspace/src/context.cc:196: XGBoost is not compiled with CUDA support.\n",
            "  warnings.warn(smsg, UserWarning)\n",
            "/usr/local/lib/python3.11/dist-packages/xgboost/core.py:158: UserWarning: [11:00:10] WARNING: /workspace/src/context.cc:43: No visible GPU is found, setting device to CPU.\n",
            "  warnings.warn(smsg, UserWarning)\n",
            "/usr/local/lib/python3.11/dist-packages/xgboost/core.py:158: UserWarning: [11:00:10] WARNING: /workspace/src/context.cc:196: XGBoost is not compiled with CUDA support.\n",
            "  warnings.warn(smsg, UserWarning)\n"
          ]
        },
        {
          "output_type": "stream",
          "name": "stdout",
          "text": [
            "[I 2025-02-04 11:00:22,992] Trial 123 finished with value: 0.5805103389834579 and parameters: {'model': 'xgboost', 'class_weight_option': 'balanced', 'learning_rate': 0.016961571449317998, 'n_estimators': 900, 'max_depth': 8, 'subsample': 0.7347318135693447, 'colsample_bytree': 0.6422028189826227, 'gamma': 0.0014320062471866375, 'reg_alpha': 0.9277494563936524, 'reg_lambda': 0.32021075617562106}. Best is trial 112 with value: 0.5879858233941251.\n"
          ]
        },
        {
          "output_type": "stream",
          "name": "stderr",
          "text": [
            "/usr/local/lib/python3.11/dist-packages/xgboost/core.py:158: UserWarning: [11:00:23] WARNING: /workspace/src/context.cc:43: No visible GPU is found, setting device to CPU.\n",
            "  warnings.warn(smsg, UserWarning)\n",
            "/usr/local/lib/python3.11/dist-packages/xgboost/core.py:158: UserWarning: [11:00:23] WARNING: /workspace/src/context.cc:196: XGBoost is not compiled with CUDA support.\n",
            "  warnings.warn(smsg, UserWarning)\n",
            "/usr/local/lib/python3.11/dist-packages/xgboost/core.py:158: UserWarning: [11:00:37] WARNING: /workspace/src/context.cc:43: No visible GPU is found, setting device to CPU.\n",
            "  warnings.warn(smsg, UserWarning)\n",
            "/usr/local/lib/python3.11/dist-packages/xgboost/core.py:158: UserWarning: [11:00:37] WARNING: /workspace/src/context.cc:196: XGBoost is not compiled with CUDA support.\n",
            "  warnings.warn(smsg, UserWarning)\n",
            "/usr/local/lib/python3.11/dist-packages/xgboost/core.py:158: UserWarning: [11:00:51] WARNING: /workspace/src/context.cc:43: No visible GPU is found, setting device to CPU.\n",
            "  warnings.warn(smsg, UserWarning)\n",
            "/usr/local/lib/python3.11/dist-packages/xgboost/core.py:158: UserWarning: [11:00:51] WARNING: /workspace/src/context.cc:196: XGBoost is not compiled with CUDA support.\n",
            "  warnings.warn(smsg, UserWarning)\n",
            "/usr/local/lib/python3.11/dist-packages/xgboost/core.py:158: UserWarning: [11:01:03] WARNING: /workspace/src/context.cc:43: No visible GPU is found, setting device to CPU.\n",
            "  warnings.warn(smsg, UserWarning)\n",
            "/usr/local/lib/python3.11/dist-packages/xgboost/core.py:158: UserWarning: [11:01:03] WARNING: /workspace/src/context.cc:196: XGBoost is not compiled with CUDA support.\n",
            "  warnings.warn(smsg, UserWarning)\n",
            "/usr/local/lib/python3.11/dist-packages/xgboost/core.py:158: UserWarning: [11:01:20] WARNING: /workspace/src/context.cc:43: No visible GPU is found, setting device to CPU.\n",
            "  warnings.warn(smsg, UserWarning)\n",
            "/usr/local/lib/python3.11/dist-packages/xgboost/core.py:158: UserWarning: [11:01:20] WARNING: /workspace/src/context.cc:196: XGBoost is not compiled with CUDA support.\n",
            "  warnings.warn(smsg, UserWarning)\n"
          ]
        },
        {
          "output_type": "stream",
          "name": "stdout",
          "text": [
            "[I 2025-02-04 11:01:34,121] Trial 124 finished with value: 0.5879945658002083 and parameters: {'model': 'xgboost', 'class_weight_option': 'balanced', 'learning_rate': 0.016357857433328713, 'n_estimators': 1027, 'max_depth': 8, 'subsample': 0.7652803875446956, 'colsample_bytree': 0.659490406827665, 'gamma': 0.0001743874063999209, 'reg_alpha': 0.9255235251258094, 'reg_lambda': 0.3265534103927398}. Best is trial 124 with value: 0.5879945658002083.\n"
          ]
        },
        {
          "output_type": "stream",
          "name": "stderr",
          "text": [
            "/usr/local/lib/python3.11/dist-packages/xgboost/core.py:158: UserWarning: [11:01:34] WARNING: /workspace/src/context.cc:43: No visible GPU is found, setting device to CPU.\n",
            "  warnings.warn(smsg, UserWarning)\n",
            "/usr/local/lib/python3.11/dist-packages/xgboost/core.py:158: UserWarning: [11:01:34] WARNING: /workspace/src/context.cc:196: XGBoost is not compiled with CUDA support.\n",
            "  warnings.warn(smsg, UserWarning)\n",
            "/usr/local/lib/python3.11/dist-packages/xgboost/core.py:158: UserWarning: [11:01:48] WARNING: /workspace/src/context.cc:43: No visible GPU is found, setting device to CPU.\n",
            "  warnings.warn(smsg, UserWarning)\n",
            "/usr/local/lib/python3.11/dist-packages/xgboost/core.py:158: UserWarning: [11:01:48] WARNING: /workspace/src/context.cc:196: XGBoost is not compiled with CUDA support.\n",
            "  warnings.warn(smsg, UserWarning)\n",
            "/usr/local/lib/python3.11/dist-packages/xgboost/core.py:158: UserWarning: [11:02:03] WARNING: /workspace/src/context.cc:43: No visible GPU is found, setting device to CPU.\n",
            "  warnings.warn(smsg, UserWarning)\n",
            "/usr/local/lib/python3.11/dist-packages/xgboost/core.py:158: UserWarning: [11:02:03] WARNING: /workspace/src/context.cc:196: XGBoost is not compiled with CUDA support.\n",
            "  warnings.warn(smsg, UserWarning)\n",
            "/usr/local/lib/python3.11/dist-packages/xgboost/core.py:158: UserWarning: [11:02:17] WARNING: /workspace/src/context.cc:43: No visible GPU is found, setting device to CPU.\n",
            "  warnings.warn(smsg, UserWarning)\n",
            "/usr/local/lib/python3.11/dist-packages/xgboost/core.py:158: UserWarning: [11:02:17] WARNING: /workspace/src/context.cc:196: XGBoost is not compiled with CUDA support.\n",
            "  warnings.warn(smsg, UserWarning)\n",
            "/usr/local/lib/python3.11/dist-packages/xgboost/core.py:158: UserWarning: [11:02:31] WARNING: /workspace/src/context.cc:43: No visible GPU is found, setting device to CPU.\n",
            "  warnings.warn(smsg, UserWarning)\n",
            "/usr/local/lib/python3.11/dist-packages/xgboost/core.py:158: UserWarning: [11:02:31] WARNING: /workspace/src/context.cc:196: XGBoost is not compiled with CUDA support.\n",
            "  warnings.warn(smsg, UserWarning)\n"
          ]
        },
        {
          "output_type": "stream",
          "name": "stdout",
          "text": [
            "[I 2025-02-04 11:02:46,128] Trial 125 finished with value: 0.5788687664509169 and parameters: {'model': 'xgboost', 'class_weight_option': 'balanced', 'learning_rate': 0.012362539163482743, 'n_estimators': 1035, 'max_depth': 8, 'subsample': 0.7690031840921142, 'colsample_bytree': 0.6570872349422778, 'gamma': 0.044786869259517983, 'reg_alpha': 0.9485179804909711, 'reg_lambda': 0.29411775107925414}. Best is trial 124 with value: 0.5879945658002083.\n"
          ]
        },
        {
          "output_type": "stream",
          "name": "stderr",
          "text": [
            "/usr/local/lib/python3.11/dist-packages/xgboost/core.py:158: UserWarning: [11:02:46] WARNING: /workspace/src/context.cc:43: No visible GPU is found, setting device to CPU.\n",
            "  warnings.warn(smsg, UserWarning)\n",
            "/usr/local/lib/python3.11/dist-packages/xgboost/core.py:158: UserWarning: [11:02:46] WARNING: /workspace/src/context.cc:196: XGBoost is not compiled with CUDA support.\n",
            "  warnings.warn(smsg, UserWarning)\n",
            "/usr/local/lib/python3.11/dist-packages/xgboost/core.py:158: UserWarning: [11:02:59] WARNING: /workspace/src/context.cc:43: No visible GPU is found, setting device to CPU.\n",
            "  warnings.warn(smsg, UserWarning)\n",
            "/usr/local/lib/python3.11/dist-packages/xgboost/core.py:158: UserWarning: [11:02:59] WARNING: /workspace/src/context.cc:196: XGBoost is not compiled with CUDA support.\n",
            "  warnings.warn(smsg, UserWarning)\n",
            "/usr/local/lib/python3.11/dist-packages/xgboost/core.py:158: UserWarning: [11:03:10] WARNING: /workspace/src/context.cc:43: No visible GPU is found, setting device to CPU.\n",
            "  warnings.warn(smsg, UserWarning)\n",
            "/usr/local/lib/python3.11/dist-packages/xgboost/core.py:158: UserWarning: [11:03:10] WARNING: /workspace/src/context.cc:196: XGBoost is not compiled with CUDA support.\n",
            "  warnings.warn(smsg, UserWarning)\n",
            "/usr/local/lib/python3.11/dist-packages/xgboost/core.py:158: UserWarning: [11:03:20] WARNING: /workspace/src/context.cc:43: No visible GPU is found, setting device to CPU.\n",
            "  warnings.warn(smsg, UserWarning)\n",
            "/usr/local/lib/python3.11/dist-packages/xgboost/core.py:158: UserWarning: [11:03:20] WARNING: /workspace/src/context.cc:196: XGBoost is not compiled with CUDA support.\n",
            "  warnings.warn(smsg, UserWarning)\n",
            "/usr/local/lib/python3.11/dist-packages/xgboost/core.py:158: UserWarning: [11:03:31] WARNING: /workspace/src/context.cc:43: No visible GPU is found, setting device to CPU.\n",
            "  warnings.warn(smsg, UserWarning)\n",
            "/usr/local/lib/python3.11/dist-packages/xgboost/core.py:158: UserWarning: [11:03:31] WARNING: /workspace/src/context.cc:196: XGBoost is not compiled with CUDA support.\n",
            "  warnings.warn(smsg, UserWarning)\n"
          ]
        },
        {
          "output_type": "stream",
          "name": "stdout",
          "text": [
            "[I 2025-02-04 11:03:42,402] Trial 126 finished with value: 0.5683135359059872 and parameters: {'model': 'xgboost', 'class_weight_option': 'balanced', 'learning_rate': 0.023769301596223102, 'n_estimators': 1101, 'max_depth': 8, 'subsample': 0.7535003760603177, 'colsample_bytree': 0.9505598617153304, 'gamma': 0.026074355867748242, 'reg_alpha': 0.9028992300692158, 'reg_lambda': 0.42561974520695234}. Best is trial 124 with value: 0.5879945658002083.\n"
          ]
        },
        {
          "output_type": "stream",
          "name": "stderr",
          "text": [
            "/usr/local/lib/python3.11/dist-packages/xgboost/core.py:158: UserWarning: [11:03:42] WARNING: /workspace/src/context.cc:43: No visible GPU is found, setting device to CPU.\n",
            "  warnings.warn(smsg, UserWarning)\n",
            "/usr/local/lib/python3.11/dist-packages/xgboost/core.py:158: UserWarning: [11:03:42] WARNING: /workspace/src/context.cc:196: XGBoost is not compiled with CUDA support.\n",
            "  warnings.warn(smsg, UserWarning)\n",
            "/usr/local/lib/python3.11/dist-packages/xgboost/core.py:158: UserWarning: [11:03:56] WARNING: /workspace/src/context.cc:43: No visible GPU is found, setting device to CPU.\n",
            "  warnings.warn(smsg, UserWarning)\n",
            "/usr/local/lib/python3.11/dist-packages/xgboost/core.py:158: UserWarning: [11:03:56] WARNING: /workspace/src/context.cc:196: XGBoost is not compiled with CUDA support.\n",
            "  warnings.warn(smsg, UserWarning)\n",
            "/usr/local/lib/python3.11/dist-packages/xgboost/core.py:158: UserWarning: [11:04:10] WARNING: /workspace/src/context.cc:43: No visible GPU is found, setting device to CPU.\n",
            "  warnings.warn(smsg, UserWarning)\n",
            "/usr/local/lib/python3.11/dist-packages/xgboost/core.py:158: UserWarning: [11:04:10] WARNING: /workspace/src/context.cc:196: XGBoost is not compiled with CUDA support.\n",
            "  warnings.warn(smsg, UserWarning)\n",
            "/usr/local/lib/python3.11/dist-packages/xgboost/core.py:158: UserWarning: [11:04:22] WARNING: /workspace/src/context.cc:43: No visible GPU is found, setting device to CPU.\n",
            "  warnings.warn(smsg, UserWarning)\n",
            "/usr/local/lib/python3.11/dist-packages/xgboost/core.py:158: UserWarning: [11:04:22] WARNING: /workspace/src/context.cc:196: XGBoost is not compiled with CUDA support.\n",
            "  warnings.warn(smsg, UserWarning)\n",
            "/usr/local/lib/python3.11/dist-packages/xgboost/core.py:158: UserWarning: [11:04:36] WARNING: /workspace/src/context.cc:43: No visible GPU is found, setting device to CPU.\n",
            "  warnings.warn(smsg, UserWarning)\n",
            "/usr/local/lib/python3.11/dist-packages/xgboost/core.py:158: UserWarning: [11:04:36] WARNING: /workspace/src/context.cc:196: XGBoost is not compiled with CUDA support.\n",
            "  warnings.warn(smsg, UserWarning)\n"
          ]
        },
        {
          "output_type": "stream",
          "name": "stdout",
          "text": [
            "[I 2025-02-04 11:04:51,056] Trial 127 finished with value: 0.5827343809929951 and parameters: {'model': 'xgboost', 'class_weight_option': 'balanced', 'learning_rate': 0.015271709634741034, 'n_estimators': 980, 'max_depth': 8, 'subsample': 0.7245243004194668, 'colsample_bytree': 0.6731249293281075, 'gamma': 0.00018607707827603646, 'reg_alpha': 0.9770642457493659, 'reg_lambda': 0.3282173096766419}. Best is trial 124 with value: 0.5879945658002083.\n"
          ]
        },
        {
          "output_type": "stream",
          "name": "stderr",
          "text": [
            "/usr/local/lib/python3.11/dist-packages/xgboost/core.py:158: UserWarning: [11:04:51] WARNING: /workspace/src/context.cc:43: No visible GPU is found, setting device to CPU.\n",
            "  warnings.warn(smsg, UserWarning)\n",
            "/usr/local/lib/python3.11/dist-packages/xgboost/core.py:158: UserWarning: [11:04:51] WARNING: /workspace/src/context.cc:196: XGBoost is not compiled with CUDA support.\n",
            "  warnings.warn(smsg, UserWarning)\n",
            "/usr/local/lib/python3.11/dist-packages/xgboost/core.py:158: UserWarning: [11:05:05] WARNING: /workspace/src/context.cc:43: No visible GPU is found, setting device to CPU.\n",
            "  warnings.warn(smsg, UserWarning)\n",
            "/usr/local/lib/python3.11/dist-packages/xgboost/core.py:158: UserWarning: [11:05:05] WARNING: /workspace/src/context.cc:196: XGBoost is not compiled with CUDA support.\n",
            "  warnings.warn(smsg, UserWarning)\n",
            "/usr/local/lib/python3.11/dist-packages/xgboost/core.py:158: UserWarning: [11:05:19] WARNING: /workspace/src/context.cc:43: No visible GPU is found, setting device to CPU.\n",
            "  warnings.warn(smsg, UserWarning)\n",
            "/usr/local/lib/python3.11/dist-packages/xgboost/core.py:158: UserWarning: [11:05:19] WARNING: /workspace/src/context.cc:196: XGBoost is not compiled with CUDA support.\n",
            "  warnings.warn(smsg, UserWarning)\n",
            "/usr/local/lib/python3.11/dist-packages/xgboost/core.py:158: UserWarning: [11:05:31] WARNING: /workspace/src/context.cc:43: No visible GPU is found, setting device to CPU.\n",
            "  warnings.warn(smsg, UserWarning)\n",
            "/usr/local/lib/python3.11/dist-packages/xgboost/core.py:158: UserWarning: [11:05:31] WARNING: /workspace/src/context.cc:196: XGBoost is not compiled with CUDA support.\n",
            "  warnings.warn(smsg, UserWarning)\n",
            "/usr/local/lib/python3.11/dist-packages/xgboost/core.py:158: UserWarning: [11:05:45] WARNING: /workspace/src/context.cc:43: No visible GPU is found, setting device to CPU.\n",
            "  warnings.warn(smsg, UserWarning)\n",
            "/usr/local/lib/python3.11/dist-packages/xgboost/core.py:158: UserWarning: [11:05:45] WARNING: /workspace/src/context.cc:196: XGBoost is not compiled with CUDA support.\n",
            "  warnings.warn(smsg, UserWarning)\n"
          ]
        },
        {
          "output_type": "stream",
          "name": "stdout",
          "text": [
            "[I 2025-02-04 11:05:59,090] Trial 128 finished with value: 0.5803565188126025 and parameters: {'model': 'xgboost', 'class_weight_option': 'balanced', 'learning_rate': 0.015363161838340534, 'n_estimators': 982, 'max_depth': 8, 'subsample': 0.6908988493439076, 'colsample_bytree': 0.6717434136962608, 'gamma': 0.004241163506032611, 'reg_alpha': 0.9774768664961144, 'reg_lambda': 0.27647908502103136}. Best is trial 124 with value: 0.5879945658002083.\n",
            "[I 2025-02-04 11:06:43,726] Trial 129 finished with value: 0.5345954522998818 and parameters: {'model': 'random_forest', 'class_weight_option': 'balanced', 'n_estimators': 1164, 'max_depth': 12, 'min_samples_split': 5, 'min_samples_leaf': 4, 'max_features': 'sqrt'}. Best is trial 124 with value: 0.5879945658002083.\n"
          ]
        },
        {
          "output_type": "stream",
          "name": "stderr",
          "text": [
            "/usr/local/lib/python3.11/dist-packages/xgboost/core.py:158: UserWarning: [11:06:43] WARNING: /workspace/src/context.cc:43: No visible GPU is found, setting device to CPU.\n",
            "  warnings.warn(smsg, UserWarning)\n",
            "/usr/local/lib/python3.11/dist-packages/xgboost/core.py:158: UserWarning: [11:06:43] WARNING: /workspace/src/context.cc:196: XGBoost is not compiled with CUDA support.\n",
            "  warnings.warn(smsg, UserWarning)\n",
            "/usr/local/lib/python3.11/dist-packages/xgboost/core.py:158: UserWarning: [11:06:56] WARNING: /workspace/src/context.cc:43: No visible GPU is found, setting device to CPU.\n",
            "  warnings.warn(smsg, UserWarning)\n",
            "/usr/local/lib/python3.11/dist-packages/xgboost/core.py:158: UserWarning: [11:06:56] WARNING: /workspace/src/context.cc:196: XGBoost is not compiled with CUDA support.\n",
            "  warnings.warn(smsg, UserWarning)\n",
            "/usr/local/lib/python3.11/dist-packages/xgboost/core.py:158: UserWarning: [11:07:07] WARNING: /workspace/src/context.cc:43: No visible GPU is found, setting device to CPU.\n",
            "  warnings.warn(smsg, UserWarning)\n",
            "/usr/local/lib/python3.11/dist-packages/xgboost/core.py:158: UserWarning: [11:07:07] WARNING: /workspace/src/context.cc:196: XGBoost is not compiled with CUDA support.\n",
            "  warnings.warn(smsg, UserWarning)\n",
            "/usr/local/lib/python3.11/dist-packages/xgboost/core.py:158: UserWarning: [11:07:15] WARNING: /workspace/src/context.cc:43: No visible GPU is found, setting device to CPU.\n",
            "  warnings.warn(smsg, UserWarning)\n",
            "/usr/local/lib/python3.11/dist-packages/xgboost/core.py:158: UserWarning: [11:07:15] WARNING: /workspace/src/context.cc:196: XGBoost is not compiled with CUDA support.\n",
            "  warnings.warn(smsg, UserWarning)\n",
            "/usr/local/lib/python3.11/dist-packages/xgboost/core.py:158: UserWarning: [11:07:28] WARNING: /workspace/src/context.cc:43: No visible GPU is found, setting device to CPU.\n",
            "  warnings.warn(smsg, UserWarning)\n",
            "/usr/local/lib/python3.11/dist-packages/xgboost/core.py:158: UserWarning: [11:07:28] WARNING: /workspace/src/context.cc:196: XGBoost is not compiled with CUDA support.\n",
            "  warnings.warn(smsg, UserWarning)\n"
          ]
        },
        {
          "output_type": "stream",
          "name": "stdout",
          "text": [
            "[I 2025-02-04 11:07:39,088] Trial 130 finished with value: 0.5737004660694629 and parameters: {'model': 'xgboost', 'class_weight_option': 'balanced', 'learning_rate': 0.019622793480313105, 'n_estimators': 1032, 'max_depth': 8, 'subsample': 0.7237808475489514, 'colsample_bytree': 0.6507663116342907, 'gamma': 0.049290546124193875, 'reg_alpha': 0.9520741805551396, 'reg_lambda': 0.3306352355383125}. Best is trial 124 with value: 0.5879945658002083.\n"
          ]
        },
        {
          "output_type": "stream",
          "name": "stderr",
          "text": [
            "/usr/local/lib/python3.11/dist-packages/xgboost/core.py:158: UserWarning: [11:07:39] WARNING: /workspace/src/context.cc:43: No visible GPU is found, setting device to CPU.\n",
            "  warnings.warn(smsg, UserWarning)\n",
            "/usr/local/lib/python3.11/dist-packages/xgboost/core.py:158: UserWarning: [11:07:39] WARNING: /workspace/src/context.cc:196: XGBoost is not compiled with CUDA support.\n",
            "  warnings.warn(smsg, UserWarning)\n",
            "/usr/local/lib/python3.11/dist-packages/xgboost/core.py:158: UserWarning: [11:07:54] WARNING: /workspace/src/context.cc:43: No visible GPU is found, setting device to CPU.\n",
            "  warnings.warn(smsg, UserWarning)\n",
            "/usr/local/lib/python3.11/dist-packages/xgboost/core.py:158: UserWarning: [11:07:54] WARNING: /workspace/src/context.cc:196: XGBoost is not compiled with CUDA support.\n",
            "  warnings.warn(smsg, UserWarning)\n",
            "/usr/local/lib/python3.11/dist-packages/xgboost/core.py:158: UserWarning: [11:08:11] WARNING: /workspace/src/context.cc:43: No visible GPU is found, setting device to CPU.\n",
            "  warnings.warn(smsg, UserWarning)\n",
            "/usr/local/lib/python3.11/dist-packages/xgboost/core.py:158: UserWarning: [11:08:11] WARNING: /workspace/src/context.cc:196: XGBoost is not compiled with CUDA support.\n",
            "  warnings.warn(smsg, UserWarning)\n",
            "/usr/local/lib/python3.11/dist-packages/xgboost/core.py:158: UserWarning: [11:08:26] WARNING: /workspace/src/context.cc:43: No visible GPU is found, setting device to CPU.\n",
            "  warnings.warn(smsg, UserWarning)\n",
            "/usr/local/lib/python3.11/dist-packages/xgboost/core.py:158: UserWarning: [11:08:26] WARNING: /workspace/src/context.cc:196: XGBoost is not compiled with CUDA support.\n",
            "  warnings.warn(smsg, UserWarning)\n",
            "/usr/local/lib/python3.11/dist-packages/xgboost/core.py:158: UserWarning: [11:08:41] WARNING: /workspace/src/context.cc:43: No visible GPU is found, setting device to CPU.\n",
            "  warnings.warn(smsg, UserWarning)\n",
            "/usr/local/lib/python3.11/dist-packages/xgboost/core.py:158: UserWarning: [11:08:41] WARNING: /workspace/src/context.cc:196: XGBoost is not compiled with CUDA support.\n",
            "  warnings.warn(smsg, UserWarning)\n"
          ]
        },
        {
          "output_type": "stream",
          "name": "stdout",
          "text": [
            "[I 2025-02-04 11:08:56,598] Trial 131 finished with value: 0.5731155796964206 and parameters: {'model': 'xgboost', 'class_weight_option': 'balanced', 'learning_rate': 0.01336306699301117, 'n_estimators': 947, 'max_depth': 8, 'subsample': 0.7596655149899203, 'colsample_bytree': 0.8228878851343144, 'gamma': 0.01965448821309166, 'reg_alpha': 0.9165489944396574, 'reg_lambda': 0.3520607429404945}. Best is trial 124 with value: 0.5879945658002083.\n",
            "Submission file created!\n"
          ]
        }
      ]
    }
  ],
  "metadata": {
    "colab": {
      "provenance": [],
      "gpuType": "T4",
      "authorship_tag": "ABX9TyMwcd9uh2DwtZbmU6yMOVlr",
      "include_colab_link": true
    },
    "kernelspec": {
      "display_name": "Python 3",
      "name": "python3"
    },
    "language_info": {
      "name": "python"
    },
    "widgets": {
      "application/vnd.jupyter.widget-state+json": {
        "a3a8077f98aa4c32bf131040dea87f9e": {
          "model_module": "@jupyter-widgets/controls",
          "model_name": "HBoxModel",
          "model_module_version": "1.5.0",
          "state": {
            "_dom_classes": [],
            "_model_module": "@jupyter-widgets/controls",
            "_model_module_version": "1.5.0",
            "_model_name": "HBoxModel",
            "_view_count": null,
            "_view_module": "@jupyter-widgets/controls",
            "_view_module_version": "1.5.0",
            "_view_name": "HBoxView",
            "box_style": "",
            "children": [
              "IPY_MODEL_3eead02f0427494b9d38c4821bfcd198",
              "IPY_MODEL_3ee731ba4ed5440e8d2ea703924dd8c5",
              "IPY_MODEL_e0b09748e6364714af945e4f3b55a2a5"
            ],
            "layout": "IPY_MODEL_77043f1025d74fa5b5f81307b6658c06"
          }
        },
        "3eead02f0427494b9d38c4821bfcd198": {
          "model_module": "@jupyter-widgets/controls",
          "model_name": "HTMLModel",
          "model_module_version": "1.5.0",
          "state": {
            "_dom_classes": [],
            "_model_module": "@jupyter-widgets/controls",
            "_model_module_version": "1.5.0",
            "_model_name": "HTMLModel",
            "_view_count": null,
            "_view_module": "@jupyter-widgets/controls",
            "_view_module_version": "1.5.0",
            "_view_name": "HTMLView",
            "description": "",
            "description_tooltip": null,
            "layout": "IPY_MODEL_64eff47ba67843428092270b34d03c69",
            "placeholder": "​",
            "style": "IPY_MODEL_6475306528264e74a5fcf9dd5e2408e4",
            "value": "Best trial: 124. Best value: 0.587995: 100%"
          }
        },
        "3ee731ba4ed5440e8d2ea703924dd8c5": {
          "model_module": "@jupyter-widgets/controls",
          "model_name": "FloatProgressModel",
          "model_module_version": "1.5.0",
          "state": {
            "_dom_classes": [],
            "_model_module": "@jupyter-widgets/controls",
            "_model_module_version": "1.5.0",
            "_model_name": "FloatProgressModel",
            "_view_count": null,
            "_view_module": "@jupyter-widgets/controls",
            "_view_module_version": "1.5.0",
            "_view_name": "ProgressView",
            "bar_style": "success",
            "description": "",
            "description_tooltip": null,
            "layout": "IPY_MODEL_738baf1c12f443d9ad23b5d3bf1b9b5b",
            "max": 100,
            "min": 0,
            "orientation": "horizontal",
            "style": "IPY_MODEL_35313f2e2ac7417498657644ca0b5238",
            "value": 100
          }
        },
        "e0b09748e6364714af945e4f3b55a2a5": {
          "model_module": "@jupyter-widgets/controls",
          "model_name": "HTMLModel",
          "model_module_version": "1.5.0",
          "state": {
            "_dom_classes": [],
            "_model_module": "@jupyter-widgets/controls",
            "_model_module_version": "1.5.0",
            "_model_name": "HTMLModel",
            "_view_count": null,
            "_view_module": "@jupyter-widgets/controls",
            "_view_module_version": "1.5.0",
            "_view_name": "HTMLView",
            "description": "",
            "description_tooltip": null,
            "layout": "IPY_MODEL_c57c0ac0390f42de9ef5aa18041022c4",
            "placeholder": "​",
            "style": "IPY_MODEL_db535aabeb9e4c42bd17cdef00339d6f",
            "value": " 100/100 [1:12:22&lt;00:00, 64.19s/it, 4342.89/7200 seconds]"
          }
        },
        "77043f1025d74fa5b5f81307b6658c06": {
          "model_module": "@jupyter-widgets/base",
          "model_name": "LayoutModel",
          "model_module_version": "1.2.0",
          "state": {
            "_model_module": "@jupyter-widgets/base",
            "_model_module_version": "1.2.0",
            "_model_name": "LayoutModel",
            "_view_count": null,
            "_view_module": "@jupyter-widgets/base",
            "_view_module_version": "1.2.0",
            "_view_name": "LayoutView",
            "align_content": null,
            "align_items": null,
            "align_self": null,
            "border": null,
            "bottom": null,
            "display": null,
            "flex": null,
            "flex_flow": null,
            "grid_area": null,
            "grid_auto_columns": null,
            "grid_auto_flow": null,
            "grid_auto_rows": null,
            "grid_column": null,
            "grid_gap": null,
            "grid_row": null,
            "grid_template_areas": null,
            "grid_template_columns": null,
            "grid_template_rows": null,
            "height": null,
            "justify_content": null,
            "justify_items": null,
            "left": null,
            "margin": null,
            "max_height": null,
            "max_width": null,
            "min_height": null,
            "min_width": null,
            "object_fit": null,
            "object_position": null,
            "order": null,
            "overflow": null,
            "overflow_x": null,
            "overflow_y": null,
            "padding": null,
            "right": null,
            "top": null,
            "visibility": null,
            "width": null
          }
        },
        "64eff47ba67843428092270b34d03c69": {
          "model_module": "@jupyter-widgets/base",
          "model_name": "LayoutModel",
          "model_module_version": "1.2.0",
          "state": {
            "_model_module": "@jupyter-widgets/base",
            "_model_module_version": "1.2.0",
            "_model_name": "LayoutModel",
            "_view_count": null,
            "_view_module": "@jupyter-widgets/base",
            "_view_module_version": "1.2.0",
            "_view_name": "LayoutView",
            "align_content": null,
            "align_items": null,
            "align_self": null,
            "border": null,
            "bottom": null,
            "display": null,
            "flex": null,
            "flex_flow": null,
            "grid_area": null,
            "grid_auto_columns": null,
            "grid_auto_flow": null,
            "grid_auto_rows": null,
            "grid_column": null,
            "grid_gap": null,
            "grid_row": null,
            "grid_template_areas": null,
            "grid_template_columns": null,
            "grid_template_rows": null,
            "height": null,
            "justify_content": null,
            "justify_items": null,
            "left": null,
            "margin": null,
            "max_height": null,
            "max_width": null,
            "min_height": null,
            "min_width": null,
            "object_fit": null,
            "object_position": null,
            "order": null,
            "overflow": null,
            "overflow_x": null,
            "overflow_y": null,
            "padding": null,
            "right": null,
            "top": null,
            "visibility": null,
            "width": null
          }
        },
        "6475306528264e74a5fcf9dd5e2408e4": {
          "model_module": "@jupyter-widgets/controls",
          "model_name": "DescriptionStyleModel",
          "model_module_version": "1.5.0",
          "state": {
            "_model_module": "@jupyter-widgets/controls",
            "_model_module_version": "1.5.0",
            "_model_name": "DescriptionStyleModel",
            "_view_count": null,
            "_view_module": "@jupyter-widgets/base",
            "_view_module_version": "1.2.0",
            "_view_name": "StyleView",
            "description_width": ""
          }
        },
        "738baf1c12f443d9ad23b5d3bf1b9b5b": {
          "model_module": "@jupyter-widgets/base",
          "model_name": "LayoutModel",
          "model_module_version": "1.2.0",
          "state": {
            "_model_module": "@jupyter-widgets/base",
            "_model_module_version": "1.2.0",
            "_model_name": "LayoutModel",
            "_view_count": null,
            "_view_module": "@jupyter-widgets/base",
            "_view_module_version": "1.2.0",
            "_view_name": "LayoutView",
            "align_content": null,
            "align_items": null,
            "align_self": null,
            "border": null,
            "bottom": null,
            "display": null,
            "flex": null,
            "flex_flow": null,
            "grid_area": null,
            "grid_auto_columns": null,
            "grid_auto_flow": null,
            "grid_auto_rows": null,
            "grid_column": null,
            "grid_gap": null,
            "grid_row": null,
            "grid_template_areas": null,
            "grid_template_columns": null,
            "grid_template_rows": null,
            "height": null,
            "justify_content": null,
            "justify_items": null,
            "left": null,
            "margin": null,
            "max_height": null,
            "max_width": null,
            "min_height": null,
            "min_width": null,
            "object_fit": null,
            "object_position": null,
            "order": null,
            "overflow": null,
            "overflow_x": null,
            "overflow_y": null,
            "padding": null,
            "right": null,
            "top": null,
            "visibility": null,
            "width": null
          }
        },
        "35313f2e2ac7417498657644ca0b5238": {
          "model_module": "@jupyter-widgets/controls",
          "model_name": "ProgressStyleModel",
          "model_module_version": "1.5.0",
          "state": {
            "_model_module": "@jupyter-widgets/controls",
            "_model_module_version": "1.5.0",
            "_model_name": "ProgressStyleModel",
            "_view_count": null,
            "_view_module": "@jupyter-widgets/base",
            "_view_module_version": "1.2.0",
            "_view_name": "StyleView",
            "bar_color": null,
            "description_width": ""
          }
        },
        "c57c0ac0390f42de9ef5aa18041022c4": {
          "model_module": "@jupyter-widgets/base",
          "model_name": "LayoutModel",
          "model_module_version": "1.2.0",
          "state": {
            "_model_module": "@jupyter-widgets/base",
            "_model_module_version": "1.2.0",
            "_model_name": "LayoutModel",
            "_view_count": null,
            "_view_module": "@jupyter-widgets/base",
            "_view_module_version": "1.2.0",
            "_view_name": "LayoutView",
            "align_content": null,
            "align_items": null,
            "align_self": null,
            "border": null,
            "bottom": null,
            "display": null,
            "flex": null,
            "flex_flow": null,
            "grid_area": null,
            "grid_auto_columns": null,
            "grid_auto_flow": null,
            "grid_auto_rows": null,
            "grid_column": null,
            "grid_gap": null,
            "grid_row": null,
            "grid_template_areas": null,
            "grid_template_columns": null,
            "grid_template_rows": null,
            "height": null,
            "justify_content": null,
            "justify_items": null,
            "left": null,
            "margin": null,
            "max_height": null,
            "max_width": null,
            "min_height": null,
            "min_width": null,
            "object_fit": null,
            "object_position": null,
            "order": null,
            "overflow": null,
            "overflow_x": null,
            "overflow_y": null,
            "padding": null,
            "right": null,
            "top": null,
            "visibility": null,
            "width": null
          }
        },
        "db535aabeb9e4c42bd17cdef00339d6f": {
          "model_module": "@jupyter-widgets/controls",
          "model_name": "DescriptionStyleModel",
          "model_module_version": "1.5.0",
          "state": {
            "_model_module": "@jupyter-widgets/controls",
            "_model_module_version": "1.5.0",
            "_model_name": "DescriptionStyleModel",
            "_view_count": null,
            "_view_module": "@jupyter-widgets/base",
            "_view_module_version": "1.2.0",
            "_view_name": "StyleView",
            "description_width": ""
          }
        }
      }
    },
    "accelerator": "GPU"
  },
  "nbformat": 4,
  "nbformat_minor": 0
}